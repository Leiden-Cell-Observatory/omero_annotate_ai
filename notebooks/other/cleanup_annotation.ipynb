{
 "cells": [
  {
   "cell_type": "markdown",
   "id": "360bd395",
   "metadata": {},
   "source": [
    "# Clean Up Annotations from OMERO Project\n",
    "\n",
    "This notebook demonstrates how to clean up annotations from an OMERO project using the omero-annotate-ai package."
   ]
  },
  {
   "cell_type": "code",
   "execution_count": null,
   "id": "50a7ca47",
   "metadata": {},
   "outputs": [],
   "source": [
    "import omero_annotate_ai\n",
    "from omero_annotate_ai import create_omero_connection_widget\n",
    "from omero_annotate_ai.omero.omero_functions import list_annotation_tables\n",
    "from omero_annotate_ai.omero.omero_utils import delete_table"
   ]
  },
  {
   "cell_type": "markdown",
   "id": "w5l65m8rvi",
   "metadata": {},
   "source": [
    "## Step 1: Connect to OMERO\n",
    "\n",
    "First, establish a connection to your OMERO server."
   ]
  },
  {
   "cell_type": "code",
   "execution_count": null,
   "id": "bisq0nbtdug",
   "metadata": {},
   "outputs": [],
   "source": [
    "# Connect to OMERO server\n",
    "conn_widget = create_omero_connection_widget()\n",
    "conn_widget.display()\n",
    "\n",
    "# Get the connection object\n",
    "conn = conn_widget.get_connection()"
   ]
  },
  {
   "cell_type": "markdown",
   "id": "pmtgkcnc3y9",
   "metadata": {},
   "source": [
    "## Step 2: List Annotation Tables\n",
    "\n",
    "View all annotation tables in your chosen container."
   ]
  },
  {
   "cell_type": "code",
   "execution_count": null,
   "id": "e4yk6vld2p",
   "metadata": {},
   "outputs": [],
   "source": [
    "# Specify your container type and ID (from the list above)\n",
    "container_type = \"Project\"  # or \"dataset\"\n",
    "container_id = 201  # Replace with actual ID from the list above\n",
    "conn = conn_widget.get_connection()\n",
    "# List all annotation tables in the container\n",
    "tables = list_annotation_tables(conn, container_type, container_id)\n",
    "print(f\"Found {len(tables)} annotation tables in {container_type} {container_id}:\")\n",
    "\n",
    "for table in tables:\n",
    "    print(f\"  - Table ID: {table['id']}, Name: {table['name']}\")\n",
    "    if 'progress_percent' in table:\n",
    "        print(f\"    Progress: {table['progress_percent']:.1f}% complete ({table['completed_units']}/{table['total_units']} units)\")"
   ]
  },
  {
   "cell_type": "markdown",
   "id": "pn3dhbt3kp",
   "metadata": {},
   "source": [
    "## Step 4: Delete Annotation Tables\n",
    "\n",
    "Remove specific annotation tables by their ID."
   ]
  },
  {
   "cell_type": "code",
   "execution_count": null,
   "id": "uzpvitwshi",
   "metadata": {},
   "outputs": [],
   "source": [
    "# Delete specific annotation table by ID\n",
    "table_id_to_delete = 1230  # Replace with the actual table ID you want to delete\n",
    "\n",
    "# Confirm deletion\n",
    "print(f\"Deleting annotation table with ID: {table_id_to_delete}\")\n",
    "success = delete_table(conn, table_id_to_delete)\n",
    "\n",
    "if success:\n",
    "    print(\"✅ Annotation table deleted successfully\")\n",
    "else:\n",
    "    print(\"❌ Failed to delete annotation table\")"
   ]
  },
  {
   "cell_type": "markdown",
   "id": "ijkbyknjk0a",
   "metadata": {},
   "source": [
    "## Step 5: Bulk Cleanup (Optional)\n",
    "\n",
    "For cleaning up multiple annotation tables at once."
   ]
  },
  {
   "cell_type": "code",
   "execution_count": null,
   "id": "wsquhmfzjsb",
   "metadata": {},
   "outputs": [],
   "source": [
    "# Bulk delete multiple annotation tables\n",
    "table_ids_to_delete = [456, 789, 101]  # Replace with actual table IDs\n",
    "\n",
    "print(f\"Deleting {len(table_ids_to_delete)} annotation tables...\")\n",
    "deleted_count = 0\n",
    "\n",
    "for table_id in table_ids_to_delete:\n",
    "    success = delete_table(conn, table_id)\n",
    "    if success:\n",
    "        print(f\"✅ Deleted table {table_id}\")\n",
    "        deleted_count += 1\n",
    "    else:\n",
    "        print(f\"❌ Failed to delete table {table_id}\")\n",
    "\n",
    "print(f\"\\nCleanup complete: {deleted_count}/{len(table_ids_to_delete)} tables deleted\")"
   ]
  },
  {
   "cell_type": "markdown",
   "id": "mcv955qgjoe",
   "metadata": {},
   "source": [
    "## Step 6: Complete Project Cleanup (Optional)\n",
    "\n",
    "Use the cleanup function to remove all omero-annotate-ai annotations from a project."
   ]
  },
  {
   "cell_type": "code",
   "execution_count": null,
   "id": "e9itd3o7s55",
   "metadata": {},
   "outputs": [],
   "source": [
    "from omero_annotate_ai.omero.omero_functions import cleanup_project_annotations\n",
    "\n",
    "# Complete project cleanup - removes all annotation tables, ROIs, and map annotations\n",
    "project_id = 201  # Replace with your actual project ID\n",
    "\n",
    "# Optional: specify training set name to only clean up specific annotations\n",
    "# trainingset_name = \"my_training_set\"  # Uncomment and set if needed\n",
    "trainingset_name = None  # Clean up all annotations\n",
    "\n",
    "print(f\"🧹 Starting cleanup of project {project_id}...\")\n",
    "results = cleanup_project_annotations(conn, project_id, trainingset_name)\n",
    "\n",
    "print(f\"\\n📊 Cleanup Results:\")\n",
    "print(f\"   Tables deleted: {results['tables']}\")\n",
    "print(f\"   ROIs deleted: {results['rois']}\")\n",
    "print(f\"   Map annotations deleted: {results['map_annotations']}\")\n",
    "print(f\"   Images processed: {results['images_processed']}\")"
   ]
  },
  {
   "cell_type": "code",
   "execution_count": null,
   "id": "6uj177qx2l3",
   "metadata": {},
   "outputs": [],
   "source": [
    "# Close the connection when done\n",
    "if conn:\n",
    "    conn.close()\n",
    "    print(\"Connection closed\")"
   ]
  }
 ],
 "metadata": {
  "kernelspec": {
   "display_name": "micro-sam",
   "language": "python",
   "name": "python3"
  },
  "language_info": {
   "codemirror_mode": {
    "name": "ipython",
    "version": 3
   },
   "file_extension": ".py",
   "mimetype": "text/x-python",
   "name": "python",
   "nbconvert_exporter": "python",
   "pygments_lexer": "ipython3",
   "version": "3.11.11"
  }
 },
 "nbformat": 4,
 "nbformat_minor": 5
}
