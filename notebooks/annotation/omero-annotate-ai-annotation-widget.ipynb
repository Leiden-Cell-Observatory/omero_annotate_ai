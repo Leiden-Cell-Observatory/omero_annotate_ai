{
 "cells": [
  {
   "cell_type": "markdown",
   "metadata": {},
   "source": [
    "# OMERO Image Annotation Workflow with micro-SAM\n",
    "This notebook guides you through annotating images in OMERO using the micro-SAM annotation plugin. Each step is explained clearly."
   ]
  },
  {
   "cell_type": "markdown",
   "metadata": {},
   "source": [
    "## 1. Setup and Installation\n",
    "Install and import the required libraries. Make sure you have access to OMERO and the omero-annotate-ai package."
   ]
  },
  {
   "cell_type": "code",
   "execution_count": 1,
   "metadata": {},
   "outputs": [
    {
     "name": "stdout",
     "output_type": "stream",
     "text": [
      "omero-annotate-ai version: 0.1.0\n",
      "OMERO functionality: Available\n"
     ]
    }
   ],
   "source": [
    "# Import the main package and check dependencies\n",
    "import omero_annotate_ai\n",
    "from omero_annotate_ai import (\n",
    "    create_omero_connection_widget,\n",
    "    create_workflow_widget,\n",
    "    create_pipeline\n",
    " )\n",
    "\n",
    "import os\n",
    "from pathlib import Path\n",
    "\n",
    "print(f\"omero-annotate-ai version: {omero_annotate_ai.__version__}\")\n",
    "try:\n",
    "    import ezomero\n",
    "    print(\"OMERO functionality: Available\")\n",
    "except ImportError:\n",
    "    print(\"OMERO functionality: Not available. Install with: pip install -e .[omero]\")"
   ]
  },
  {
   "cell_type": "markdown",
   "metadata": {},
   "source": [
    "## 2. Connect to OMERO\n",
    "Use the widget below to connect to your OMERO server. Fill in your server details and test the connection before proceeding."
   ]
  },
  {
   "cell_type": "code",
   "execution_count": null,
   "metadata": {},
   "outputs": [
    {
     "name": "stdout",
     "output_type": "stream",
     "text": [
      "OMERO Connection Setup\n",
      "Loaded configuration from connection history: root@localhost\n",
      "Password loaded from keychain (no expiration)\n"
     ]
    },
    {
     "data": {
      "application/vnd.jupyter.widget-view+json": {
       "model_id": "e8cbce70fc674de08644d0c642877650",
       "version_major": 2,
       "version_minor": 0
      },
      "text/plain": [
       "VBox(children=(HTML(value=\"\\n                <h3>🔌 OMERO Server Connection</h3>\\n                <div style='f…"
      ]
     },
     "metadata": {},
     "output_type": "display_data"
    },
    {
     "name": "stdout",
     "output_type": "stream",
     "text": [
      "\n",
      "After connecting, run the next cell to continue.\n"
     ]
    }
   ],
   "source": [
    "# Create and display the OMERO connection widget\n",
    "print(\"OMERO Connection Setup\")\n",
    "conn_widget = create_omero_connection_widget()\n",
    "conn_widget.display()\n",
    "print(\"\\nAfter connecting, run the next cell to continue.\")"
   ]
  },
  {
   "cell_type": "code",
   "execution_count": 3,
   "metadata": {},
   "outputs": [
    {
     "name": "stdout",
     "output_type": "stream",
     "text": [
      "OMERO connection established.\n"
     ]
    }
   ],
   "source": [
    "# Get the OMERO connection\n",
    "conn = conn_widget.get_connection()\n",
    "\n",
    "if conn is None:\n",
    "    raise ConnectionError(\"No OMERO connection established. Please use the widget above to connect.\")\n",
    "\n",
    "print(\"OMERO connection established.\")"
   ]
  },
  {
   "cell_type": "markdown",
   "metadata": {},
   "source": [
    "## 3. Configure the Annotation Workflow\n",
    "Set up your annotation workflow using the widget below. Select your working directory, OMERO container, and configure annotation parameters."
   ]
  },
  {
   "cell_type": "code",
   "execution_count": 4,
   "metadata": {},
   "outputs": [
    {
     "name": "stdout",
     "output_type": "stream",
     "text": [
      "Annotation Workflow Setup\n"
     ]
    },
    {
     "data": {
      "application/vnd.jupyter.widget-view+json": {
       "model_id": "3e35302f1d214e7ea5fd6e4dac465e53",
       "version_major": 2,
       "version_minor": 0
      },
      "text/plain": [
       "VBox(children=(HTML(value='<h3>🔬 OMERO Annotation Workflow</h3>', layout=Layout(margin='0 0 20px 0')), IntProg…"
      ]
     },
     "metadata": {},
     "output_type": "display_data"
    },
    {
     "name": "stdout",
     "output_type": "stream",
     "text": [
      "\n",
      "After completing the workflow, run the next cell.\n"
     ]
    }
   ],
   "source": [
    "# Create and display the workflow widget\n",
    "print(\"Annotation Workflow Setup\")\n",
    "workflow_widget = create_workflow_widget(connection=conn)\n",
    "workflow_widget.display()\n",
    "print(\"\\nAfter completing the workflow, run the next cell.\")"
   ]
  },
  {
   "cell_type": "markdown",
   "metadata": {},
   "source": [
    "## 4. Review and Run the Annotation Pipeline\n",
    "Preview your configuration, validate your OMERO selection, and run the annotation pipeline."
   ]
  },
  {
   "cell_type": "markdown",
   "metadata": {},
   "source": [
    "#### 4.1. Configuration summary"
   ]
  },
  {
   "cell_type": "code",
   "execution_count": 5,
   "metadata": {},
   "outputs": [
    {
     "name": "stdout",
     "output_type": "stream",
     "text": [
      "Configuration Summary:\n",
      "Container: screen (ID: 1203)\n",
      "Training Set: default_annotation_workflow\n",
      "Model: vit_b_lm\n",
      "Channel: [0]\n",
      "Output: C:\\Users\\Maarten\\omero_annotate_ai\\omero_annotations2\n",
      "Resume from Table: False\n",
      "Read-only Mode: True\n",
      "Patches: 1 per image (512×512)\n"
     ]
    }
   ],
   "source": [
    "# Get configuration from workflow widget\n",
    "config = workflow_widget.get_config()\n",
    "\n",
    "print(\"Configuration Summary:\")\n",
    "print(f\"Container: {config.omero.container_type} (ID: {config.omero.container_id})\")\n",
    "print(f\"Training Set: {config.name}\")\n",
    "print(f\"Model: {config.ai_model.model_type}\")\n",
    "print(f\"Channel: {config.spatial_coverage.channels}\")\n",
    "print(f\"Output: {config.output.output_directory}\")\n",
    "print(f\"Resume from Table: {config.workflow.resume_from_table}\")\n",
    "print(f\"Read-only Mode: {config.workflow.read_only_mode}\")\n",
    "\n",
    "if config.processing.use_patches:\n",
    "    print(f\"Patches: {config.processing.patches_per_image} per image ({config.processing.patch_size[0]}×{config.processing.patch_size[1]})\")\n",
    "\n",
    "if config.spatial_coverage.three_d:\n",
    "    print(\"3D processing: Enabled\")"
   ]
  },
  {
   "cell_type": "markdown",
   "metadata": {},
   "source": [
    "#### 4.2. Convert configuration to an annotation pipeline"
   ]
  },
  {
   "cell_type": "code",
   "execution_count": 6,
   "metadata": {},
   "outputs": [
    {
     "name": "stdout",
     "output_type": "stream",
     "text": [
      "Validating screen with ID 1203...\n",
      "Found screen: idr0019-sero-nfkappab/screenA\n"
     ]
    }
   ],
   "source": [
    "# Create pipeline and preview what will be processed\n",
    "pipeline = create_pipeline(config, conn)\n",
    "\n",
    "container_type = config.omero.container_type\n",
    "container_id = config.omero.container_id\n",
    "\n",
    "print(f\"Validating {container_type} with ID {container_id}...\")\n",
    "container = conn.getObject(container_type.capitalize(), container_id)\n",
    "if container is None:\n",
    "    raise ValueError(f\"{container_type.capitalize()} with ID {container_id} not found\")\n",
    "print(f\"Found {container_type}: {container.getName()}\")"
   ]
  },
  {
   "cell_type": "markdown",
   "metadata": {},
   "source": [
    "#### 4.3. Run the annotation pipeline on the files\n",
    "After loading of the files the napari will open for you to annotate the images"
   ]
  },
  {
   "cell_type": "code",
   "execution_count": 7,
   "metadata": {},
   "outputs": [
    {
     "name": "stdout",
     "output_type": "stream",
     "text": [
      "Starting annotation pipeline...\n",
      "Using micro-SAM model: vit_b_lm\n",
      "Processing: All images in one batch\n",
      "Napari will open for interactive annotation.\n",
      "Loading image IDs from screen 1203\n",
      "Found 25872 image IDs\n",
      "Loaded 7 images (by ID)\n",
      "Defining annotation schema...\n",
      "⚠️ Image smaller than patch size, using full image\n",
      "⚠️ Image smaller than patch size, using full image\n",
      "⚠️ Image smaller than patch size, using full image\n",
      "⚠️ Image smaller than patch size, using full image\n",
      "⚠️ Image smaller than patch size, using full image\n",
      "⚠️ Image smaller than patch size, using full image\n",
      "⚠️ Image smaller than patch size, using full image\n",
      "Schema defined: 7 annotations\n",
      "Read-only mode: Skipping OMERO table creation\n",
      "Running micro-SAM annotation on 7 unprocessed annotations\n",
      "\n",
      "🔄 Processing batch 1/1\n",
      "   📦 Batch size: 7\n",
      "   📊 Config state before: 0/7 processed\n",
      "   🎨 Running annotation...\n",
      "Loading 1 images using dask...\n",
      "Materializing dask arrays to numpy...\n",
      "   Processing chunk 1/1\n",
      "Successfully loaded 1 images\n",
      "Loaded 2D data shape: (501, 668)\n",
      "Loading 1 images using dask...\n",
      "Materializing dask arrays to numpy...\n",
      "   Processing chunk 1/1\n",
      "Successfully loaded 1 images\n",
      "Loaded 2D data shape: (501, 668)\n",
      "Loading 1 images using dask...\n",
      "Materializing dask arrays to numpy...\n",
      "   Processing chunk 1/1\n",
      "Successfully loaded 1 images\n",
      "Loaded 2D data shape: (501, 668)\n",
      "Loading 1 images using dask...\n",
      "Materializing dask arrays to numpy...\n",
      "   Processing chunk 1/1\n",
      "Successfully loaded 1 images\n",
      "Loaded 2D data shape: (501, 668)\n",
      "Loading 1 images using dask...\n",
      "Materializing dask arrays to numpy...\n",
      "   Processing chunk 1/1\n",
      "Successfully loaded 1 images\n",
      "Loaded 2D data shape: (501, 668)\n",
      "Loading 1 images using dask...\n",
      "Materializing dask arrays to numpy...\n",
      "   Processing chunk 1/1\n",
      "Successfully loaded 1 images\n",
      "Loaded 2D data shape: (501, 668)\n",
      "Loading 1 images using dask...\n",
      "Materializing dask arrays to numpy...\n",
      "   Processing chunk 1/1\n",
      "Successfully loaded 1 images\n",
      "Loaded 2D data shape: (501, 668)\n"
     ]
    },
    {
     "name": "stderr",
     "output_type": "stream",
     "text": [
      "Updating file 'vit_b_lm' from 'https://uk1s3.embassy.ebi.ac.uk/public-datasets/bioimage.io/diplomatic-bug/1.2/files/vit_b.pt' to 'C:\\Users\\Maarten\\AppData\\Local\\micro_sam\\micro_sam\\Cache\\models'.\n",
      "100%|########################################| 375M/375M [00:00<00:00, 230GB/s]\n",
      "Updating file 'vit_b_lm_decoder' from 'https://uk1s3.embassy.ebi.ac.uk/public-datasets/bioimage.io/diplomatic-bug/1.2/files/vit_b_decoder.pt' to 'C:\\Users\\Maarten\\AppData\\Local\\micro_sam\\micro_sam\\Cache\\models'.\n",
      "100%|#####################################| 38.4M/38.4M [00:00<00:00, 18.9GB/s]\n",
      "Precompute state for files: 100%|██████████| 7/7 [01:17<00:00, 11.07s/it]\n"
     ]
    },
    {
     "name": "stdout",
     "output_type": "stream",
     "text": [
      "Precomputation took 94.12706422805786 seconds (= 01:34 minutes)\n",
      "The first image to annotate is image number 0\n",
      "INFO: Computed embeddings for the 'Light Microscopy' model of size 'base'.\n",
      "Loading next image: at index 1\n",
      "Loading next image: at index 2\n",
      "Loading next image: at index 3\n",
      "Loading next image: at index 4\n",
      "Loading next image: at index 5\n",
      "Loading next image: at index 6\n",
      "   ✅ Annotation completed, got results: <class 'dict'>\n",
      "   🔄 Processing annotation results...\n",
      "� Processing annotation results...\n",
      "Found 7 annotation files for 7 metadata entries\n",
      "📊 Updated 7/7 annotations\n",
      "📈 Config now has 7/7 processed annotations\n",
      "   📊 Config state after: 7/7 processed\n",
      "   💾 Auto-saving config...\n",
      "✅ Configuration saved to: C:\\Users\\Maarten\\omero_annotate_ai\\omero_annotations2\\annotation_config.yaml\n",
      "Config state saved to: C:\\Users\\Maarten\\omero_annotate_ai\\omero_annotations2\\annotation_config.yaml\n",
      "   ✅ Config saved\n",
      "✅ Configuration saved to: C:\\Users\\Maarten\\omero_annotate_ai\\omero_annotations2\\annotation_config.yaml\n",
      "Config state saved to: C:\\Users\\Maarten\\omero_annotate_ai\\omero_annotations2\\annotation_config.yaml\n"
     ]
    },
    {
     "name": "stderr",
     "output_type": "stream",
     "text": [
      "WARNING:omero.gateway:ApiUsageException on <class 'omero.gateway.OmeroGatewaySafeCallWrapper'> to <ef7b33ba-7adf-419b-9e52-0cf8da4d8fafomero.api.IUpdate> saveAndReturnObject((object #0 (::omero::model::OriginalFile)\n",
      "{\n",
      "    _id = <nil>\n",
      "    _details = object #1 (::omero::model::Details)\n",
      "    {\n",
      "        _owner = <nil>\n",
      "        _group = <nil>\n",
      "        _creationEvent = <nil>\n",
      "        _updateEvent = <nil>\n",
      "        _permissions = <nil>\n",
      "        _externalInfo = <nil>\n",
      "        _call = {}\n",
      "        _event = <nil>\n",
      "    }\n",
      "    _loaded = True\n",
      "    _version = <nil>\n",
      "    _pixelsFileMapsSeq = \n",
      "    {\n",
      "    }\n",
      "    _pixelsFileMapsLoaded = True\n",
      "    _pixelsFileMapsCountPerOwner = {}\n",
      "    _path = object #2 (::omero::RString)\n",
      "    {\n",
      "        _val = C:\\Users\\Maarten\\omero_annotate_ai\\omero_annotations2\n",
      "    }\n",
      "    _repo = <nil>\n",
      "    _size = object #3 (::omero::RLong)\n",
      "    {\n",
      "        _val = 5479\n",
      "    }\n",
      "    _atime = <nil>\n",
      "    _mtime = <nil>\n",
      "    _ctime = <nil>\n",
      "    _hasher = object #4 (::omero::model::ChecksumAlgorithm)\n",
      "    {\n",
      "        _id = <nil>\n",
      "        _details = object #5 (::omero::model::Details)\n",
      "        {\n",
      "            _owner = <nil>\n",
      "            _group = <nil>\n",
      "            _creationEvent = <nil>\n",
      "            _updateEvent = <nil>\n",
      "            _permissions = <nil>\n",
      "            _externalInfo = <nil>\n",
      "            _call = {}\n",
      "            _event = <nil>\n",
      "        }\n",
      "        _loaded = True\n",
      "        _value = object #6 (::omero::RString)\n",
      "        {\n",
      "            _val = SHA1-160\n",
      "        }\n",
      "    }\n",
      "    _hash = object #7 (::omero::RString)\n",
      "    {\n",
      "        _val = feac8949c6d2d7247bc9e90f4f2a8f0a627f8fd5\n",
      "    }\n",
      "    _mimetype = <nil>\n",
      "    _filesetEntriesSeq = \n",
      "    {\n",
      "    }\n",
      "    _filesetEntriesLoaded = True\n",
      "    _annotationLinksSeq = \n",
      "    {\n",
      "    }\n",
      "    _annotationLinksLoaded = True\n",
      "    _annotationLinksCountPerOwner = {}\n",
      "    _name = object #8 (::omero::RString)\n",
      "    {\n",
      "        _val = annotation_config.yaml\n",
      "    }\n",
      "}, <ServiceOptsDict: {'omero.client.uuid': 'ef7b33ba-7adf-419b-9e52-0cf8da4d8faf', 'omero.event': 'Internal', 'omero.session.uuid': '600d57c2-4fc5-4329-b2c3-6d304584eb37', 'omero.group': '3'}>), {})\n",
      "Traceback (most recent call last):\n",
      "  File \"c:\\Users\\Maarten\\Documents\\Github\\omero_annotate_ai\\.pixi\\envs\\dev\\Lib\\site-packages\\omero\\gateway\\__init__.py\", line 4856, in __call__\n",
      "    return self.f(*args, **kwargs)\n",
      "           ^^^^^^^^^^^^^^^^^^^^^^^\n",
      "  File \"c:\\Users\\Maarten\\Documents\\Github\\omero_annotate_ai\\.pixi\\envs\\dev\\Lib\\site-packages\\omero_api_IUpdate_ice.py\", line 163, in saveAndReturnObject\n",
      "    return _M_omero.api.IUpdate._op_saveAndReturnObject.invoke(self, ((obj, ), _ctx))\n",
      "           ^^^^^^^^^^^^^^^^^^^^^^^^^^^^^^^^^^^^^^^^^^^^^^^^^^^^^^^^^^^^^^^^^^^^^^^^^^\n",
      "omero.ApiUsageException: exception ::omero::ApiUsageException\n",
      "{\n",
      "    serverStackTrace = ome.conditions.ApiUsageException: This instance is read-only\n",
      "\tat ome.security.basic.EventHandler.invoke(EventHandler.java:136)\n",
      "\tat org.springframework.aop.framework.ReflectiveMethodInvocation.proceed(ReflectiveMethodInvocation.java:179)\n",
      "\tat org.springframework.orm.hibernate3.HibernateInterceptor.invoke(HibernateInterceptor.java:119)\n",
      "\tat org.springframework.aop.framework.ReflectiveMethodInvocation.proceed(ReflectiveMethodInvocation.java:179)\n",
      "\tat org.springframework.transaction.interceptor.TransactionInterceptor$1.proceedWithInvocation(TransactionInterceptor.java:99)\n",
      "\tat org.springframework.transaction.interceptor.TransactionAspectSupport.invokeWithinTransaction(TransactionAspectSupport.java:282)\n",
      "\tat org.springframework.transaction.interceptor.TransactionInterceptor.invoke(TransactionInterceptor.java:96)\n",
      "\tat org.springframework.aop.framework.ReflectiveMethodInvocation.proceed(ReflectiveMethodInvocation.java:179)\n",
      "\tat ome.tools.hibernate.ProxyCleanupFilter$Interceptor.invoke(ProxyCleanupFilter.java:249)\n",
      "\tat org.springframework.aop.framework.ReflectiveMethodInvocation.proceed(ReflectiveMethodInvocation.java:179)\n",
      "\tat ome.services.util.ServiceHandler.invoke(ServiceHandler.java:121)\n",
      "\tat org.springframework.aop.framework.ReflectiveMethodInvocation.proceed(ReflectiveMethodInvocation.java:179)\n",
      "\tat org.springframework.aop.framework.JdkDynamicAopProxy.invoke(JdkDynamicAopProxy.java:213)\n",
      "\tat com.sun.proxy.$Proxy131.saveAndReturnObject(Unknown Source)\n",
      "\tat java.base/jdk.internal.reflect.NativeMethodAccessorImpl.invoke0(Native Method)\n",
      "\tat java.base/jdk.internal.reflect.NativeMethodAccessorImpl.invoke(NativeMethodAccessorImpl.java:62)\n",
      "\tat java.base/jdk.internal.reflect.DelegatingMethodAccessorImpl.invoke(DelegatingMethodAccessorImpl.java:43)\n",
      "\tat java.base/java.lang.reflect.Method.invoke(Method.java:566)\n",
      "\tat org.springframework.aop.support.AopUtils.invokeJoinpointUsingReflection(AopUtils.java:333)\n",
      "\tat org.springframework.aop.framework.ReflectiveMethodInvocation.invokeJoinpoint(ReflectiveMethodInvocation.java:190)\n",
      "\tat org.springframework.aop.framework.ReflectiveMethodInvocation.proceed(ReflectiveMethodInvocation.java:157)\n",
      "\tat ome.security.basic.BasicSecurityWiring.invoke(BasicSecurityWiring.java:93)\n",
      "\tat org.springframework.aop.framework.ReflectiveMethodInvocation.proceed(ReflectiveMethodInvocation.java:179)\n",
      "\tat ome.services.blitz.fire.AopContextInitializer.invoke(AopContextInitializer.java:43)\n",
      "\tat org.springframework.aop.framework.ReflectiveMethodInvocation.proceed(ReflectiveMethodInvocation.java:179)\n",
      "\tat org.springframework.aop.framework.JdkDynamicAopProxy.invoke(JdkDynamicAopProxy.java:213)\n",
      "\tat com.sun.proxy.$Proxy131.saveAndReturnObject(Unknown Source)\n",
      "\tat java.base/jdk.internal.reflect.NativeMethodAccessorImpl.invoke0(Native Method)\n",
      "\tat java.base/jdk.internal.reflect.NativeMethodAccessorImpl.invoke(NativeMethodAccessorImpl.java:62)\n",
      "\tat java.base/jdk.internal.reflect.DelegatingMethodAccessorImpl.invoke(DelegatingMethodAccessorImpl.java:43)\n",
      "\tat java.base/java.lang.reflect.Method.invoke(Method.java:566)\n",
      "\tat ome.services.blitz.util.IceMethodInvoker.invoke(IceMethodInvoker.java:172)\n",
      "\tat ome.services.throttling.Callback.run(Callback.java:56)\n",
      "\tat ome.services.throttling.InThreadThrottlingStrategy.callInvokerOnRawArgs(InThreadThrottlingStrategy.java:56)\n",
      "\tat ome.services.blitz.impl.AbstractAmdServant.callInvokerOnRawArgs(AbstractAmdServant.java:140)\n",
      "\tat ome.services.blitz.impl.UpdateI.saveAndReturnObject_async(UpdateI.java:62)\n",
      "\tat java.base/jdk.internal.reflect.NativeMethodAccessorImpl.invoke0(Native Method)\n",
      "\tat java.base/jdk.internal.reflect.NativeMethodAccessorImpl.invoke(NativeMethodAccessorImpl.java:62)\n",
      "\tat java.base/jdk.internal.reflect.DelegatingMethodAccessorImpl.invoke(DelegatingMethodAccessorImpl.java:43)\n",
      "\tat java.base/java.lang.reflect.Method.invoke(Method.java:566)\n",
      "\tat org.springframework.aop.support.AopUtils.invokeJoinpointUsingReflection(AopUtils.java:333)\n",
      "\tat org.springframework.aop.framework.ReflectiveMethodInvocation.invokeJoinpoint(ReflectiveMethodInvocation.java:190)\n",
      "\tat org.springframework.aop.framework.ReflectiveMethodInvocation.proceed(ReflectiveMethodInvocation.java:157)\n",
      "\tat omero.cmd.CallContext.invoke(CallContext.java:85)\n",
      "\tat org.springframework.aop.framework.ReflectiveMethodInvocation.proceed(ReflectiveMethodInvocation.java:179)\n",
      "\tat org.springframework.aop.framework.JdkDynamicAopProxy.invoke(JdkDynamicAopProxy.java:213)\n",
      "\tat com.sun.proxy.$Proxy132.saveAndReturnObject_async(Unknown Source)\n",
      "\tat omero.api._IUpdateTie.saveAndReturnObject_async(_IUpdateTie.java:92)\n",
      "\tat omero.api._IUpdateDisp.___saveAndReturnObject(_IUpdateDisp.java:229)\n",
      "\tat omero.api._IUpdateDisp.__dispatch(_IUpdateDisp.java:423)\n",
      "\tat IceInternal.Incoming.invoke(Incoming.java:221)\n",
      "\tat Ice.ConnectionI.invokeAll(ConnectionI.java:2536)\n",
      "\tat Ice.ConnectionI.dispatch(ConnectionI.java:1145)\n",
      "\tat Ice.ConnectionI.message(ConnectionI.java:1056)\n",
      "\tat IceInternal.ThreadPool.run(ThreadPool.java:395)\n",
      "\tat IceInternal.ThreadPool.access$300(ThreadPool.java:12)\n",
      "\tat IceInternal.ThreadPool$EventHandlerThread.run(ThreadPool.java:832)\n",
      "\tat java.base/java.lang.Thread.run(Thread.java:829)\n",
      "\n",
      "    serverExceptionClass = ome.conditions.ApiUsageException\n",
      "    message = This instance is read-only\n",
      "}\n"
     ]
    },
    {
     "name": "stdout",
     "output_type": "stream",
     "text": [
      "Error during annotation pipeline: exception ::omero::ApiUsageException\n",
      "{\n",
      "    serverStackTrace = ome.conditions.ApiUsageException: This instance is read-only\n",
      "\tat ome.security.basic.EventHandler.invoke(EventHandler.java:136)\n",
      "\tat org.springframework.aop.framework.ReflectiveMethodInvocation.proceed(ReflectiveMethodInvocation.java:179)\n",
      "\tat org.springframework.orm.hibernate3.HibernateInterceptor.invoke(HibernateInterceptor.java:119)\n",
      "\tat org.springframework.aop.framework.ReflectiveMethodInvocation.proceed(ReflectiveMethodInvocation.java:179)\n",
      "\tat org.springframework.transaction.interceptor.TransactionInterceptor$1.proceedWithInvocation(TransactionInterceptor.java:99)\n",
      "\tat org.springframework.transaction.interceptor.TransactionAspectSupport.invokeWithinTransaction(TransactionAspectSupport.java:282)\n",
      "\tat org.springframework.transaction.interceptor.TransactionInterceptor.invoke(TransactionInterceptor.java:96)\n",
      "\tat org.springframework.aop.framework.ReflectiveMethodInvocation.proceed(ReflectiveMethodInvocation.java:179)\n",
      "\tat ome.tools.hibernate.ProxyCleanupFilter$Interceptor.invoke(ProxyCleanupFilter.java:249)\n",
      "\tat org.springframework.aop.framework.ReflectiveMethodInvocation.proceed(ReflectiveMethodInvocation.java:179)\n",
      "\tat ome.services.util.ServiceHandler.invoke(ServiceHandler.java:121)\n",
      "\tat org.springframework.aop.framework.ReflectiveMethodInvocation.proceed(ReflectiveMethodInvocation.java:179)\n",
      "\tat org.springframework.aop.framework.JdkDynamicAopProxy.invoke(JdkDynamicAopProxy.java:213)\n",
      "\tat com.sun.proxy.$Proxy131.saveAndReturnObject(Unknown Source)\n",
      "\tat java.base/jdk.internal.reflect.NativeMethodAccessorImpl.invoke0(Native Method)\n",
      "\tat java.base/jdk.internal.reflect.NativeMethodAccessorImpl.invoke(NativeMethodAccessorImpl.java:62)\n",
      "\tat java.base/jdk.internal.reflect.DelegatingMethodAccessorImpl.invoke(DelegatingMethodAccessorImpl.java:43)\n",
      "\tat java.base/java.lang.reflect.Method.invoke(Method.java:566)\n",
      "\tat org.springframework.aop.support.AopUtils.invokeJoinpointUsingReflection(AopUtils.java:333)\n",
      "\tat org.springframework.aop.framework.ReflectiveMethodInvocation.invokeJoinpoint(ReflectiveMethodInvocation.java:190)\n",
      "\tat org.springframework.aop.framework.ReflectiveMethodInvocation.proceed(ReflectiveMethodInvocation.java:157)\n",
      "\tat ome.security.basic.BasicSecurityWiring.invoke(BasicSecurityWiring.java:93)\n",
      "\tat org.springframework.aop.framework.ReflectiveMethodInvocation.proceed(ReflectiveMethodInvocation.java:179)\n",
      "\tat ome.services.blitz.fire.AopContextInitializer.invoke(AopContextInitializer.java:43)\n",
      "\tat org.springframework.aop.framework.ReflectiveMethodInvocation.proceed(ReflectiveMethodInvocation.java:179)\n",
      "\tat org.springframework.aop.framework.JdkDynamicAopProxy.invoke(JdkDynamicAopProxy.java:213)\n",
      "\tat com.sun.proxy.$Proxy131.saveAndReturnObject(Unknown Source)\n",
      "\tat java.base/jdk.internal.reflect.NativeMethodAccessorImpl.invoke0(Native Method)\n",
      "\tat java.base/jdk.internal.reflect.NativeMethodAccessorImpl.invoke(NativeMethodAccessorImpl.java:62)\n",
      "\tat java.base/jdk.internal.reflect.DelegatingMethodAccessorImpl.invoke(DelegatingMethodAccessorImpl.java:43)\n",
      "\tat java.base/java.lang.reflect.Method.invoke(Method.java:566)\n",
      "\tat ome.services.blitz.util.IceMethodInvoker.invoke(IceMethodInvoker.java:172)\n",
      "\tat ome.services.throttling.Callback.run(Callback.java:56)\n",
      "\tat ome.services.throttling.InThreadThrottlingStrategy.callInvokerOnRawArgs(InThreadThrottlingStrategy.java:56)\n",
      "\tat ome.services.blitz.impl.AbstractAmdServant.callInvokerOnRawArgs(AbstractAmdServant.java:140)\n",
      "\tat ome.services.blitz.impl.UpdateI.saveAndReturnObject_async(UpdateI.java:62)\n",
      "\tat java.base/jdk.internal.reflect.NativeMethodAccessorImpl.invoke0(Native Method)\n",
      "\tat java.base/jdk.internal.reflect.NativeMethodAccessorImpl.invoke(NativeMethodAccessorImpl.java:62)\n",
      "\tat java.base/jdk.internal.reflect.DelegatingMethodAccessorImpl.invoke(DelegatingMethodAccessorImpl.java:43)\n",
      "\tat java.base/java.lang.reflect.Method.invoke(Method.java:566)\n",
      "\tat org.springframework.aop.support.AopUtils.invokeJoinpointUsingReflection(AopUtils.java:333)\n",
      "\tat org.springframework.aop.framework.ReflectiveMethodInvocation.invokeJoinpoint(ReflectiveMethodInvocation.java:190)\n",
      "\tat org.springframework.aop.framework.ReflectiveMethodInvocation.proceed(ReflectiveMethodInvocation.java:157)\n",
      "\tat omero.cmd.CallContext.invoke(CallContext.java:85)\n",
      "\tat org.springframework.aop.framework.ReflectiveMethodInvocation.proceed(ReflectiveMethodInvocation.java:179)\n",
      "\tat org.springframework.aop.framework.JdkDynamicAopProxy.invoke(JdkDynamicAopProxy.java:213)\n",
      "\tat com.sun.proxy.$Proxy132.saveAndReturnObject_async(Unknown Source)\n",
      "\tat omero.api._IUpdateTie.saveAndReturnObject_async(_IUpdateTie.java:92)\n",
      "\tat omero.api._IUpdateDisp.___saveAndReturnObject(_IUpdateDisp.java:229)\n",
      "\tat omero.api._IUpdateDisp.__dispatch(_IUpdateDisp.java:423)\n",
      "\tat IceInternal.Incoming.invoke(Incoming.java:221)\n",
      "\tat Ice.ConnectionI.invokeAll(ConnectionI.java:2536)\n",
      "\tat Ice.ConnectionI.dispatch(ConnectionI.java:1145)\n",
      "\tat Ice.ConnectionI.message(ConnectionI.java:1056)\n",
      "\tat IceInternal.ThreadPool.run(ThreadPool.java:395)\n",
      "\tat IceInternal.ThreadPool.access$300(ThreadPool.java:12)\n",
      "\tat IceInternal.ThreadPool$EventHandlerThread.run(ThreadPool.java:832)\n",
      "\tat java.base/java.lang.Thread.run(Thread.java:829)\n",
      "\n",
      "    serverExceptionClass = ome.conditions.ApiUsageException\n",
      "    message = This instance is read-only\n",
      "}\n"
     ]
    },
    {
     "name": "stderr",
     "output_type": "stream",
     "text": [
      "Traceback (most recent call last):\n",
      "  File \"C:\\Users\\Maarten\\AppData\\Local\\Temp\\ipykernel_32884\\3089686605.py\", line 14, in <module>\n",
      "    table_id, updated_config = pipeline.run_full_microsam_workflow()\n",
      "                               ^^^^^^^^^^^^^^^^^^^^^^^^^^^^^^^^^^^^^\n",
      "  File \"C:\\Users\\Maarten\\Documents\\Github\\omero_annotate_ai\\src\\omero_annotate_ai\\core\\annotation_pipeline.py\", line 1136, in run_full_microsam_workflow\n",
      "    return self.run_microsam_annotation()\n",
      "           ^^^^^^^^^^^^^^^^^^^^^^^^^^^^^^\n",
      "  File \"C:\\Users\\Maarten\\Documents\\Github\\omero_annotate_ai\\src\\omero_annotate_ai\\core\\annotation_pipeline.py\", line 1037, in run_microsam_annotation\n",
      "    self._finalize_workflow(processed_count)\n",
      "  File \"C:\\Users\\Maarten\\Documents\\Github\\omero_annotate_ai\\src\\omero_annotate_ai\\core\\annotation_pipeline.py\", line 1007, in _finalize_workflow\n",
      "    self._upload_annotation_config_to_omero()\n",
      "  File \"C:\\Users\\Maarten\\Documents\\Github\\omero_annotate_ai\\src\\omero_annotate_ai\\core\\annotation_pipeline.py\", line 355, in _upload_annotation_config_to_omero\n",
      "    id = upload_annotation_config_to_omero(\n",
      "         ^^^^^^^^^^^^^^^^^^^^^^^^^^^^^^^^^^\n",
      "  File \"C:\\Users\\Maarten\\Documents\\Github\\omero_annotate_ai\\src\\omero_annotate_ai\\omero\\omero_functions.py\", line 147, in upload_annotation_config_to_omero\n",
      "    id = ezomero.post_file_annotation(conn,\n",
      "        ^^^^^^^^^^^^^^^^^^^^^^^^^^^^^^^^^^\n",
      "  File \"c:\\Users\\Maarten\\Documents\\Github\\omero_annotate_ai\\.pixi\\envs\\dev\\Lib\\site-packages\\ezomero\\_ezomero.py\", line 63, in wrapper\n",
      "    res = f(*args, **kwargs)\n",
      "          ^^^^^^^^^^^^^^^^^^\n",
      "  File \"c:\\Users\\Maarten\\Documents\\Github\\omero_annotate_ai\\.pixi\\envs\\dev\\Lib\\site-packages\\ezomero\\_posts.py\", line 465, in post_file_annotation\n",
      "    file_ann = conn.createFileAnnfromLocalFile(\n",
      "               ^^^^^^^^^^^^^^^^^^^^^^^^^^^^^^^^\n",
      "  File \"c:\\Users\\Maarten\\Documents\\Github\\omero_annotate_ai\\.pixi\\envs\\dev\\Lib\\site-packages\\omero\\gateway\\__init__.py\", line 4146, in createFileAnnfromLocalFile\n",
      "    originalFile = self.createOriginalFileFromLocalFile(\n",
      "                   ^^^^^^^^^^^^^^^^^^^^^^^^^^^^^^^^^^^^^\n",
      "  File \"c:\\Users\\Maarten\\Documents\\Github\\omero_annotate_ai\\.pixi\\envs\\dev\\Lib\\site-packages\\omero\\gateway\\__init__.py\", line 4121, in createOriginalFileFromLocalFile\n",
      "    return self.createOriginalFileFromFileObj(fileHandle, path, name,\n",
      "           ^^^^^^^^^^^^^^^^^^^^^^^^^^^^^^^^^^^^^^^^^^^^^^^^^^^^^^^^^^\n",
      "  File \"c:\\Users\\Maarten\\Documents\\Github\\omero_annotate_ai\\.pixi\\envs\\dev\\Lib\\site-packages\\omero\\gateway\\__init__.py\", line 4069, in createOriginalFileFromFileObj\n",
      "    originalFile = updateService.saveAndReturnObject(\n",
      "                   ^^^^^^^^^^^^^^^^^^^^^^^^^^^^^^^^^^\n",
      "  File \"c:\\Users\\Maarten\\Documents\\Github\\omero_annotate_ai\\.pixi\\envs\\dev\\Lib\\site-packages\\omero\\gateway\\__init__.py\", line 4859, in __call__\n",
      "    return self.handle_exception(e, *args, **kwargs)\n",
      "           ^^^^^^^^^^^^^^^^^^^^^^^^^^^^^^^^^^^^^^^^^\n",
      "  File \"c:\\Users\\Maarten\\Documents\\Github\\omero_annotate_ai\\.pixi\\envs\\dev\\Lib\\site-packages\\omero\\gateway\\__init__.py\", line 4856, in __call__\n",
      "    return self.f(*args, **kwargs)\n",
      "           ^^^^^^^^^^^^^^^^^^^^^^^\n",
      "  File \"c:\\Users\\Maarten\\Documents\\Github\\omero_annotate_ai\\.pixi\\envs\\dev\\Lib\\site-packages\\omero_api_IUpdate_ice.py\", line 163, in saveAndReturnObject\n",
      "    return _M_omero.api.IUpdate._op_saveAndReturnObject.invoke(self, ((obj, ), _ctx))\n",
      "           ^^^^^^^^^^^^^^^^^^^^^^^^^^^^^^^^^^^^^^^^^^^^^^^^^^^^^^^^^^^^^^^^^^^^^^^^^^\n",
      "omero.ApiUsageException: exception ::omero::ApiUsageException\n",
      "{\n",
      "    serverStackTrace = ome.conditions.ApiUsageException: This instance is read-only\n",
      "\tat ome.security.basic.EventHandler.invoke(EventHandler.java:136)\n",
      "\tat org.springframework.aop.framework.ReflectiveMethodInvocation.proceed(ReflectiveMethodInvocation.java:179)\n",
      "\tat org.springframework.orm.hibernate3.HibernateInterceptor.invoke(HibernateInterceptor.java:119)\n",
      "\tat org.springframework.aop.framework.ReflectiveMethodInvocation.proceed(ReflectiveMethodInvocation.java:179)\n",
      "\tat org.springframework.transaction.interceptor.TransactionInterceptor$1.proceedWithInvocation(TransactionInterceptor.java:99)\n",
      "\tat org.springframework.transaction.interceptor.TransactionAspectSupport.invokeWithinTransaction(TransactionAspectSupport.java:282)\n",
      "\tat org.springframework.transaction.interceptor.TransactionInterceptor.invoke(TransactionInterceptor.java:96)\n",
      "\tat org.springframework.aop.framework.ReflectiveMethodInvocation.proceed(ReflectiveMethodInvocation.java:179)\n",
      "\tat ome.tools.hibernate.ProxyCleanupFilter$Interceptor.invoke(ProxyCleanupFilter.java:249)\n",
      "\tat org.springframework.aop.framework.ReflectiveMethodInvocation.proceed(ReflectiveMethodInvocation.java:179)\n",
      "\tat ome.services.util.ServiceHandler.invoke(ServiceHandler.java:121)\n",
      "\tat org.springframework.aop.framework.ReflectiveMethodInvocation.proceed(ReflectiveMethodInvocation.java:179)\n",
      "\tat org.springframework.aop.framework.JdkDynamicAopProxy.invoke(JdkDynamicAopProxy.java:213)\n",
      "\tat com.sun.proxy.$Proxy131.saveAndReturnObject(Unknown Source)\n",
      "\tat java.base/jdk.internal.reflect.NativeMethodAccessorImpl.invoke0(Native Method)\n",
      "\tat java.base/jdk.internal.reflect.NativeMethodAccessorImpl.invoke(NativeMethodAccessorImpl.java:62)\n",
      "\tat java.base/jdk.internal.reflect.DelegatingMethodAccessorImpl.invoke(DelegatingMethodAccessorImpl.java:43)\n",
      "\tat java.base/java.lang.reflect.Method.invoke(Method.java:566)\n",
      "\tat org.springframework.aop.support.AopUtils.invokeJoinpointUsingReflection(AopUtils.java:333)\n",
      "\tat org.springframework.aop.framework.ReflectiveMethodInvocation.invokeJoinpoint(ReflectiveMethodInvocation.java:190)\n",
      "\tat org.springframework.aop.framework.ReflectiveMethodInvocation.proceed(ReflectiveMethodInvocation.java:157)\n",
      "\tat ome.security.basic.BasicSecurityWiring.invoke(BasicSecurityWiring.java:93)\n",
      "\tat org.springframework.aop.framework.ReflectiveMethodInvocation.proceed(ReflectiveMethodInvocation.java:179)\n",
      "\tat ome.services.blitz.fire.AopContextInitializer.invoke(AopContextInitializer.java:43)\n",
      "\tat org.springframework.aop.framework.ReflectiveMethodInvocation.proceed(ReflectiveMethodInvocation.java:179)\n",
      "\tat org.springframework.aop.framework.JdkDynamicAopProxy.invoke(JdkDynamicAopProxy.java:213)\n",
      "\tat com.sun.proxy.$Proxy131.saveAndReturnObject(Unknown Source)\n",
      "\tat java.base/jdk.internal.reflect.NativeMethodAccessorImpl.invoke0(Native Method)\n",
      "\tat java.base/jdk.internal.reflect.NativeMethodAccessorImpl.invoke(NativeMethodAccessorImpl.java:62)\n",
      "\tat java.base/jdk.internal.reflect.DelegatingMethodAccessorImpl.invoke(DelegatingMethodAccessorImpl.java:43)\n",
      "\tat java.base/java.lang.reflect.Method.invoke(Method.java:566)\n",
      "\tat ome.services.blitz.util.IceMethodInvoker.invoke(IceMethodInvoker.java:172)\n",
      "\tat ome.services.throttling.Callback.run(Callback.java:56)\n",
      "\tat ome.services.throttling.InThreadThrottlingStrategy.callInvokerOnRawArgs(InThreadThrottlingStrategy.java:56)\n",
      "\tat ome.services.blitz.impl.AbstractAmdServant.callInvokerOnRawArgs(AbstractAmdServant.java:140)\n",
      "\tat ome.services.blitz.impl.UpdateI.saveAndReturnObject_async(UpdateI.java:62)\n",
      "\tat java.base/jdk.internal.reflect.NativeMethodAccessorImpl.invoke0(Native Method)\n",
      "\tat java.base/jdk.internal.reflect.NativeMethodAccessorImpl.invoke(NativeMethodAccessorImpl.java:62)\n",
      "\tat java.base/jdk.internal.reflect.DelegatingMethodAccessorImpl.invoke(DelegatingMethodAccessorImpl.java:43)\n",
      "\tat java.base/java.lang.reflect.Method.invoke(Method.java:566)\n",
      "\tat org.springframework.aop.support.AopUtils.invokeJoinpointUsingReflection(AopUtils.java:333)\n",
      "\tat org.springframework.aop.framework.ReflectiveMethodInvocation.invokeJoinpoint(ReflectiveMethodInvocation.java:190)\n",
      "\tat org.springframework.aop.framework.ReflectiveMethodInvocation.proceed(ReflectiveMethodInvocation.java:157)\n",
      "\tat omero.cmd.CallContext.invoke(CallContext.java:85)\n",
      "\tat org.springframework.aop.framework.ReflectiveMethodInvocation.proceed(ReflectiveMethodInvocation.java:179)\n",
      "\tat org.springframework.aop.framework.JdkDynamicAopProxy.invoke(JdkDynamicAopProxy.java:213)\n",
      "\tat com.sun.proxy.$Proxy132.saveAndReturnObject_async(Unknown Source)\n",
      "\tat omero.api._IUpdateTie.saveAndReturnObject_async(_IUpdateTie.java:92)\n",
      "\tat omero.api._IUpdateDisp.___saveAndReturnObject(_IUpdateDisp.java:229)\n",
      "\tat omero.api._IUpdateDisp.__dispatch(_IUpdateDisp.java:423)\n",
      "\tat IceInternal.Incoming.invoke(Incoming.java:221)\n",
      "\tat Ice.ConnectionI.invokeAll(ConnectionI.java:2536)\n",
      "\tat Ice.ConnectionI.dispatch(ConnectionI.java:1145)\n",
      "\tat Ice.ConnectionI.message(ConnectionI.java:1056)\n",
      "\tat IceInternal.ThreadPool.run(ThreadPool.java:395)\n",
      "\tat IceInternal.ThreadPool.access$300(ThreadPool.java:12)\n",
      "\tat IceInternal.ThreadPool$EventHandlerThread.run(ThreadPool.java:832)\n",
      "\tat java.base/java.lang.Thread.run(Thread.java:829)\n",
      "\n",
      "    serverExceptionClass = ome.conditions.ApiUsageException\n",
      "    message = This instance is read-only\n",
      "}\n"
     ]
    }
   ],
   "source": [
    "# Run the complete annotation pipeline using the updated full workflow function\n",
    "print(\"Starting annotation pipeline...\")\n",
    "print(f\"Using micro-SAM model: {config.ai_model.model_type}\")\n",
    "\n",
    "if config.processing.batch_size == 0:\n",
    "    print(\"Processing: All images in one batch\")\n",
    "else:\n",
    "    print(f\"Processing: Batches of {config.processing.batch_size} images\")\n",
    "\n",
    "print(\"Napari will open for interactive annotation.\")\n",
    "\n",
    "try:\n",
    "    # Run the complete micro-SAM workflow (setup, schema, table, annotation)\n",
    "    table_id, updated_config = pipeline.run_full_micro_sam_workflow()\n",
    "    print(\"Annotation pipeline completed successfully.\")\n",
    "    print(f\"Tracking table ID: {table_id}\")\n",
    "    if updated_config.workflow.read_only_mode:\n",
    "        print(f\"Annotations saved locally to: {updated_config.output.output_directory}\")\n",
    "    else:\n",
    "        print(\"Annotations uploaded to OMERO\")\n",
    "    print(f\"Total images processed: {len(updated_config.get_processed())}\")\n",
    "except Exception as e:\n",
    "    print(f\"Error during annotation pipeline: {e}\")\n",
    "    import traceback\n",
    "    traceback.print_exc()"
   ]
  },
  {
   "cell_type": "markdown",
   "metadata": {},
   "source": [
    "#### Save the configuration file to the local folder"
   ]
  },
  {
   "cell_type": "code",
   "execution_count": null,
   "metadata": {},
   "outputs": [],
   "source": [
    "# Export configuration for future use\n",
    "config_filename = f\"annotation_config_{config.name}.yaml\"\n",
    "config_path = Path(config.output.output_directory) / config_filename\n",
    "\n",
    "try:\n",
    "    config.save_yaml(config_path)\n",
    "    print(f\"Configuration saved to: {config_path}\")\n",
    "except Exception as e:\n",
    "    print(\"Could not save to output folder, saving to current directory\")\n",
    "    config.save_yaml(config_filename)\n",
    "    print(f\"Configuration saved to: {config_filename}\")\n",
    "\n",
    "print(\"To reuse this configuration:\")\n",
    "print(\"from omero_annotate_ai import load_config\")\n",
    "print(f\"config = load_config('{config_filename}')\")"
   ]
  },
  {
   "cell_type": "markdown",
   "metadata": {},
   "source": [
    "## 5. Cleanup (Recommended)\n",
    "Close the OMERO connection when you are finished. This is good practice, especially when working with shared servers."
   ]
  },
  {
   "cell_type": "code",
   "execution_count": null,
   "metadata": {},
   "outputs": [],
   "source": [
    "# Close OMERO connection (optional, but recommended)\n",
    "if 'conn' in locals() and conn is not None:\n",
    "    conn.close()\n",
    "    print(\"OMERO connection closed.\")"
   ]
  },
  {
   "cell_type": "markdown",
   "metadata": {},
   "source": []
  }
 ],
 "metadata": {
  "kernelspec": {
   "display_name": "dev",
   "language": "python",
   "name": "python3"
  },
  "language_info": {
   "codemirror_mode": {
    "name": "ipython",
    "version": 3
   },
   "file_extension": ".py",
   "mimetype": "text/x-python",
   "name": "python",
   "nbconvert_exporter": "python",
   "pygments_lexer": "ipython3",
   "version": "3.11.13"
  }
 },
 "nbformat": 4,
 "nbformat_minor": 4
}
