{
 "cells": [
  {
   "cell_type": "markdown",
   "metadata": {},
   "source": [
    "# OMERO Image Annotation Workflow with CellPose\n",
    "This notebook guides you through annotating images in OMERO using the CellPose workflow. Each step is explained clearly."
   ]
  },
  {
   "cell_type": "markdown",
   "metadata": {},
   "source": [
    "## 1. Setup and Installation\n",
    "Install and import the required libraries. Make sure you have access to OMERO and the omero-annotate-ai package."
   ]
  },
  {
   "cell_type": "code",
   "execution_count": null,
   "metadata": {},
   "outputs": [],
   "source": [
    "# Import the main package and check dependencies\n",
    "import omero_annotate_ai\n",
    "from omero_annotate_ai import (\n",
    "    create_omero_connection_widget,\n",
    "    create_workflow_widget,\n",
    "    create_pipeline\n",
    " )\n",
    "\n",
    "import os\n",
    "from pathlib import Path\n",
    "\n",
    "print(f\"omero-annotate-ai version: {omero_annotate_ai.__version__}\")\n",
    "try:\n",
    "    import ezomero\n",
    "    print(\"OMERO functionality: Available\")\n",
    "except ImportError:\n",
    "    print(\"OMERO functionality: Not available. Install with: pip install -e .[omero]\")"
   ]
  },
  {
   "cell_type": "markdown",
   "metadata": {},
   "source": [
    "## 2. Connect to OMERO\n",
    "Use the widget below to connect to your OMERO server. Fill in your server details and test the connection before proceeding."
   ]
  },
  {
   "cell_type": "code",
   "execution_count": null,
   "metadata": {},
   "outputs": [],
   "source": [
    "# Create and display the OMERO connection widget\n",
    "print(\"OMERO Connection Setup\")\n",
    "conn_widget = create_omero_connection_widget()\n",
    "conn_widget.display()\n",
    "print(\"\\nAfter connecting, run the next cell to continue.\")"
   ]
  },
  {
   "cell_type": "code",
   "execution_count": null,
   "metadata": {},
   "outputs": [],
   "source": [
    "# Get the OMERO connection\n",
    "conn = conn_widget.get_connection()\n",
    "\n",
    "if conn is None:\n",
    "    raise ConnectionError(\"No OMERO connection established. Please use the widget above to connect.\")\n",
    "\n",
    "print(\"OMERO connection established.\")"
   ]
  },
  {
   "cell_type": "markdown",
   "metadata": {},
   "source": [
    "## 3. Configure the Annotation Workflow\n",
    "Set up your annotation workflow using the widget below. Select your working directory, OMERO container, and configure annotation parameters."
   ]
  },
  {
   "cell_type": "code",
   "execution_count": null,
   "metadata": {},
   "outputs": [],
   "source": [
    "# Create and display the workflow widget\n",
    "print(\"Annotation Workflow Setup\")\n",
    "workflow_widget = create_workflow_widget(connection=conn)\n",
    "workflow_widget.display()\n",
    "print(\"\\nAfter completing the workflow, run the next cell.\")"
   ]
  },
  {
   "cell_type": "markdown",
   "metadata": {},
   "source": [
    "## 4. Review and Run the Annotation Pipeline\n",
    "Preview your configuration, validate your OMERO selection, and run the annotation pipeline."
   ]
  },
  {
   "cell_type": "markdown",
   "metadata": {},
   "source": [
    "#### 4.1. Configuration summary"
   ]
  },
  {
   "cell_type": "code",
   "execution_count": null,
   "metadata": {},
   "outputs": [],
   "source": [
    "# Get configuration from workflow widget\n",
    "config = workflow_widget.get_config()\n",
    "\n",
    "print(\"Configuration Summary:\")\n",
    "print(f\"Container: {config.omero.container_type} (ID: {config.omero.container_id})\")\n",
    "print(f\"Training Set: {config.name}\")\n",
    "print(f\"Model: {config.ai_model.model_type}\")\n",
    "print(f\"Channel: {config.spatial_coverage.channels}\")\n",
    "print(f\"Output: {config.output.output_directory}\")\n",
    "print(f\"Resume from Table: {config.workflow.resume_from_table}\")\n",
    "print(f\"Read-only Mode: {config.workflow.read_only_mode}\")\n",
    "\n",
    "if config.processing.use_patches:\n",
    "    print(f\"Patches: {config.processing.patches_per_image} per image ({config.processing.patch_size[0]}×{config.processing.patch_size[1]})\")\n",
    "\n",
    "if config.spatial_coverage.three_d:\n",
    "    print(\"3D processing: Enabled\")"
   ]
  },
  {
   "cell_type": "markdown",
   "metadata": {},
   "source": [
    "#### 4.2. Convert configuration to an annotation pipeline"
   ]
  },
  {
   "cell_type": "code",
   "execution_count": null,
   "metadata": {},
   "outputs": [],
   "source": [
    "# Create pipeline and preview what will be processed\n",
    "pipeline = create_pipeline(config, conn)\n",
    "\n",
    "container_type = config.omero.container_type\n",
    "container_id = config.omero.container_id\n",
    "\n",
    "print(f\"Validating {container_type} with ID {container_id}...\")\n",
    "container = conn.getObject(container_type.capitalize(), container_id)\n",
    "if container is None:\n",
    "    raise ValueError(f\"{container_type.capitalize()} with ID {container_id} not found\")\n",
    "print(f\"Found {container_type}: {container.getName()}\")"
   ]
  },
  {
   "cell_type": "markdown",
   "metadata": {},
   "source": [
    "#### 4.3. Run the annotation pipeline on the files\n",
    "For CellPose, this will export the images for training into the local folder."
   ]
  },
  {
   "cell_type": "code",
   "execution_count": null,
   "metadata": {},
   "outputs": [],
   "source": [
    "# Run the pipeline for CellPose\n",
    "print(\"Starting annotation pipeline...\")\n",
    "try:\n",
    "    table_id, processed_images = pipeline.run_cp_workflow()\n",
    "    print(\"Images successfully loaded!\")\n",
    "except Exception as e:\n",
    "    print(f\"Error during annotation pipeline: {e}\")\n",
    "    import traceback\n",
    "    traceback.print_exc()"
   ]
  },
  {
   "cell_type": "markdown",
   "metadata": {},
   "source": [
    "#### 4.4. Run the CellPose GUI to train on the images"
   ]
  },
  {
   "cell_type": "code",
   "execution_count": null,
   "metadata": {},
   "outputs": [],
   "source": [
    "# Run CellPose and finetune the model as needed\n",
    "# Example: run CellPose from the command line or using the GUI\n",
    "# pixi run cellpose"
   ]
  },
  {
   "cell_type": "markdown",
   "metadata": {},
   "source": [
    "#### 4.5. Collect the annotations and upload to OMERO to connect to the original data"
   ]
  },
  {
   "cell_type": "markdown",
   "metadata": {},
   "source": [
    "#### 4.6. Export as bioimage.io model\n",
    "For details, see: https://cellpose.readthedocs.io/en/latest/models.html#sharing-models-on-bioimage-io"
   ]
  },
  {
   "cell_type": "markdown",
   "metadata": {},
   "source": [
    "## 5. Cleanup (Recommended)\n",
    "Close the OMERO connection when you are finished. This is good practice, especially when working with shared servers."
   ]
  },
  {
   "cell_type": "code",
   "execution_count": null,
   "metadata": {},
   "outputs": [],
   "source": [
    "# Close OMERO connection (optional, but recommended)\n",
    "if 'conn' in locals() and conn is not None:\n",
    "    conn.close()\n",
    "    print(\"OMERO connection closed.\")"
   ]
  }
 ],
 "metadata": {
  "kernelspec": {
   "display_name": "default",
   "language": "python",
   "name": "python3"
  },
  "language_info": {
   "codemirror_mode": {
    "name": "ipython",
    "version": 3
   },
   "file_extension": ".py",
   "mimetype": "text/x-python",
   "name": "python",
   "nbconvert_exporter": "python",
   "pygments_lexer": "ipython3",
   "version": "3.11.13"
  }
 },
 "nbformat": 4,
 "nbformat_minor": 4
}
