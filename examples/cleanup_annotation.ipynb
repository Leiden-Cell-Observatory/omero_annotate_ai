{
 "cells": [
  {
   "cell_type": "code",
   "execution_count": null,
   "id": "b72d7f29",
   "metadata": {},
   "outputs": [],
   "source": []
  },
  {
   "cell_type": "markdown",
   "id": "360bd395",
   "metadata": {},
   "source": [
    "# Clean Up Annotations from OMERO Project\n",
    "\n",
    "This notebook demonstrates how to clean up annotations from an OMERO project using the omero-annotate-ai package."
   ]
  },
  {
   "cell_type": "code",
   "execution_count": 14,
   "id": "50a7ca47",
   "metadata": {},
   "outputs": [],
   "source": [
    "import omero_annotate_ai\n",
    "from omero_annotate_ai import create_omero_connection_widget\n",
    "from omero_annotate_ai.omero.omero_functions import list_annotation_tables\n",
    "from omero_annotate_ai.omero.omero_utils import delete_table"
   ]
  },
  {
   "cell_type": "markdown",
   "id": "w5l65m8rvi",
   "metadata": {},
   "source": [
    "## Step 1: Connect to OMERO\n",
    "\n",
    "First, establish a connection to your OMERO server."
   ]
  },
  {
   "cell_type": "code",
   "execution_count": null,
   "id": "bisq0nbtdug",
   "metadata": {},
   "outputs": [
    {
     "name": "stdout",
     "output_type": "stream",
     "text": [
      "📄 Loaded configuration from connection history: root@localhost\n",
      "⚠️ Error loading password from keychain: No recommended backend was available. Install a recommended 3rd party backend package; or, install the keyrings.alt package if you want to use the non-recommended backends. See https://pypi.org/project/keyring for details.\n"
     ]
    },
    {
     "data": {
      "application/vnd.jupyter.widget-view+json": {
       "model_id": "56a7306e87b842b4b811f29550738686",
       "version_major": 2,
       "version_minor": 0
      },
      "text/plain": [
       "VBox(children=(HTML(value='<h3>🔌 OMERO Server Connection</h3>', layout=Layout(margin='0 0 20px 0')), HTML(valu…"
      ]
     },
     "metadata": {},
     "output_type": "display_data"
    }
   ],
   "source": [
    "# Connect to OMERO server\n",
    "conn_widget = create_omero_connection_widget()\n",
    "conn_widget.display()\n",
    "\n",
    "# Get the connection object\n",
    "conn = conn_widget.get_connection()"
   ]
  },
  {
   "cell_type": "markdown",
   "id": "tqenkbe0j09",
   "metadata": {},
   "source": [
    "## Step 2: Find Available Projects/Datasets\n",
    "\n",
    "First, let's see what projects and datasets are available to work with."
   ]
  },
  {
   "cell_type": "code",
   "execution_count": 16,
   "id": "uky2s2bn9qj",
   "metadata": {},
   "outputs": [
    {
     "name": "stdout",
     "output_type": "stream",
     "text": [
      "Available projects:\n"
     ]
    },
    {
     "ename": "AttributeError",
     "evalue": "module 'ezomero' has no attribute 'get_projects'",
     "output_type": "error",
     "traceback": [
      "\u001b[31m---------------------------------------------------------------------------\u001b[39m",
      "\u001b[31mAttributeError\u001b[39m                            Traceback (most recent call last)",
      "\u001b[36mCell\u001b[39m\u001b[36m \u001b[39m\u001b[32mIn[16]\u001b[39m\u001b[32m, line 5\u001b[39m\n\u001b[32m      3\u001b[39m \u001b[38;5;66;03m# List available projects\u001b[39;00m\n\u001b[32m      4\u001b[39m \u001b[38;5;28mprint\u001b[39m(\u001b[33m\"\u001b[39m\u001b[33mAvailable projects:\u001b[39m\u001b[33m\"\u001b[39m)\n\u001b[32m----> \u001b[39m\u001b[32m5\u001b[39m projects = \u001b[43mezomero\u001b[49m\u001b[43m.\u001b[49m\u001b[43mget_projects\u001b[49m(conn)\n\u001b[32m      6\u001b[39m \u001b[38;5;28;01mfor\u001b[39;00m project \u001b[38;5;129;01min\u001b[39;00m projects:\n\u001b[32m      7\u001b[39m     \u001b[38;5;28mprint\u001b[39m(\u001b[33mf\u001b[39m\u001b[33m\"\u001b[39m\u001b[33m  - Project ID: \u001b[39m\u001b[38;5;132;01m{\u001b[39;00mproject[\u001b[33m'\u001b[39m\u001b[33mid\u001b[39m\u001b[33m'\u001b[39m]\u001b[38;5;132;01m}\u001b[39;00m\u001b[33m, Name: \u001b[39m\u001b[38;5;132;01m{\u001b[39;00mproject[\u001b[33m'\u001b[39m\u001b[33mname\u001b[39m\u001b[33m'\u001b[39m]\u001b[38;5;132;01m}\u001b[39;00m\u001b[33m\"\u001b[39m)\n",
      "\u001b[31mAttributeError\u001b[39m: module 'ezomero' has no attribute 'get_projects'"
     ]
    }
   ],
   "source": [
    "import ezomero\n",
    "\n",
    "# List available projects\n",
    "print(\"Available projects:\")\n",
    "projects = ezomero.get_projects(conn)\n",
    "for project in projects:\n",
    "    print(f\"  - Project ID: {project['id']}, Name: {project['name']}\")\n",
    "\n",
    "print(\"\\nAvailable datasets:\")\n",
    "datasets = ezomero.get_datasets(conn)\n",
    "for dataset in datasets:\n",
    "    print(f\"  - Dataset ID: {dataset['id']}, Name: {dataset['name']}\")"
   ]
  },
  {
   "cell_type": "markdown",
   "id": "pmtgkcnc3y9",
   "metadata": {},
   "source": [
    "## Step 3: List Annotation Tables\n",
    "\n",
    "View all annotation tables in your chosen container."
   ]
  },
  {
   "cell_type": "code",
   "execution_count": null,
   "id": "e4yk6vld2p",
   "metadata": {},
   "outputs": [],
   "source": [
    "# Specify your container type and ID (from the list above)\n",
    "container_type = \"project\"  # or \"dataset\"\n",
    "container_id = 123  # Replace with actual ID from the list above\n",
    "\n",
    "# List all annotation tables in the container\n",
    "tables = list_annotation_tables(conn, container_type, container_id)\n",
    "print(f\"Found {len(tables)} annotation tables in {container_type} {container_id}:\")\n",
    "\n",
    "for table in tables:\n",
    "    print(f\"  - Table ID: {table['id']}, Name: {table['name']}\")\n",
    "    if 'progress_percent' in table:\n",
    "        print(f\"    Progress: {table['progress_percent']:.1f}% complete ({table['completed_units']}/{table['total_units']} units)\")"
   ]
  },
  {
   "cell_type": "markdown",
   "id": "pn3dhbt3kp",
   "metadata": {},
   "source": [
    "## Step 4: Delete Annotation Tables\n",
    "\n",
    "Remove specific annotation tables by their ID."
   ]
  },
  {
   "cell_type": "code",
   "execution_count": null,
   "id": "uzpvitwshi",
   "metadata": {},
   "outputs": [
    {
     "name": "stdout",
     "output_type": "stream",
     "text": [
      "Deleting annotation table with ID: 102\n",
      "❌ Error deleting table 102: 'NoneType' object has no attribute 'getObject'\n",
      "❌ Failed to delete annotation table\n"
     ]
    },
    {
     "name": "stderr",
     "output_type": "stream",
     "text": [
      "-! 07/18/25 00:26:23.863 --Ice.Config=: warning: Proxy keep alive failed.\n",
      "-! 07/18/25 00:26:23.888 --Ice.Config=: warning: Proxy keep alive failed.\n",
      "-! 07/18/25 00:26:23.897 --Ice.Config=: warning: Proxy keep alive failed.\n",
      "-! 07/18/25 00:26:23.898 --Ice.Config=: warning: Proxy keep alive failed.\n",
      "-! 07/18/25 00:26:23.899 --Ice.Config=: warning: Proxy keep alive failed.\n",
      "-! 07/18/25 00:26:23.917 --Ice.Config=: warning: Proxy keep alive failed.\n"
     ]
    }
   ],
   "source": [
    "# Delete specific annotation table by ID\n",
    "table_id_to_delete = 102  # Replace with the actual table ID you want to delete\n",
    "\n",
    "# Confirm deletion\n",
    "print(f\"Deleting annotation table with ID: {table_id_to_delete}\")\n",
    "success = delete_table(conn, table_id_to_delete)\n",
    "\n",
    "if success:\n",
    "    print(\"✅ Annotation table deleted successfully\")\n",
    "else:\n",
    "    print(\"❌ Failed to delete annotation table\")"
   ]
  },
  {
   "cell_type": "markdown",
   "id": "ijkbyknjk0a",
   "metadata": {},
   "source": [
    "## Step 5: Bulk Cleanup (Optional)\n",
    "\n",
    "For cleaning up multiple annotation tables at once."
   ]
  },
  {
   "cell_type": "code",
   "execution_count": null,
   "id": "wsquhmfzjsb",
   "metadata": {},
   "outputs": [],
   "source": [
    "# Bulk delete multiple annotation tables\n",
    "table_ids_to_delete = [456, 789, 101]  # Replace with actual table IDs\n",
    "\n",
    "print(f\"Deleting {len(table_ids_to_delete)} annotation tables...\")\n",
    "deleted_count = 0\n",
    "\n",
    "for table_id in table_ids_to_delete:\n",
    "    success = delete_table(conn, table_id)\n",
    "    if success:\n",
    "        print(f\"✅ Deleted table {table_id}\")\n",
    "        deleted_count += 1\n",
    "    else:\n",
    "        print(f\"❌ Failed to delete table {table_id}\")\n",
    "\n",
    "print(f\"\\nCleanup complete: {deleted_count}/{len(table_ids_to_delete)} tables deleted\")"
   ]
  },
  {
   "cell_type": "markdown",
   "id": "mcv955qgjoe",
   "metadata": {},
   "source": [
    "## Step 6: Complete Project Cleanup (Optional)\n",
    "\n",
    "Use the cleanup function to remove all omero-annotate-ai annotations from a project."
   ]
  },
  {
   "cell_type": "code",
   "execution_count": null,
   "id": "e9itd3o7s55",
   "metadata": {},
   "outputs": [],
   "source": [
    "from omero_annotate_ai.omero.omero_functions import cleanup_project_annotations\n",
    "\n",
    "# Complete project cleanup - removes all annotation tables, ROIs, and map annotations\n",
    "project_id = 123  # Replace with your actual project ID\n",
    "\n",
    "# Optional: specify training set name to only clean up specific annotations\n",
    "# trainingset_name = \"my_training_set\"  # Uncomment and set if needed\n",
    "trainingset_name = None  # Clean up all annotations\n",
    "\n",
    "print(f\"🧹 Starting cleanup of project {project_id}...\")\n",
    "results = cleanup_project_annotations(conn, project_id, trainingset_name)\n",
    "\n",
    "print(f\"\\n📊 Cleanup Results:\")\n",
    "print(f\"   Tables deleted: {results['tables']}\")\n",
    "print(f\"   ROIs deleted: {results['rois']}\")\n",
    "print(f\"   Map annotations deleted: {results['map_annotations']}\")\n",
    "print(f\"   Images processed: {results['images_processed']}\")"
   ]
  },
  {
   "cell_type": "code",
   "execution_count": null,
   "id": "6uj177qx2l3",
   "metadata": {},
   "outputs": [],
   "source": [
    "# Close the connection when done\n",
    "if conn:\n",
    "    conn.close()\n",
    "    print(\"Connection closed\")"
   ]
  }
 ],
 "metadata": {
  "kernelspec": {
   "display_name": "micro-sam",
   "language": "python",
   "name": "python3"
  },
  "language_info": {
   "name": "python",
   "version": "3.12.2"
  }
 },
 "nbformat": 4,
 "nbformat_minor": 5
}
