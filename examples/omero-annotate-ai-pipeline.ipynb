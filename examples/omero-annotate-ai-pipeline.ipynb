{
 "cells": [
  {
   "cell_type": "markdown",
   "metadata": {},
   "source": [
    "# OMERO Micro-SAM Workflow\n",
    "\n",
    "\n"
   ]
  },
  {
   "cell_type": "markdown",
   "metadata": {},
   "source": [
    "## 1. Setup and Installation"
   ]
  },
  {
   "cell_type": "code",
   "execution_count": 1,
   "metadata": {},
   "outputs": [
    {
     "name": "stdout",
     "output_type": "stream",
     "text": [
      "📦 omero-annotate-ai version: 0.1.0\n",
      "🔗 Available widgets: Connection, Workflow\n",
      "✨ Streamlined 2-widget workflow ready!\n",
      "🔗 OMERO functionality: ✅ Available\n",
      "🔑 Keyring support: ✅ Available\n"
     ]
    }
   ],
   "source": [
    "# Import the streamlined package\n",
    "import omero_annotate_ai\n",
    "from omero_annotate_ai import (\n",
    "    create_omero_connection_widget,\n",
    "    create_workflow_widget,\n",
    "    create_pipeline\n",
    ")\n",
    "\n",
    "# System imports\n",
    "import os\n",
    "from pathlib import Path\n",
    "\n",
    "print(f\"📦 omero-annotate-ai version: {omero_annotate_ai.__version__}\")\n",
    "print(f\"🔗 Available widgets: Connection, Workflow\")\n",
    "print(f\"✨ Streamlined 2-widget workflow ready!\")\n",
    "\n",
    "# Check dependencies\n",
    "try:\n",
    "    import ezomero\n",
    "    print(f\"🔗 OMERO functionality: ✅ Available\")\n",
    "except ImportError:\n",
    "    print(f\"🔗 OMERO functionality: ❌ Install with: pip install -e .[omero]\")\n",
    "\n",
    "try:\n",
    "    import keyring\n",
    "    print(f\"🔑 Keyring support: ✅ Available\")\n",
    "except ImportError:\n",
    "    print(f\"🔑 Keyring support: ⚠️ Not available (manual password entry only)\")"
   ]
  },
  {
   "cell_type": "markdown",
   "metadata": {},
   "source": [
    "## 2. OMERO Connection"
   ]
  },
  {
   "cell_type": "code",
   "execution_count": 3,
   "metadata": {},
   "outputs": [
    {
     "name": "stdout",
     "output_type": "stream",
     "text": [
      "🔌 OMERO Connection Setup\n",
      "Use the widget below to connect to your OMERO server:\n",
      "  • Fill in server details (host, username, password)\n",
      "  • Test connection before proceeding\n",
      "  • Choose password storage duration if desired\n",
      "  • Click 'Save & Connect' to establish connection\n",
      "\n",
      "📄 Loaded configuration from connection history: root@localhost\n",
      "🔐 Password loaded from keychain (no expiration)\n"
     ]
    },
    {
     "data": {
      "application/vnd.jupyter.widget-view+json": {
       "model_id": "48ea08e3a09245959b69f747889a05a1",
       "version_major": 2,
       "version_minor": 0
      },
      "text/plain": [
       "VBox(children=(HTML(value='<h3>🔌 OMERO Server Connection</h3>', layout=Layout(margin='0 0 20px 0')), HTML(valu…"
      ]
     },
     "metadata": {},
     "output_type": "display_data"
    },
    {
     "name": "stdout",
     "output_type": "stream",
     "text": [
      "\n",
      "📝 Next Step: Run the cell below after connecting to OMERO\n"
     ]
    }
   ],
   "source": [
    "# Create and display the OMERO connection widget\n",
    "print(\"🔌 OMERO Connection Setup\")\n",
    "print(\"Use the widget below to connect to your OMERO server:\")\n",
    "print(\"  • Fill in server details (host, username, password)\")\n",
    "print(\"  • Test connection before proceeding\")\n",
    "print(\"  • Choose password storage duration if desired\")\n",
    "print(\"  • Click 'Save & Connect' to establish connection\")\n",
    "print()\n",
    "\n",
    "conn_widget = create_omero_connection_widget()\n",
    "conn_widget.display()\n",
    "\n",
    "print(\"\\n📝 Next Step: Run the cell below after connecting to OMERO\")"
   ]
  },
  {
   "cell_type": "code",
   "execution_count": 4,
   "metadata": {},
   "outputs": [
    {
     "name": "stdout",
     "output_type": "stream",
     "text": [
      "✅ OMERO connection established!\n",
      "👤 User: root\n",
      "🏢 Group: system\n",
      "🔐 Secure: True\n",
      "🔗 Connection ready for workflow setup\n"
     ]
    }
   ],
   "source": [
    "# Get the OMERO connection\n",
    "conn = conn_widget.get_connection()\n",
    "\n",
    "if conn is None:\n",
    "    raise ConnectionError(\"❌ No OMERO connection established. Please use the widget above to connect.\")\n",
    "\n",
    "print(\"✅ OMERO connection established!\")\n",
    "print(f\"👤 User: {conn.getUser().getName()}\")\n",
    "print(f\"🏢 Group: {conn.getGroupFromContext().getName()}\")\n",
    "print(f\"🔐 Secure: {conn.isSecure()}\")\n",
    "print(f\"🔗 Connection ready for workflow setup\")"
   ]
  },
  {
   "cell_type": "markdown",
   "metadata": {},
   "source": [
    "## 3. Workflow Configuration"
   ]
  },
  {
   "cell_type": "code",
   "execution_count": null,
   "metadata": {},
   "outputs": [
    {
     "name": "stdout",
     "output_type": "stream",
     "text": [
      "🔬 OMERO Annotation Workflow Setup\n",
      "Follow the sequential workflow below:\n",
      "  1. Select working directory\n",
      "  2. Choose OMERO container\n",
      "  3. Check existing annotation tables\n",
      "  4. Configure micro-SAM parameters\n",
      "  5. Save configuration\n",
      "\n"
     ]
    },
    {
     "data": {
      "application/vnd.jupyter.widget-view+json": {
       "model_id": "071a38935ae34c129acb5148d3b1378b",
       "version_major": 2,
       "version_minor": 0
      },
      "text/plain": [
       "VBox(children=(HTML(value='<h3>🔬 OMERO Annotation Workflow</h3>', layout=Layout(margin='0 0 20px 0')), IntProg…"
      ]
     },
     "metadata": {},
     "output_type": "display_data"
    },
    {
     "name": "stdout",
     "output_type": "stream",
     "text": [
      "\n",
      "📝 Next Step: Complete the workflow above, then run the cell below\n"
     ]
    }
   ],
   "source": [
    "# Create and display the workflow widget\n",
    "print(\"🔬 OMERO Annotation Workflow Setup\")\n",
    "print(\"Follow the sequential workflow below:\")\n",
    "print(\"  1. Select working directory\")\n",
    "print(\"  2. Choose OMERO container\")\n",
    "print(\"  3. Check existing annotation tables\")\n",
    "print(\"  4. Configure micro-SAM parameters\")\n",
    "print(\"  5. Save configuration\")\n",
    "print()\n",
    "\n",
    "workflow_widget = create_workflow_widget(connection=conn)\n",
    "workflow_widget.display()\n",
    "\n",
    "print(\"\\n📝 Next Step: Complete the workflow above, then run the cell below\")"
   ]
  },
  {
   "cell_type": "markdown",
   "metadata": {},
   "source": [
    "## 4. Pipeline Execution\n"
   ]
  },
  {
   "cell_type": "code",
   "execution_count": 7,
   "metadata": {},
   "outputs": [
    {
     "name": "stdout",
     "output_type": "stream",
     "text": [
      "\n",
      "📋 Configuration Summary:\n",
      "   📦 Container: project (ID: 201)\n",
      "   🎯 Training Set: micro_sam_foci_test_20250825_103304\n",
      "   🔬 Model: vit_b_lm\n",
      "   📺 Channel: [0]\n",
      "   📁 Output: c:\\Users\\Maarten\\Documents\\Github\\omero_annotate_ai\\examples\\omero_annotations_patch\n",
      "   🔄 Resume from Table: False\n",
      "   📖 Read-only Mode: False\n",
      "   🧩 Patches: 1 per image (512×512)\n",
      "\n",
      "📊 Processing scope: 2 training + 2 validation\n"
     ]
    }
   ],
   "source": [
    "# Get configuration from workflow widget\n",
    "config = workflow_widget.get_config()\n",
    "\n",
    "# Display configuration summary\n",
    "print(\"\\n📋 Configuration Summary:\")\n",
    "print(f\"   📦 Container: {config.omero.container_type} (ID: {config.omero.container_id})\")\n",
    "print(f\"   🎯 Training Set: {config.name}\")\n",
    "print(f\"   🔬 Model: {config.ai_model.model_type}\")\n",
    "print(f\"   📺 Channel: {config.spatial_coverage.channels}\")\n",
    "print(f\"   📁 Output: {config.output.output_directory}\")\n",
    "print(f\"   🔄 Resume from Table: {config.workflow.resume_from_table}\")\n",
    "print(f\"   📖 Read-only Mode: {config.workflow.read_only_mode}\")\n",
    "\n",
    "if config.processing.use_patches:\n",
    "    print(f\"   🧩 Patches: {config.processing.patches_per_image} per image ({config.processing.patch_size[0]}×{config.processing.patch_size[1]})\"\n",
    "    )\n",
    "\n",
    "if config.spatial_coverage.three_d:\n",
    "    print(f\"   🧊 3D processing: Enabled\")\n",
    "\n",
    "print(f\"\\n📊 Processing scope: {'All images' if config.training.segment_all else f'{config.training.train_n} training + {config.training.validate_n} validation'}\")"
   ]
  },
  {
   "cell_type": "code",
   "execution_count": 8,
   "metadata": {},
   "outputs": [
    {
     "name": "stdout",
     "output_type": "stream",
     "text": [
      "🔍 Validating project with ID 201...\n",
      "✅ Found project: foci_test\n"
     ]
    }
   ],
   "source": [
    "# Create pipeline and preview what will be processed\n",
    "pipeline = create_pipeline(config, conn)\n",
    "\n",
    "# Get container details\n",
    "container_type = config.omero.container_type\n",
    "container_id = config.omero.container_id\n",
    "\n",
    "print(f\"🔍 Validating {container_type} with ID {container_id}...\")\n",
    "\n",
    "# Validate container exists\n",
    "container = conn.getObject(container_type.capitalize(), container_id)\n",
    "if container is None:\n",
    "    raise ValueError(f\"{container_type.capitalize()} with ID {container_id} not found\")\n",
    "\n",
    "print(f\"✅ Found {container_type}: {container.getName()}\")\n",
    "if container.getDescription():\n",
    "    print(f\"📝 Description: {container.getDescription()}\")"
   ]
  },
  {
   "cell_type": "code",
   "execution_count": 9,
   "metadata": {},
   "outputs": [
    {
     "name": "stdout",
     "output_type": "stream",
     "text": [
      "🚀 Starting annotation pipeline...\n",
      "   🔬 Using micro-SAM model: vit_b_lm\n",
      "   ⚡ Processing: All images in one batch\n",
      "   🎨 Napari will open for interactive annotation\n",
      "   📝 Close napari windows when annotation is complete\n",
      "\n",
      "Creating annotation table\n",
      "Loading images from project 201\n",
      "Found 10 images\n",
      "Creating table for 10 images with model: vit_b_lm\n"
     ]
    },
    {
     "name": "stderr",
     "output_type": "stream",
     "text": [
      "INFO:omero_annotate_ai.core.annotation_pipeline:Creating new tracking table: micro_sam_training_micro_sam_foci_test_20250825_103304\n",
      "INFO:omero_annotate_ai.core.annotation_pipeline:ROI namespace: omero_annotate_ai.table.micro_sam_training_micro_sam_foci_test_20250825_103304\n",
      "c:\\Users\\Maarten\\miniforge3\\envs\\micro-sam\\Lib\\site-packages\\omero_annotate_ai\\omero\\omero_functions.py:152: FutureWarning: Downcasting object dtype arrays on .fillna, .ffill, .bfill is deprecated and will change in a future version. Call result.infer_objects(copy=False) instead. To opt-in to the future behavior, set `pd.set_option('future.no_silent_downcasting', True)`\n",
      "  df[col] = df[col].fillna(False).astype(bool)\n",
      "c:\\Users\\Maarten\\miniforge3\\envs\\micro-sam\\Lib\\site-packages\\omero_annotate_ai\\omero\\omero_functions.py:152: FutureWarning: Downcasting object dtype arrays on .fillna, .ffill, .bfill is deprecated and will change in a future version. Call result.infer_objects(copy=False) instead. To opt-in to the future behavior, set `pd.set_option('future.no_silent_downcasting', True)`\n",
      "  df[col] = df[col].fillna(False).astype(bool)\n",
      "c:\\Users\\Maarten\\miniforge3\\envs\\micro-sam\\Lib\\site-packages\\omero_annotate_ai\\omero\\omero_functions.py:152: FutureWarning: Downcasting object dtype arrays on .fillna, .ffill, .bfill is deprecated and will change in a future version. Call result.infer_objects(copy=False) instead. To opt-in to the future behavior, set `pd.set_option('future.no_silent_downcasting', True)`\n",
      "  df[col] = df[col].fillna(False).astype(bool)\n",
      "c:\\Users\\Maarten\\miniforge3\\envs\\micro-sam\\Lib\\site-packages\\omero_annotate_ai\\omero\\omero_functions.py:152: FutureWarning: Downcasting object dtype arrays on .fillna, .ffill, .bfill is deprecated and will change in a future version. Call result.infer_objects(copy=False) instead. To opt-in to the future behavior, set `pd.set_option('future.no_silent_downcasting', True)`\n",
      "  df[col] = df[col].fillna(False).astype(bool)\n",
      "c:\\Users\\Maarten\\miniforge3\\envs\\micro-sam\\Lib\\site-packages\\omero_annotate_ai\\omero\\omero_functions.py:152: FutureWarning: Downcasting object dtype arrays on .fillna, .ffill, .bfill is deprecated and will change in a future version. Call result.infer_objects(copy=False) instead. To opt-in to the future behavior, set `pd.set_option('future.no_silent_downcasting', True)`\n",
      "  df[col] = df[col].fillna(False).astype(bool)\n",
      "c:\\Users\\Maarten\\miniforge3\\envs\\micro-sam\\Lib\\site-packages\\omero_annotate_ai\\omero\\omero_functions.py:157: FutureWarning: Downcasting object dtype arrays on .fillna, .ffill, .bfill is deprecated and will change in a future version. Call result.infer_objects(copy=False) instead. To opt-in to the future behavior, set `pd.set_option('future.no_silent_downcasting', True)`\n",
      "  df[col] = df[col].fillna(\"None\").astype(str)\n",
      "c:\\Users\\Maarten\\miniforge3\\envs\\micro-sam\\Lib\\site-packages\\omero_annotate_ai\\omero\\omero_functions.py:157: FutureWarning: Downcasting object dtype arrays on .fillna, .ffill, .bfill is deprecated and will change in a future version. Call result.infer_objects(copy=False) instead. To opt-in to the future behavior, set `pd.set_option('future.no_silent_downcasting', True)`\n",
      "  df[col] = df[col].fillna(\"None\").astype(str)\n",
      "c:\\Users\\Maarten\\miniforge3\\envs\\micro-sam\\Lib\\site-packages\\omero_annotate_ai\\omero\\omero_functions.py:157: FutureWarning: Downcasting object dtype arrays on .fillna, .ffill, .bfill is deprecated and will change in a future version. Call result.infer_objects(copy=False) instead. To opt-in to the future behavior, set `pd.set_option('future.no_silent_downcasting', True)`\n",
      "  df[col] = df[col].fillna(\"None\").astype(str)\n"
     ]
    },
    {
     "name": "stdout",
     "output_type": "stream",
     "text": [
      "📋 Created tracking table 'micro_sam_training_micro_sam_foci_test_20250825_103304' with 4 units\n",
      "   Container: project 201\n",
      "   Table ID: 1410\n",
      "object group 0\n",
      "Stored configuration as annotation ID: 1411\n",
      "object group 0\n",
      "📊 Workflow status updated: 0/4 (0.0%) - pending\n",
      "Created annotation table with ID: 1410\n",
      "Starting annotation processing from table ID: 1410\n",
      "[TABLE] Getting unprocessed units from table 1410\n",
      "📋 Found 4 unprocessed units\n",
      "Found 4 processing units\n",
      "Processing batch 1/1\n",
      "📊 Loading 1 images using dask...\n",
      "💾 Materializing dask arrays to numpy...\n",
      "   Processing chunk 1/1\n"
     ]
    },
    {
     "name": "stderr",
     "output_type": "stream",
     "text": [
      "INFO:omero.gateway:Registered c85dffe1-7e5d-4b32-97d8-1f7432834f44/e62e218f-dbbc-4aa1-83a0-c56bcfd69ba8omero.api.RawPixelsStore -t -e 1.1:tcp -h 172.19.0.8 -p 34317 -t 60000\n",
      "INFO:omero.gateway:Unregistered c85dffe1-7e5d-4b32-97d8-1f7432834f44/e62e218f-dbbc-4aa1-83a0-c56bcfd69ba8omero.api.RawPixelsStore -t -e 1.1:tcp -h 172.19.0.8 -p 34317 -t 60000\n",
      "INFO:omero.gateway:Registered c85dffe1-7e5d-4b32-97d8-1f7432834f44/f9c56144-3def-4f23-87ae-b90faa80e86aomero.api.RawPixelsStore -t -e 1.1:tcp -h 172.19.0.8 -p 34317 -t 60000\n"
     ]
    },
    {
     "name": "stdout",
     "output_type": "stream",
     "text": [
      "✅ Successfully loaded 1 images\n",
      "Loaded 2D data shape: (1024, 1024)\n",
      "📊 Loading 1 images using dask...\n",
      "💾 Materializing dask arrays to numpy...\n",
      "   Processing chunk 1/1\n"
     ]
    },
    {
     "name": "stderr",
     "output_type": "stream",
     "text": [
      "INFO:omero.gateway:Unregistered c85dffe1-7e5d-4b32-97d8-1f7432834f44/f9c56144-3def-4f23-87ae-b90faa80e86aomero.api.RawPixelsStore -t -e 1.1:tcp -h 172.19.0.8 -p 34317 -t 60000\n",
      "INFO:omero.gateway:Registered c85dffe1-7e5d-4b32-97d8-1f7432834f44/f7b07d21-8d7a-45de-b5a4-90569f518691omero.api.RawPixelsStore -t -e 1.1:tcp -h 172.19.0.8 -p 34317 -t 60000\n",
      "INFO:omero.gateway:Unregistered c85dffe1-7e5d-4b32-97d8-1f7432834f44/f7b07d21-8d7a-45de-b5a4-90569f518691omero.api.RawPixelsStore -t -e 1.1:tcp -h 172.19.0.8 -p 34317 -t 60000\n"
     ]
    },
    {
     "name": "stdout",
     "output_type": "stream",
     "text": [
      "✅ Successfully loaded 1 images\n",
      "Loaded 2D data shape: (1024, 1024)\n",
      "📊 Loading 1 images using dask...\n",
      "💾 Materializing dask arrays to numpy...\n",
      "   Processing chunk 1/1\n"
     ]
    },
    {
     "name": "stderr",
     "output_type": "stream",
     "text": [
      "INFO:omero.gateway:Registered c85dffe1-7e5d-4b32-97d8-1f7432834f44/b2ab6880-f5c7-49aa-8639-d2b4d3808838omero.api.RawPixelsStore -t -e 1.1:tcp -h 172.19.0.8 -p 34317 -t 60000\n"
     ]
    },
    {
     "name": "stdout",
     "output_type": "stream",
     "text": [
      "✅ Successfully loaded 1 images\n",
      "Loaded 2D data shape: (1024, 1024)\n",
      "📊 Loading 1 images using dask...\n",
      "💾 Materializing dask arrays to numpy...\n",
      "   Processing chunk 1/1\n"
     ]
    },
    {
     "name": "stderr",
     "output_type": "stream",
     "text": [
      "INFO:omero.gateway:Unregistered c85dffe1-7e5d-4b32-97d8-1f7432834f44/b2ab6880-f5c7-49aa-8639-d2b4d3808838omero.api.RawPixelsStore -t -e 1.1:tcp -h 172.19.0.8 -p 34317 -t 60000\n"
     ]
    },
    {
     "name": "stdout",
     "output_type": "stream",
     "text": [
      "✅ Successfully loaded 1 images\n",
      "Loaded 2D data shape: (1024, 1024)\n",
      "DEBUG: Ready to run micro_sam annotations\n"
     ]
    },
    {
     "name": "stderr",
     "output_type": "stream",
     "text": [
      "Precompute state for files: 100%|██████████| 4/4 [00:37<00:00,  9.38s/it]\n"
     ]
    },
    {
     "name": "stdout",
     "output_type": "stream",
     "text": [
      "Precomputation took 38.963072538375854 seconds (= 00:39 minutes)\n",
      "The first image to annotate is image number 0\n",
      "Loading next image: at index 1\n",
      "Loading next image: at index 2\n",
      "Loading next image: at index 3\n",
      "\u001b[1;31m---------------------------------------------------------------------------\u001b[0m\n",
      "\u001b[1;31mRuntimeError\u001b[0m                              Traceback (most recent call last)\n",
      "File \u001b[1;32mc:\\Users\\Maarten\\miniforge3\\envs\\micro-sam\\Lib\\site-packages\\psygnal\\_signal.py:1196\u001b[0m, in \u001b[0;36mSignalInstance._run_emit_loop\u001b[1;34m(self=<class 'psygnal._signal.SignalInstance'> instance, args=(False,))\u001b[0m\n",
      "\u001b[0;32m   1195\u001b[0m     \u001b[38;5;28;01mwith\u001b[39;00m Signal\u001b[38;5;241m.\u001b[39m_emitting(\u001b[38;5;28mself\u001b[39m):\n",
      "\u001b[1;32m-> 1196\u001b[0m         \u001b[38;5;28;43mself\u001b[39;49m\u001b[38;5;241;43m.\u001b[39;49m\u001b[43m_run_emit_loop_inner\u001b[49m\u001b[43m(\u001b[49m\u001b[43m)\u001b[49m\n",
      "        Exception trying to inspect frame. No more locals available.\n",
      "\u001b[0;32m   1197\u001b[0m \u001b[38;5;28;01mexcept\u001b[39;00m \u001b[38;5;167;01mRecursionError\u001b[39;00m \u001b[38;5;28;01mas\u001b[39;00m e:\n",
      "\n",
      "File \u001b[1;32mc:\\Users\\Maarten\\miniforge3\\envs\\micro-sam\\Lib\\site-packages\\psygnal\\_signal.py:1225\u001b[0m, in \u001b[0;36mSignalInstance._run_emit_loop_immediate\u001b[1;34m(self=<class 'psygnal._signal.SignalInstance'> instance)\u001b[0m\n",
      "\u001b[0;32m   1224\u001b[0m \u001b[38;5;28;01mfor\u001b[39;00m caller \u001b[38;5;129;01min\u001b[39;00m \u001b[38;5;28mself\u001b[39m\u001b[38;5;241m.\u001b[39m_slots:\n",
      "\u001b[1;32m-> 1225\u001b[0m     \u001b[43mcaller\u001b[49m\u001b[38;5;241;43m.\u001b[39;49m\u001b[43mcb\u001b[49m\u001b[43m(\u001b[49m\u001b[43margs\u001b[49m\u001b[43m)\u001b[49m\n",
      "        args \u001b[1;34m= (False,)\u001b[0m\u001b[1;34m\n",
      "        \u001b[0mcaller \u001b[1;34m= <StrongFunction on magicgui.widgets._function_gui.FunctionGui.__init__.<locals>._disable_button_and_call>\u001b[0m\n",
      "\n",
      "File \u001b[1;32mc:\\Users\\Maarten\\miniforge3\\envs\\micro-sam\\Lib\\site-packages\\psygnal\\_weak_callback.py:357\u001b[0m, in \u001b[0;36mStrongFunction.cb\u001b[1;34m(self=<StrongFunction on magicgui.widgets._function_gu...onGui.__init__.<locals>._disable_button_and_call>, args=())\u001b[0m\n",
      "\u001b[0;32m    356\u001b[0m     args \u001b[38;5;241m=\u001b[39m args[: \u001b[38;5;28mself\u001b[39m\u001b[38;5;241m.\u001b[39m_max_args]\n",
      "\u001b[1;32m--> 357\u001b[0m \u001b[38;5;28;43mself\u001b[39;49m\u001b[38;5;241;43m.\u001b[39;49m\u001b[43m_f\u001b[49m\u001b[43m(\u001b[49m\u001b[38;5;241;43m*\u001b[39;49m\u001b[38;5;28;43mself\u001b[39;49m\u001b[38;5;241;43m.\u001b[39;49m\u001b[43m_args\u001b[49m\u001b[43m,\u001b[49m\u001b[43m \u001b[49m\u001b[38;5;241;43m*\u001b[39;49m\u001b[43margs\u001b[49m\u001b[43m,\u001b[49m\u001b[43m \u001b[49m\u001b[38;5;241;43m*\u001b[39;49m\u001b[38;5;241;43m*\u001b[39;49m\u001b[38;5;28;43mself\u001b[39;49m\u001b[38;5;241;43m.\u001b[39;49m\u001b[43m_kwargs\u001b[49m\u001b[43m)\u001b[49m\n",
      "        args \u001b[1;34m= ()\u001b[0m\u001b[1;34m\n",
      "        \u001b[0mself._f \u001b[1;34m= <function FunctionGui.__init__.<locals>._disable_button_and_call at 0x0000013E6D1A4C20>\u001b[0m\u001b[1;34m\n",
      "        \u001b[0mself \u001b[1;34m= <StrongFunction on magicgui.widgets._function_gui.FunctionGui.__init__.<locals>._disable_button_and_call>\u001b[0m\u001b[1;34m\n",
      "        \u001b[0mself._args \u001b[1;34m= ()\u001b[0m\u001b[1;34m\n",
      "        \u001b[0mself._kwargs \u001b[1;34m= {}\u001b[0m\n",
      "\n",
      "File \u001b[1;32mc:\\Users\\Maarten\\miniforge3\\envs\\micro-sam\\Lib\\site-packages\\magicgui\\widgets\\_function_gui.py:230\u001b[0m, in \u001b[0;36mFunctionGui.__init__.<locals>._disable_button_and_call\u001b[1;34m()\u001b[0m\n",
      "\u001b[0;32m    229\u001b[0m \u001b[38;5;28;01mfinally\u001b[39;00m:\n",
      "\u001b[1;32m--> 230\u001b[0m     \u001b[38;5;28;43mself\u001b[39;49m\u001b[38;5;241;43m.\u001b[39;49m\u001b[43m_call_button\u001b[49m\u001b[38;5;241;43m.\u001b[39;49m\u001b[43menabled\u001b[49m \u001b[38;5;241m=\u001b[39m \u001b[38;5;28;01mTrue\u001b[39;00m\n",
      "        Exception trying to inspect frame. No more locals available.\n",
      "\n",
      "File \u001b[1;32mc:\\Users\\Maarten\\miniforge3\\envs\\micro-sam\\Lib\\site-packages\\magicgui\\widgets\\bases\\_widget.py:236\u001b[0m, in \u001b[0;36mWidget.enabled\u001b[1;34m(self=<class 'magicgui.widgets.PushButton'> instance, value=True)\u001b[0m\n",
      "\u001b[0;32m    234\u001b[0m \u001b[38;5;129m@enabled\u001b[39m\u001b[38;5;241m.\u001b[39msetter\n",
      "\u001b[0;32m    235\u001b[0m \u001b[38;5;28;01mdef\u001b[39;00m \u001b[38;5;21menabled\u001b[39m(\u001b[38;5;28mself\u001b[39m, value: \u001b[38;5;28mbool\u001b[39m) \u001b[38;5;241m-\u001b[39m\u001b[38;5;241m>\u001b[39m \u001b[38;5;28;01mNone\u001b[39;00m:\n",
      "\u001b[1;32m--> 236\u001b[0m     \u001b[38;5;28;43mself\u001b[39;49m\u001b[38;5;241;43m.\u001b[39;49m\u001b[43m_widget\u001b[49m\u001b[38;5;241;43m.\u001b[39;49m\u001b[43m_mgui_set_enabled\u001b[49m\u001b[43m(\u001b[49m\u001b[43mvalue\u001b[49m\u001b[43m)\u001b[49m\n",
      "        value \u001b[1;34m= True\u001b[0m\u001b[1;34m\n",
      "        \u001b[0mself._widget \u001b[1;34m= <magicgui.backends._qtpy.widgets.PushButton object at 0x0000013E6D1AB990>\u001b[0m\u001b[1;34m\n",
      "        \u001b[0mException trying to inspect frame. No more locals available.\n",
      "\n",
      "File \u001b[1;32mc:\\Users\\Maarten\\miniforge3\\envs\\micro-sam\\Lib\\site-packages\\magicgui\\backends\\_qtpy\\widgets.py:89\u001b[0m, in \u001b[0;36mQBaseWidget._mgui_set_enabled\u001b[1;34m(self=<magicgui.backends._qtpy.widgets.PushButton object>, enabled=True)\u001b[0m\n",
      "\u001b[0;32m     88\u001b[0m \u001b[38;5;28;01mdef\u001b[39;00m \u001b[38;5;21m_mgui_set_enabled\u001b[39m(\u001b[38;5;28mself\u001b[39m, enabled: \u001b[38;5;28mbool\u001b[39m) \u001b[38;5;241m-\u001b[39m\u001b[38;5;241m>\u001b[39m \u001b[38;5;28;01mNone\u001b[39;00m:\n",
      "\u001b[1;32m---> 89\u001b[0m     \u001b[38;5;28;43mself\u001b[39;49m\u001b[38;5;241;43m.\u001b[39;49m\u001b[43m_qwidget\u001b[49m\u001b[38;5;241;43m.\u001b[39;49m\u001b[43msetEnabled\u001b[49m\u001b[43m(\u001b[49m\u001b[43menabled\u001b[49m\u001b[43m)\u001b[49m\n",
      "        enabled \u001b[1;34m= True\u001b[0m\u001b[1;34m\n",
      "        \u001b[0mself._qwidget \u001b[1;34m= <PyQt5.QtWidgets.QPushButton object at 0x0000013E6D1739A0>\u001b[0m\u001b[1;34m\n",
      "        \u001b[0mself \u001b[1;34m= <magicgui.backends._qtpy.widgets.PushButton object at 0x0000013E6D1AB990>\u001b[0m\n",
      "\n",
      "\u001b[1;31mRuntimeError\u001b[0m: wrapped C/C++ object of type QPushButton has been deleted\n",
      "\n",
      "The above exception was the direct cause of the following exception:\n",
      "\n",
      "\u001b[1;31mEmitLoopError\u001b[0m                             Traceback (most recent call last)\n",
      "File \u001b[1;32mc:\\Users\\Maarten\\miniforge3\\envs\\micro-sam\\Lib\\site-packages\\magicgui\\widgets\\bases\\_value_widget.py:71\u001b[0m, in \u001b[0;36mValueWidget._on_value_change\u001b[1;34m(self=<class 'magicgui.widgets.PushButton'> instance, value=False)\u001b[0m\n",
      "\u001b[0;32m     69\u001b[0m \u001b[38;5;28;01mif\u001b[39;00m value \u001b[38;5;129;01mis\u001b[39;00m \u001b[38;5;28mself\u001b[39m\u001b[38;5;241m.\u001b[39mnull_value \u001b[38;5;129;01mand\u001b[39;00m \u001b[38;5;129;01mnot\u001b[39;00m \u001b[38;5;28mself\u001b[39m\u001b[38;5;241m.\u001b[39m_nullable:\n",
      "\u001b[0;32m     70\u001b[0m     \u001b[38;5;28;01mreturn\u001b[39;00m\n",
      "\u001b[1;32m---> 71\u001b[0m \u001b[38;5;28;43mself\u001b[39;49m\u001b[38;5;241;43m.\u001b[39;49m\u001b[43mchanged\u001b[49m\u001b[38;5;241;43m.\u001b[39;49m\u001b[43memit\u001b[49m\u001b[43m(\u001b[49m\u001b[43mvalue\u001b[49m\u001b[43m)\u001b[49m\n",
      "        value \u001b[1;34m= False\u001b[0m\u001b[1;34m\n",
      "        \u001b[0mException trying to inspect frame. No more locals available.\n",
      "\n",
      "File \u001b[1;32mc:\\Users\\Maarten\\miniforge3\\envs\\micro-sam\\Lib\\site-packages\\psygnal\\_signal.py:1176\u001b[0m, in \u001b[0;36mSignalInstance.emit\u001b[1;34m(self=<class 'psygnal._signal.SignalInstance'> instance, check_nargs=False, check_types=False, *args=(False,))\u001b[0m\n",
      "\u001b[0;32m   1172\u001b[0m     \u001b[38;5;28;01mfrom\u001b[39;00m \u001b[38;5;21;01m.\u001b[39;00m\u001b[38;5;21;01m_group\u001b[39;00m \u001b[38;5;28;01mimport\u001b[39;00m EmissionInfo\n",
      "\u001b[0;32m   1174\u001b[0m     SignalInstance\u001b[38;5;241m.\u001b[39m_debug_hook(EmissionInfo(\u001b[38;5;28mself\u001b[39m, args))\n",
      "\u001b[1;32m-> 1176\u001b[0m \u001b[38;5;28;43mself\u001b[39;49m\u001b[38;5;241;43m.\u001b[39;49m\u001b[43m_run_emit_loop\u001b[49m\u001b[43m(\u001b[49m\u001b[43margs\u001b[49m\u001b[43m)\u001b[49m\n",
      "        Exception trying to inspect frame. No more locals available.\n",
      "\n",
      "File \u001b[1;32mc:\\Users\\Maarten\\miniforge3\\envs\\micro-sam\\Lib\\site-packages\\psygnal\\_signal.py:1213\u001b[0m, in \u001b[0;36mSignalInstance._run_emit_loop\u001b[1;34m(self=<class 'psygnal._signal.SignalInstance'> instance, args=(False,))\u001b[0m\n",
      "\u001b[0;32m   1205\u001b[0m     loop_err \u001b[38;5;241m=\u001b[39m EmitLoopError(\n",
      "\u001b[0;32m   1206\u001b[0m         exc\u001b[38;5;241m=\u001b[39mcb_err,\n",
      "\u001b[0;32m   1207\u001b[0m         signal\u001b[38;5;241m=\u001b[39m\u001b[38;5;28mself\u001b[39m,\n",
      "\u001b[1;32m   (...)\u001b[0m\n",
      "\u001b[0;32m   1210\u001b[0m         emit_queue\u001b[38;5;241m=\u001b[39m\u001b[38;5;28mself\u001b[39m\u001b[38;5;241m.\u001b[39m_emit_queue,\n",
      "\u001b[0;32m   1211\u001b[0m     )\u001b[38;5;241m.\u001b[39mwith_traceback(cb_err\u001b[38;5;241m.\u001b[39m__traceback__)\n",
      "\u001b[0;32m   1212\u001b[0m     \u001b[38;5;66;03m# this comment will show up in the traceback\u001b[39;00m\n",
      "\u001b[1;32m-> 1213\u001b[0m     \u001b[38;5;28;01mraise\u001b[39;00m loop_err \u001b[38;5;28;01mfrom\u001b[39;00m \u001b[38;5;21;01mcb_err\u001b[39;00m  \u001b[38;5;66;03m# emit() call ABOVE || callback error BELOW\u001b[39;00m\n",
      "        loop_err \u001b[1;34m= EmitLoopError(\"\\n\\nWhile emitting signal 'magicgui.widgets.PushButton.changed', a RuntimeError occurred in a callback:\\n\\n  Signal emitted at: c:\\\\Users\\\\Maarten\\\\miniforge3\\\\envs\\\\micro-sam\\\\Lib\\\\site-packages\\\\magicgui\\\\widgets\\\\bases\\\\_value_widget.py:71, in _on_value_change\\n    >  self.changed.emit(value)\\n\\n  Callback error at: c:\\\\Users\\\\Maarten\\\\miniforge3\\\\envs\\\\micro-sam\\\\Lib\\\\site-packages\\\\magicgui\\\\backends\\\\_qtpy\\\\widgets.py:89, in _mgui_set_enabled\\n    >  self._qwidget.setEnabled(enabled)\\n\\n    Local variables:\\n       enabled = True\\n\\nSee RuntimeError above for original traceback.\")\u001b[0m\n",
      "\u001b[0;32m   1214\u001b[0m \u001b[38;5;28;01mfinally\u001b[39;00m:\n",
      "\u001b[0;32m   1215\u001b[0m     \u001b[38;5;28mself\u001b[39m\u001b[38;5;241m.\u001b[39m_recursion_depth \u001b[38;5;241m-\u001b[39m\u001b[38;5;241m=\u001b[39m \u001b[38;5;241m1\u001b[39m\n",
      "\n",
      "File \u001b[1;32mc:\\Users\\Maarten\\miniforge3\\envs\\micro-sam\\Lib\\site-packages\\psygnal\\_signal.py:1196\u001b[0m, in \u001b[0;36mSignalInstance._run_emit_loop\u001b[1;34m(self=<class 'psygnal._signal.SignalInstance'> instance, args=(False,))\u001b[0m\n",
      "\u001b[0;32m   1192\u001b[0m     \u001b[38;5;28mself\u001b[39m\u001b[38;5;241m.\u001b[39m_max_recursion_depth \u001b[38;5;241m=\u001b[39m \u001b[38;5;28mmax\u001b[39m(\n",
      "\u001b[0;32m   1193\u001b[0m         \u001b[38;5;28mself\u001b[39m\u001b[38;5;241m.\u001b[39m_max_recursion_depth, \u001b[38;5;28mself\u001b[39m\u001b[38;5;241m.\u001b[39m_recursion_depth\n",
      "\u001b[0;32m   1194\u001b[0m     )\n",
      "\u001b[0;32m   1195\u001b[0m     \u001b[38;5;28;01mwith\u001b[39;00m Signal\u001b[38;5;241m.\u001b[39m_emitting(\u001b[38;5;28mself\u001b[39m):\n",
      "\u001b[1;32m-> 1196\u001b[0m         \u001b[38;5;28;43mself\u001b[39;49m\u001b[38;5;241;43m.\u001b[39;49m\u001b[43m_run_emit_loop_inner\u001b[49m\u001b[43m(\u001b[49m\u001b[43m)\u001b[49m\n",
      "        Exception trying to inspect frame. No more locals available.\n",
      "\u001b[0;32m   1197\u001b[0m \u001b[38;5;28;01mexcept\u001b[39;00m \u001b[38;5;167;01mRecursionError\u001b[39;00m \u001b[38;5;28;01mas\u001b[39;00m e:\n",
      "\u001b[0;32m   1198\u001b[0m     \u001b[38;5;28;01mraise\u001b[39;00m \u001b[38;5;167;01mRecursionError\u001b[39;00m(\n",
      "\u001b[0;32m   1199\u001b[0m         \u001b[38;5;124mf\u001b[39m\u001b[38;5;124m\"\u001b[39m\u001b[38;5;124mRecursionError when \u001b[39m\u001b[38;5;124m\"\u001b[39m\n",
      "\u001b[0;32m   1200\u001b[0m         \u001b[38;5;124mf\u001b[39m\u001b[38;5;124m\"\u001b[39m\u001b[38;5;124memitting signal \u001b[39m\u001b[38;5;132;01m{\u001b[39;00m\u001b[38;5;28mself\u001b[39m\u001b[38;5;241m.\u001b[39mname\u001b[38;5;132;01m!r}\u001b[39;00m\u001b[38;5;124m with args \u001b[39m\u001b[38;5;132;01m{\u001b[39;00margs\u001b[38;5;132;01m}\u001b[39;00m\u001b[38;5;124m\"\u001b[39m\n",
      "\u001b[0;32m   1201\u001b[0m     ) \u001b[38;5;28;01mfrom\u001b[39;00m \u001b[38;5;21;01me\u001b[39;00m\n",
      "\n",
      "File \u001b[1;32mc:\\Users\\Maarten\\miniforge3\\envs\\micro-sam\\Lib\\site-packages\\psygnal\\_signal.py:1225\u001b[0m, in \u001b[0;36mSignalInstance._run_emit_loop_immediate\u001b[1;34m(self=<class 'psygnal._signal.SignalInstance'> instance)\u001b[0m\n",
      "\u001b[0;32m   1223\u001b[0m args \u001b[38;5;241m=\u001b[39m \u001b[38;5;28mself\u001b[39m\u001b[38;5;241m.\u001b[39m_emit_queue\u001b[38;5;241m.\u001b[39mpopleft()\n",
      "\u001b[0;32m   1224\u001b[0m \u001b[38;5;28;01mfor\u001b[39;00m caller \u001b[38;5;129;01min\u001b[39;00m \u001b[38;5;28mself\u001b[39m\u001b[38;5;241m.\u001b[39m_slots:\n",
      "\u001b[1;32m-> 1225\u001b[0m     \u001b[43mcaller\u001b[49m\u001b[38;5;241;43m.\u001b[39;49m\u001b[43mcb\u001b[49m\u001b[43m(\u001b[49m\u001b[43margs\u001b[49m\u001b[43m)\u001b[49m\n",
      "        args \u001b[1;34m= (False,)\u001b[0m\u001b[1;34m\n",
      "        \u001b[0mcaller \u001b[1;34m= <StrongFunction on magicgui.widgets._function_gui.FunctionGui.__init__.<locals>._disable_button_and_call>\u001b[0m\n",
      "\n",
      "File \u001b[1;32mc:\\Users\\Maarten\\miniforge3\\envs\\micro-sam\\Lib\\site-packages\\psygnal\\_weak_callback.py:357\u001b[0m, in \u001b[0;36mStrongFunction.cb\u001b[1;34m(self=<StrongFunction on magicgui.widgets._function_gu...onGui.__init__.<locals>._disable_button_and_call>, args=())\u001b[0m\n",
      "\u001b[0;32m    355\u001b[0m \u001b[38;5;28;01mif\u001b[39;00m \u001b[38;5;28mself\u001b[39m\u001b[38;5;241m.\u001b[39m_max_args \u001b[38;5;129;01mis\u001b[39;00m \u001b[38;5;129;01mnot\u001b[39;00m \u001b[38;5;28;01mNone\u001b[39;00m:\n",
      "\u001b[0;32m    356\u001b[0m     args \u001b[38;5;241m=\u001b[39m args[: \u001b[38;5;28mself\u001b[39m\u001b[38;5;241m.\u001b[39m_max_args]\n",
      "\u001b[1;32m--> 357\u001b[0m \u001b[38;5;28;43mself\u001b[39;49m\u001b[38;5;241;43m.\u001b[39;49m\u001b[43m_f\u001b[49m\u001b[43m(\u001b[49m\u001b[38;5;241;43m*\u001b[39;49m\u001b[38;5;28;43mself\u001b[39;49m\u001b[38;5;241;43m.\u001b[39;49m\u001b[43m_args\u001b[49m\u001b[43m,\u001b[49m\u001b[43m \u001b[49m\u001b[38;5;241;43m*\u001b[39;49m\u001b[43margs\u001b[49m\u001b[43m,\u001b[49m\u001b[43m \u001b[49m\u001b[38;5;241;43m*\u001b[39;49m\u001b[38;5;241;43m*\u001b[39;49m\u001b[38;5;28;43mself\u001b[39;49m\u001b[38;5;241;43m.\u001b[39;49m\u001b[43m_kwargs\u001b[49m\u001b[43m)\u001b[49m\n",
      "        args \u001b[1;34m= ()\u001b[0m\u001b[1;34m\n",
      "        \u001b[0mself._f \u001b[1;34m= <function FunctionGui.__init__.<locals>._disable_button_and_call at 0x0000013E6D1A4C20>\u001b[0m\u001b[1;34m\n",
      "        \u001b[0mself \u001b[1;34m= <StrongFunction on magicgui.widgets._function_gui.FunctionGui.__init__.<locals>._disable_button_and_call>\u001b[0m\u001b[1;34m\n",
      "        \u001b[0mself._args \u001b[1;34m= ()\u001b[0m\u001b[1;34m\n",
      "        \u001b[0mself._kwargs \u001b[1;34m= {}\u001b[0m\n",
      "\n",
      "File \u001b[1;32mc:\\Users\\Maarten\\miniforge3\\envs\\micro-sam\\Lib\\site-packages\\magicgui\\widgets\\_function_gui.py:230\u001b[0m, in \u001b[0;36mFunctionGui.__init__.<locals>._disable_button_and_call\u001b[1;34m()\u001b[0m\n",
      "\u001b[0;32m    228\u001b[0m     \u001b[38;5;28mself\u001b[39m\u001b[38;5;241m.\u001b[39m\u001b[38;5;21m__call__\u001b[39m()\n",
      "\u001b[0;32m    229\u001b[0m \u001b[38;5;28;01mfinally\u001b[39;00m:\n",
      "\u001b[1;32m--> 230\u001b[0m     \u001b[38;5;28;43mself\u001b[39;49m\u001b[38;5;241;43m.\u001b[39;49m\u001b[43m_call_button\u001b[49m\u001b[38;5;241;43m.\u001b[39;49m\u001b[43menabled\u001b[49m \u001b[38;5;241m=\u001b[39m \u001b[38;5;28;01mTrue\u001b[39;00m\n",
      "        Exception trying to inspect frame. No more locals available.\n",
      "\n",
      "File \u001b[1;32mc:\\Users\\Maarten\\miniforge3\\envs\\micro-sam\\Lib\\site-packages\\magicgui\\widgets\\bases\\_widget.py:236\u001b[0m, in \u001b[0;36mWidget.enabled\u001b[1;34m(self=<class 'magicgui.widgets.PushButton'> instance, value=True)\u001b[0m\n",
      "\u001b[0;32m    234\u001b[0m \u001b[38;5;129m@enabled\u001b[39m\u001b[38;5;241m.\u001b[39msetter\n",
      "\u001b[0;32m    235\u001b[0m \u001b[38;5;28;01mdef\u001b[39;00m \u001b[38;5;21menabled\u001b[39m(\u001b[38;5;28mself\u001b[39m, value: \u001b[38;5;28mbool\u001b[39m) \u001b[38;5;241m-\u001b[39m\u001b[38;5;241m>\u001b[39m \u001b[38;5;28;01mNone\u001b[39;00m:\n",
      "\u001b[1;32m--> 236\u001b[0m     \u001b[38;5;28;43mself\u001b[39;49m\u001b[38;5;241;43m.\u001b[39;49m\u001b[43m_widget\u001b[49m\u001b[38;5;241;43m.\u001b[39;49m\u001b[43m_mgui_set_enabled\u001b[49m\u001b[43m(\u001b[49m\u001b[43mvalue\u001b[49m\u001b[43m)\u001b[49m\n",
      "        value \u001b[1;34m= True\u001b[0m\u001b[1;34m\n",
      "        \u001b[0mself._widget \u001b[1;34m= <magicgui.backends._qtpy.widgets.PushButton object at 0x0000013E6D1AB990>\u001b[0m\u001b[1;34m\n",
      "        \u001b[0mException trying to inspect frame. No more locals available.\n",
      "\n",
      "File \u001b[1;32mc:\\Users\\Maarten\\miniforge3\\envs\\micro-sam\\Lib\\site-packages\\magicgui\\backends\\_qtpy\\widgets.py:89\u001b[0m, in \u001b[0;36mQBaseWidget._mgui_set_enabled\u001b[1;34m(self=<magicgui.backends._qtpy.widgets.PushButton object>, enabled=True)\u001b[0m\n",
      "\u001b[0;32m     88\u001b[0m \u001b[38;5;28;01mdef\u001b[39;00m \u001b[38;5;21m_mgui_set_enabled\u001b[39m(\u001b[38;5;28mself\u001b[39m, enabled: \u001b[38;5;28mbool\u001b[39m) \u001b[38;5;241m-\u001b[39m\u001b[38;5;241m>\u001b[39m \u001b[38;5;28;01mNone\u001b[39;00m:\n",
      "\u001b[1;32m---> 89\u001b[0m     \u001b[38;5;28;43mself\u001b[39;49m\u001b[38;5;241;43m.\u001b[39;49m\u001b[43m_qwidget\u001b[49m\u001b[38;5;241;43m.\u001b[39;49m\u001b[43msetEnabled\u001b[49m\u001b[43m(\u001b[49m\u001b[43menabled\u001b[49m\u001b[43m)\u001b[49m\n",
      "        enabled \u001b[1;34m= True\u001b[0m\u001b[1;34m\n",
      "        \u001b[0mself._qwidget \u001b[1;34m= <PyQt5.QtWidgets.QPushButton object at 0x0000013E6D1739A0>\u001b[0m\u001b[1;34m\n",
      "        \u001b[0mself \u001b[1;34m= <magicgui.backends._qtpy.widgets.PushButton object at 0x0000013E6D1AB990>\u001b[0m\n",
      "\n",
      "\u001b[1;31mEmitLoopError\u001b[0m: \n",
      "\n",
      "While emitting signal 'magicgui.widgets.PushButton.changed', a RuntimeError occurred in a callback:\n",
      "\n",
      "  Signal emitted at: c:\\Users\\Maarten\\miniforge3\\envs\\micro-sam\\Lib\\site-packages\\magicgui\\widgets\\bases\\_value_widget.py:71, in _on_value_change\n",
      "    >  self.changed.emit(value)\n",
      "\n",
      "  Callback error at: c:\\Users\\Maarten\\miniforge3\\envs\\micro-sam\\Lib\\site-packages\\magicgui\\backends\\_qtpy\\widgets.py:89, in _mgui_set_enabled\n",
      "    >  self._qwidget.setEnabled(enabled)\n",
      "\n",
      "    Local variables:\n",
      "       enabled = True\n",
      "\n",
      "See RuntimeError above for original traceback.\n",
      "Found 4 annotation files in c:\\Users\\Maarten\\Documents\\Github\\omero_annotate_ai\\examples\\omero_annotations_patch\\annotations\n",
      "🔍 Step 1: Loading label image from c:\\Users\\Maarten\\Documents\\Github\\omero_annotate_ai\\examples\\omero_annotations_patch\\annotations\\seg_00000.tif\n",
      "📋 Label image loaded: (512, 512), dtype: uint32\n",
      "🏷️ Found 25 unique labels: [0 1 2 3 4 5 6 7 8 9]...\n",
      "🔍 Step 2: Converting labels to ROI shapes...\n",
      "✅ Created 24 ROI shapes from labels\n",
      "🔍 Step 3: Uploading label file as attachment\n"
     ]
    },
    {
     "name": "stderr",
     "output_type": "stream",
     "text": [
      "INFO:omero.gateway:Registered c85dffe1-7e5d-4b32-97d8-1f7432834f44/b53ead43-7112-4dc1-a144-a05eed8564c3omero.api.RawFileStore -t -e 1.1:tcp -h 172.19.0.8 -p 34317 -t 60000\n",
      "INFO:omero.gateway:Unregistered c85dffe1-7e5d-4b32-97d8-1f7432834f44/b53ead43-7112-4dc1-a144-a05eed8564c3omero.api.RawFileStore -t -e 1.1:tcp -h 172.19.0.8 -p 34317 -t 60000\n"
     ]
    },
    {
     "name": "stdout",
     "output_type": "stream",
     "text": [
      "✅ File annotation uploaded with ID: 1413\n",
      "🔍 Step 4: Uploading ROI shapes\n",
      "✅ Created 24 ROI shapes for image 455 with ID: 351\n",
      "☁️ Uploaded annotations from c:\\Users\\Maarten\\Documents\\Github\\omero_annotate_ai\\examples\\omero_annotations_patch\\annotations\\seg_00000.tif to image 455\n",
      "   Patch offset: (201, 245)\n",
      "   File annotation ID: 1413\n",
      "   ROI ID: 351\n",
      "🔍 Step 1: Loading label image from c:\\Users\\Maarten\\Documents\\Github\\omero_annotate_ai\\examples\\omero_annotations_patch\\annotations\\seg_00001.tif\n",
      "📋 Label image loaded: (512, 512), dtype: uint32\n",
      "🏷️ Found 18 unique labels: [0 1 2 3 4 5 6 7 8 9]...\n",
      "🔍 Step 2: Converting labels to ROI shapes...\n",
      "✅ Created 17 ROI shapes from labels\n",
      "🔍 Step 3: Uploading label file as attachment\n"
     ]
    },
    {
     "name": "stderr",
     "output_type": "stream",
     "text": [
      "INFO:omero.gateway:Registered c85dffe1-7e5d-4b32-97d8-1f7432834f44/ce3cd7f0-3e4e-4adb-90ea-a88f582ab877omero.api.RawFileStore -t -e 1.1:tcp -h 172.19.0.8 -p 34317 -t 60000\n",
      "INFO:omero.gateway:Unregistered c85dffe1-7e5d-4b32-97d8-1f7432834f44/ce3cd7f0-3e4e-4adb-90ea-a88f582ab877omero.api.RawFileStore -t -e 1.1:tcp -h 172.19.0.8 -p 34317 -t 60000\n",
      "INFO:omero.gateway:Registered c85dffe1-7e5d-4b32-97d8-1f7432834f44/17b0382c-5322-4e68-8e95-5cb99572a8d5omero.api.RawFileStore -t -e 1.1:tcp -h 172.19.0.8 -p 34317 -t 60000\n"
     ]
    },
    {
     "name": "stdout",
     "output_type": "stream",
     "text": [
      "✅ File annotation uploaded with ID: 1414\n",
      "🔍 Step 4: Uploading ROI shapes\n",
      "✅ Created 17 ROI shapes for image 456 with ID: 352\n",
      "☁️ Uploaded annotations from c:\\Users\\Maarten\\Documents\\Github\\omero_annotate_ai\\examples\\omero_annotations_patch\\annotations\\seg_00001.tif to image 456\n",
      "   Patch offset: (326, 217)\n",
      "   File annotation ID: 1414\n",
      "   ROI ID: 352\n",
      "🔍 Step 1: Loading label image from c:\\Users\\Maarten\\Documents\\Github\\omero_annotate_ai\\examples\\omero_annotations_patch\\annotations\\seg_00002.tif\n",
      "📋 Label image loaded: (512, 512), dtype: uint32\n",
      "🏷️ Found 12 unique labels: [0 1 2 3 4 5 6 7 8 9]...\n",
      "🔍 Step 2: Converting labels to ROI shapes...\n",
      "✅ Created 11 ROI shapes from labels\n",
      "🔍 Step 3: Uploading label file as attachment\n"
     ]
    },
    {
     "name": "stderr",
     "output_type": "stream",
     "text": [
      "INFO:omero.gateway:Unregistered c85dffe1-7e5d-4b32-97d8-1f7432834f44/17b0382c-5322-4e68-8e95-5cb99572a8d5omero.api.RawFileStore -t -e 1.1:tcp -h 172.19.0.8 -p 34317 -t 60000\n",
      "INFO:omero.gateway:Registered c85dffe1-7e5d-4b32-97d8-1f7432834f44/af182f2c-56cc-4ae2-bed3-3d2c572e2630omero.api.RawFileStore -t -e 1.1:tcp -h 172.19.0.8 -p 34317 -t 60000\n"
     ]
    },
    {
     "name": "stdout",
     "output_type": "stream",
     "text": [
      "✅ File annotation uploaded with ID: 1415\n",
      "🔍 Step 4: Uploading ROI shapes\n",
      "✅ Created 11 ROI shapes for image 452 with ID: 353\n",
      "☁️ Uploaded annotations from c:\\Users\\Maarten\\Documents\\Github\\omero_annotate_ai\\examples\\omero_annotations_patch\\annotations\\seg_00002.tif to image 452\n",
      "   Patch offset: (70, 490)\n",
      "   File annotation ID: 1415\n",
      "   ROI ID: 353\n",
      "🔍 Step 1: Loading label image from c:\\Users\\Maarten\\Documents\\Github\\omero_annotate_ai\\examples\\omero_annotations_patch\\annotations\\seg_00003.tif\n",
      "📋 Label image loaded: (512, 512), dtype: uint32\n",
      "🏷️ Found 4 unique labels: [0 1 2 3]...\n",
      "🔍 Step 2: Converting labels to ROI shapes...\n",
      "✅ Created 4 ROI shapes from labels\n",
      "🔍 Step 3: Uploading label file as attachment\n"
     ]
    },
    {
     "name": "stderr",
     "output_type": "stream",
     "text": [
      "INFO:omero.gateway:Unregistered c85dffe1-7e5d-4b32-97d8-1f7432834f44/af182f2c-56cc-4ae2-bed3-3d2c572e2630omero.api.RawFileStore -t -e 1.1:tcp -h 172.19.0.8 -p 34317 -t 60000\n"
     ]
    },
    {
     "name": "stdout",
     "output_type": "stream",
     "text": [
      "✅ File annotation uploaded with ID: 1416\n",
      "🔍 Step 4: Uploading ROI shapes\n",
      "✅ Created 4 ROI shapes for image 457 with ID: 354\n",
      "☁️ Uploaded annotations from c:\\Users\\Maarten\\Documents\\Github\\omero_annotate_ai\\examples\\omero_annotations_patch\\annotations\\seg_00003.tif to image 457\n",
      "   Patch offset: (213, 332)\n",
      "   File annotation ID: 1416\n",
      "   ROI ID: 354\n",
      "Using table title: micro_sam_training_micro_sam_foci_test_20250825_103304\n",
      "🗑️ Deleting table: micro_sam_training_micro_sam_foci_test_20250825_103304\n",
      "✅ Successfully deleted table 1410\n",
      "📋 Table updated: 1410 → 1417\n",
      "Created zip file: c:\\Users\\Maarten\\Documents\\Github\\omero_annotate_ai\\examples\\omero_annotations_patch\\embeddings_4.zip\n",
      "Cleaned up embeddings: c:\\Users\\Maarten\\Documents\\Github\\omero_annotate_ai\\examples\\omero_annotations_patch\\embed\n",
      "object group 0\n",
      "📊 Workflow status updated: 4/4 (100.0%) - complete\n",
      "Completed batch 1 (4/4 total)\n",
      "Annotation processing completed successfully! Processed 4 units\n",
      "\n",
      "🎉 Annotation pipeline completed successfully!\n",
      "📊 Processed 10 images\n",
      "📋 Tracking table ID: 1417\n",
      "☁️ Annotations uploaded to OMERO\n"
     ]
    }
   ],
   "source": [
    "# Run the complete annotation pipeline\n",
    "print(\"🚀 Starting annotation pipeline...\")\n",
    "print(f\"   🔬 Using micro-SAM model: {config.ai_model.model_type}\")\n",
    "\n",
    "if config.processing.batch_size == 0:\n",
    "    print(f\"   ⚡ Processing: All images in one batch\")\n",
    "else:\n",
    "    print(f\"   📦 Processing: Batches of {config.processing.batch_size} images\")\n",
    "\n",
    "print(f\"   🎨 Napari will open for interactive annotation\")\n",
    "print(f\"   📝 Close napari windows when annotation is complete\")\n",
    "print()\n",
    "\n",
    "try:\n",
    "    # Run the complete workflow - this is the key call!\n",
    "    table_id, processed_images = pipeline.run_full_workflow()\n",
    "    \n",
    "    print(f\"\\n🎉 Annotation pipeline completed successfully!\")\n",
    "    print(f\"📊 Processed {len(processed_images)} images\")\n",
    "    print(f\"📋 Tracking table ID: {table_id}\")\n",
    "    \n",
    "    if config.workflow.read_only_mode:\n",
    "        print(f\"💾 Annotations saved locally to: {config.output.output_directory}\")\n",
    "    else:\n",
    "        print(f\"☁️ Annotations uploaded to OMERO\")\n",
    "        \n",
    "except Exception as e:\n",
    "    print(f\"❌ Error during annotation pipeline: {e}\")\n",
    "    import traceback\n",
    "    traceback.print_exc()\n",
    "    raise"
   ]
  },
  {
   "cell_type": "code",
   "execution_count": 10,
   "metadata": {},
   "outputs": [
    {
     "name": "stdout",
     "output_type": "stream",
     "text": [
      "📊 Pipeline Results Summary:\n",
      "   🎯 Training Set: micro_sam_foci_test_20250825_103304\n",
      "   📋 Tracking Table ID: 1417\n",
      "   📊 Images Processed: 10\n",
      "   📦 Container: project (ID: 201)\n",
      "   🔬 Model Used: vit_b_lm\n",
      "   📁 Output Location: c:\\Users\\Maarten\\Documents\\Github\\omero_annotate_ai\\examples\\omero_annotations_patch\n",
      "\n",
      "🖼️ Processed Images:\n",
      "   1. 001_MAX_ExpMP2410_005_IB10#1_2h, Position001.tif (ID: 451)\n",
      "   2. 002_MAX_ExpMP2410_005_IB10#1_2h, Position002.tif (ID: 452)\n",
      "   3. 009_MAX_ExpMP2410_005_IB10#1_noIR, Position001.tif (ID: 453)\n",
      "   4. 010_MAX_ExpMP2410_005_IB10#1_noIR, Position002.tif (ID: 454)\n",
      "   5. 017_MAX_ExpMP2410_005_D3_noIR, Position001.tif (ID: 455)\n",
      "   6. 018_MAX_ExpMP2410_005_D3_noIR, Position002.tif (ID: 456)\n",
      "   7. 025_MAX_ExpMP2410_005_D3_2h, Position001.tif (ID: 457)\n",
      "   8. 026_MAX_ExpMP2410_005_D3_2h, Position002.tif (ID: 458)\n",
      "   9. 041_MAX_ExpMP2410_005_A2_noIR, Position001.tif (ID: 459)\n",
      "   10. 042_MAX_ExpMP2410_005_A2_noIR, Position002.tif (ID: 460)\n",
      "\n",
      "✅ Pipeline completed successfully!\n"
     ]
    }
   ],
   "source": [
    "# Display results summary\n",
    "print(\"📊 Pipeline Results Summary:\")\n",
    "print(f\"   🎯 Training Set: {config.name}\")\n",
    "print(f\"   📋 Tracking Table ID: {table_id}\")\n",
    "print(f\"   📊 Images Processed: {len(processed_images)}\")\n",
    "print(f\"   📦 Container: {config.omero.container_type} (ID: {config.omero.container_id})\")\n",
    "print(f\"   🔬 Model Used: {config.ai_model.model_type}\")\n",
    "print(f\"   📁 Output Location: {config.output.output_directory}\")\n",
    "\n",
    "# Show processed images\n",
    "if processed_images:\n",
    "    print(f\"\\n🖼️ Processed Images:\")\n",
    "    for i, img_obj in enumerate(processed_images[:10]):\n",
    "        if img_obj:\n",
    "            print(f\"   {i + 1}. {img_obj.getName()} (ID: {img_obj.getId()})\")\n",
    "\n",
    "    if len(processed_images) > 10:\n",
    "        print(f\"   ... and {len(processed_images) - 10} more images\")\n",
    "\n",
    "print(f\"\\n✅ Pipeline completed successfully!\")"
   ]
  },
  {
   "cell_type": "code",
   "execution_count": null,
   "metadata": {},
   "outputs": [],
   "source": [
    "# Export configuration for future use\n",
    "config_filename = f\"annotation_config_{config.name}.yaml\"\n",
    "config_path = Path(config.output.output_directory) / config_filename\n",
    "\n",
    "try:\n",
    "    config.save_yaml(config_path)\n",
    "    print(f\"💾 Configuration saved to: {config_path}\")\n",
    "except Exception as e:\n",
    "    print(f\"⚠️ Could not save to output folder, saving to current directory\")\n",
    "    config.save_yaml(config_filename)\n",
    "    print(f\"💾 Configuration saved to: {config_filename}\")\n",
    "\n",
    "print(f\"\\n📋 Configuration Summary:\")\n",
    "print(f\"   Name: {config.name}\")\n",
    "print(f\"   Description: {config.description}\")\n",
    "print(f\"   Output Directory: {config.output.output_directory}\")\n",
    "print(f\"   Model Type: {config.ai_model.model_type}\")\n",
    "\n",
    "print(f\"\\n🔄 To reuse this configuration:\")\n",
    "print(f\"```python\")\n",
    "print(f\"from omero_annotate_ai import load_config\")\n",
    "print(f\"config = load_config('{config_filename}')\")\n",
    "print(f\"```\")"
   ]
  },
  {
   "cell_type": "code",
   "execution_count": null,
   "metadata": {},
   "outputs": [],
   "source": [
    "# Import training widget\n",
    "from omero_annotate_ai import create_training_data_widget\n",
    "\n",
    "print(\"Training Data Selection\")\n",
    "print(\"Select existing annotation tables for training:\")\n",
    "print()\n",
    "\n",
    "# Create and display training data widget\n",
    "training_widget = create_training_data_widget(connection=conn)\n",
    "training_widget.display()"
   ]
  },
  {
   "cell_type": "code",
   "execution_count": null,
   "metadata": {},
   "outputs": [],
   "source": [
    "# Get selected training table\n",
    "selected_table_id = training_widget.get_selected_table_id()\n",
    "selected_table_info = training_widget.get_selected_table_info()\n",
    "\n",
    "if selected_table_id:\n",
    "    print(f\"Selected training table:\")\n",
    "    print(f\"  Table ID: {selected_table_id}\")\n",
    "    print(f\"  Table Name: {selected_table_info.get('name', 'Unknown')}\")\n",
    "    print(f\"  Created: {selected_table_info.get('created', 'Unknown')}\")\n",
    "else:\n",
    "    print(\"No training table selected.\")"
   ]
  },
  {
   "cell_type": "markdown",
   "metadata": {},
   "source": [
    "### Training Data Preparation (Future)\n",
    "\n",
    "When the training data preparation function is implemented, you can use it like this:\n",
    "\n",
    "```python\n",
    "# Future implementation\n",
    "from omero_annotate_ai import prepare_training_data_from_table\n",
    "\n",
    "# Prepare training data automatically\n",
    "training_info = prepare_training_data_from_table(\n",
    "    conn=conn,\n",
    "    table_id=selected_table_id,\n",
    "    output_dir=\"./training_data\"\n",
    ")\n",
    "\n",
    "# Use training_info for micro-SAM training\n",
    "print(f\"Training data ready at: {training_info['paths']}\")\n",
    "```"
   ]
  },
  {
   "cell_type": "markdown",
   "metadata": {},
   "source": [
    "## 6. Cleanup\n",
    "\n",
    "Close the OMERO connection when finished."
   ]
  },
  {
   "cell_type": "code",
   "execution_count": null,
   "metadata": {},
   "outputs": [],
   "source": [
    "# Close OMERO connection\n",
    "if 'conn' in locals() and conn is not None:\n",
    "    conn.close()\n",
    "    print(\"🔌 OMERO connection closed\")\n",
    "\n",
    "print(f\"\\n🎉 Streamlined workflow completed!\")\n",
    "print(f\"📊 Total images processed: {len(processed_images) if 'processed_images' in locals() else 0}\")\n",
    "print(f\"💾 Configuration saved for future use\")\n",
    "print(f\"✨ Ready for next annotation workflow!\")"
   ]
  },
  {
   "cell_type": "markdown",
   "metadata": {},
   "source": []
  }
 ],
 "metadata": {
  "kernelspec": {
   "display_name": "micro-sam",
   "language": "python",
   "name": "python3"
  },
  "language_info": {
   "codemirror_mode": {
    "name": "ipython",
    "version": 3
   },
   "file_extension": ".py",
   "mimetype": "text/x-python",
   "name": "python",
   "nbconvert_exporter": "python",
   "pygments_lexer": "ipython3",
   "version": "3.11.11"
  }
 },
 "nbformat": 4,
 "nbformat_minor": 4
}
