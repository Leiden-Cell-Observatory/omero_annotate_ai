{
 "cells": [
  {
   "cell_type": "markdown",
   "metadata": {},
   "source": [
    "# 3D Volumetric Annotation with OMERO-Annotate-AI\n",
    "\n",
    "This notebook demonstrates how to use the 3D volumetric annotation features in omero-annotate-ai.\n",
    "\n",
    "## Features Covered:\n",
    "- 3D volumetric processing vs 2D slice-by-slice\n",
    "- Configuration for 3D workflows\n",
    "- Table schema with 3D fields\n",
    "- Volumetric ROI creation"
   ]
  },
  {
   "cell_type": "code",
   "execution_count": null,
   "metadata": {},
   "outputs": [],
   "source": [
    "import os\n",
    "from pathlib import Path\n",
    "from omero_annotate_ai import create_omero_connection_widget, create_workflow_widget, create_pipeline\n",
    "from omero_annotate_ai.core.annotation_config import AnnotationConfig, SpatialCoverage"
   ]
  },
  {
   "cell_type": "markdown",
   "metadata": {},
   "source": [
    "## Step 1: Connect to OMERO\n",
    "\n",
    "First, establish a connection to your OMERO server:"
   ]
  },
  {
   "cell_type": "code",
   "execution_count": null,
   "metadata": {},
   "outputs": [],
   "source": [
    "# Create and display connection widget\n",
    "conn_widget = create_omero_connection_widget()\n",
    "conn_widget.display()\n",
    "\n",
    "# Get connection after user authentication\n",
    "conn = conn_widget.get_connection()"
   ]
  },
  {
   "cell_type": "markdown",
   "metadata": {},
   "source": [
    "## Step 2: Configure 3D Volumetric Workflow\n",
    "\n",
    "Configure the workflow for true 3D volumetric processing:"
   ]
  },
  {
   "cell_type": "code",
   "execution_count": null,
   "metadata": {},
   "outputs": [],
   "source": [
    "# Option 1: Use workflow widget for interactive configuration\n",
    "workflow_widget = create_workflow_widget(connection=conn)\n",
    "workflow_widget.display()\n",
    "\n",
    "# Get configuration from widget\n",
    "config = workflow_widget.get_config()"
   ]
  },
  {
   "cell_type": "code",
   "execution_count": null,
   "metadata": {},
   "outputs": [],
   "source": [
    "# Option 2: Create 3D configuration programmatically\n",
    "config_3d = AnnotationConfig(\n",
    "    name=\"3d_volumetric_annotation\",\n",
    "    spatial_coverage=SpatialCoverage(\n",
    "        channels=[0],  # DAPI channel\n",
    "        timepoints=[0],  # Single timepoint\n",
    "        z_slices=[0, 1, 2, 3, 4, 5, 6, 7, 8, 9],  # 10 z-slices\n",
    "        z_slice_mode=\"specific\",\n",
    "        three_d=True,  # Enable 3D volumetric processing\n",
    "        z_range_start=0,  # Start of volume\n",
    "        z_range_end=9,    # End of volume\n",
    "    ),\n",
    "    # Configure for your OMERO container\n",
    "    omero={\n",
    "        \"container_type\": \"dataset\",\n",
    "        \"container_id\": 123,  # Replace with your dataset ID\n",
    "        \"source_desc\": \"3D nuclei segmentation dataset\"\n",
    "    },\n",
    "    # Processing settings\n",
    "    processing={\n",
    "        \"batch_size\": 1,  # Process one volume at a time\n",
    "        \"use_patches\": False,  # Full volume processing\n",
    "    },\n",
    "    # AI model settings\n",
    "    ai_model={\n",
    "        \"name\": \"micro-sam\",\n",
    "        \"model_type\": \"vit_b_lm\",  # Suitable for 3D\n",
    "    },\n",
    "    # Training settings\n",
    "    training={\n",
    "        \"train_n\": 2,\n",
    "        \"validate_n\": 1,\n",
    "        \"segment_all\": False,\n",
    "    }\n",
    ")\n",
    "\n",
    "print(f\"✅ 3D Configuration created:\")\n",
    "print(f\"  - Volumetric processing: {config_3d.spatial_coverage.is_volumetric}\")\n",
    "print(f\"  - Z-range: {config_3d.spatial_coverage.get_z_range()}\")\n",
    "print(f\"  - Z-length: {config_3d.spatial_coverage.get_z_length()}\")"
   ]
  },
  {
   "cell_type": "markdown",
   "metadata": {},
   "source": [
    "## Step 3: Create and Run 3D Pipeline\n",
    "\n",
    "Create the annotation pipeline with 3D support:"
   ]
  },
  {
   "cell_type": "code",
   "execution_count": null,
   "metadata": {},
   "outputs": [],
   "source": [
    "# Create pipeline with 3D configuration\n",
    "pipeline = create_pipeline(config_3d, conn)\n",
    "\n",
    "# Run the full workflow\n",
    "print(\"🚀 Starting 3D volumetric annotation workflow...\")\n",
    "table_id, processed_images = pipeline.run_full_workflow()\n",
    "\n",
    "print(f\"\\n✅ 3D annotation workflow completed!\")\n",
    "print(f\"📋 Table ID: {table_id}\")\n",
    "print(f\"📊 Processed {len(processed_images)} images as 3D volumes\")"
   ]
  },
  {
   "cell_type": "markdown",
   "metadata": {},
   "source": [
    "## Step 4: Verify 3D Table Schema\n",
    "\n",
    "Check that the annotation table includes the new 3D fields:"
   ]
  },
  {
   "cell_type": "code",
   "execution_count": null,
   "metadata": {},
   "outputs": [],
   "source": [
    "import ezomero\n",
    "import pandas as pd\n",
    "\n",
    "# Load the annotation table\n",
    "df = ezomero.get_table(conn, table_id)\n",
    "\n",
    "print(f\"📋 Table Schema ({len(df)} rows):\")\n",
    "print(f\"   Columns: {list(df.columns)}\")\n",
    "\n",
    "# Check for 3D-specific fields\n",
    "has_3d_fields = all(col in df.columns for col in ['z_start', 'z_end', 'z_length'])\n",
    "print(f\"\\n✅ 3D fields present: {has_3d_fields}\")\n",
    "\n",
    "if has_3d_fields:\n",
    "    volumetric_rows = df[df['is_volumetric'] == True]\n",
    "    print(f\"📊 Volumetric entries: {len(volumetric_rows)}\")\n",
    "    \n",
    "    if len(volumetric_rows) > 0:\n",
    "        print(\"\\n🔍 Sample 3D entry:\")\n",
    "        sample = volumetric_rows.iloc[0]\n",
    "        print(f\"   Image ID: {sample['image_id']}\")\n",
    "        print(f\"   Z-range: {sample['z_start']} - {sample['z_end']}\")\n",
    "        print(f\"   Z-length: {sample['z_length']}\")\n",
    "        print(f\"   Is volumetric: {sample['is_volumetric']}\")\n",
    "        print(f\"   Processed: {sample['processed']}\")"
   ]
  },
  {
   "cell_type": "markdown",
   "metadata": {},
   "source": [
    "## Step 5: Compare 2D vs 3D Processing\n",
    "\n",
    "Demonstrate the difference between 2D slice-by-slice and 3D volumetric processing:"
   ]
  },
  {
   "cell_type": "code",
   "execution_count": null,
   "metadata": {},
   "outputs": [],
   "source": [
    "# Create equivalent 2D configuration for comparison\n",
    "config_2d = AnnotationConfig(\n",
    "    name=\"2d_slice_annotation\",\n",
    "    spatial_coverage=SpatialCoverage(\n",
    "        channels=[0],\n",
    "        timepoints=[0],\n",
    "        z_slices=[0, 1, 2, 3, 4, 5, 6, 7, 8, 9],  # Same z-slices\n",
    "        z_slice_mode=\"specific\",\n",
    "        three_d=False,  # 2D slice-by-slice processing\n",
    "    ),\n",
    "    omero={\"container_type\": \"dataset\", \"container_id\": 123},\n",
    "    processing={\"batch_size\": 1, \"use_patches\": False},\n",
    "    ai_model={\"name\": \"micro-sam\", \"model_type\": \"vit_b_lm\"},\n",
    "    training={\"train_n\": 1, \"validate_n\": 1, \"segment_all\": False}\n",
    ")\n",
    "\n",
    "print(\"📊 Processing Mode Comparison:\")\n",
    "print(f\"\\n3D Volumetric Mode:\")\n",
    "print(f\"  - Volume processing: {config_3d.spatial_coverage.is_volumetric}\")\n",
    "print(f\"  - Expected table rows per image: 1 (full volume)\")\n",
    "print(f\"  - Z-range per row: {config_3d.spatial_coverage.get_z_range()}\")\n",
    "\n",
    "print(f\"\\n2D Slice Mode:\")\n",
    "print(f\"  - Volume processing: {config_2d.spatial_coverage.is_volumetric}\")\n",
    "print(f\"  - Expected table rows per image: {len(config_2d.spatial_coverage.z_slices)} (one per slice)\")\n",
    "print(f\"  - Z-range per row: Single slice\")"
   ]
  },
  {
   "cell_type": "markdown",
   "metadata": {},
   "source": [
    "## Step 6: Configuration Management\n",
    "\n",
    "Save and load 3D configurations:"
   ]
  },
  {
   "cell_type": "code",
   "execution_count": null,
   "metadata": {},
   "outputs": [],
   "source": [
    "# Save 3D configuration to YAML\n",
    "config_path = Path(\"3d_volumetric_config.yaml\")\n",
    "config_3d.save_yaml(config_path)\n",
    "print(f\"💾 3D configuration saved to: {config_path}\")\n",
    "\n",
    "# Load configuration from YAML\n",
    "loaded_config = AnnotationConfig.from_yaml(config_path)\n",
    "print(f\"📂 Configuration loaded successfully\")\n",
    "print(f\"   Name: {loaded_config.name}\")\n",
    "print(f\"   Volumetric: {loaded_config.spatial_coverage.is_volumetric}\")\n",
    "\n",
    "# Display YAML content\n",
    "print(f\"\\n📄 Configuration YAML:\")\n",
    "with open(config_path, 'r') as f:\n",
    "    print(f.read())"
   ]
  },
  {
   "cell_type": "markdown",
   "metadata": {},
   "source": [
    "## Key 3D Features Summary\n",
    "\n",
    "### Configuration Changes:\n",
    "- **`three_d: true`** - Enables 3D volumetric processing mode\n",
    "- **`z_range_start/z_range_end`** - Defines volume extent\n",
    "- **Backward compatibility** - Existing 2D configs work unchanged\n",
    "\n",
    "### Table Schema Enhancements:\n",
    "- **`z_start`** - Starting z-slice of volume\n",
    "- **`z_end`** - Ending z-slice of volume  \n",
    "- **`z_length`** - Number of z-slices in volume\n",
    "- **`is_volumetric`** - Boolean flag for volume processing\n",
    "\n",
    "### Processing Differences:\n",
    "- **2D Mode**: One table row per z-slice\n",
    "- **3D Mode**: One table row per volume (all z-slices)\n",
    "- **ROIs**: 3D volumes create multi-slice ROIs\n",
    "\n",
    "### Benefits:\n",
    "- **Reduced table size** - Fewer rows for 3D data\n",
    "- **Volume-aware processing** - Better for 3D structures\n",
    "- **Flexible z-ranges** - Process subsets of z-stacks\n",
    "- **Training compatibility** - Works with existing micro-SAM models"
   ]
  }
 ],
 "metadata": {
  "kernelspec": {
   "display_name": "Python 3",
   "language": "python",
   "name": "python3"
  },
  "language_info": {
   "codemirror_mode": {
    "name": "ipython",
    "version": 3
   },
   "file_extension": ".py",
   "mimetype": "text/x-python",
   "name": "python",
   "nbconvert_exporter": "python",
   "pygments_lexer": "ipython3",
   "version": "3.9.0"
  }
 },
 "nbformat": 4,
 "nbformat_minor": 4
}