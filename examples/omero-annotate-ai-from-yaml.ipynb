{
 "cells": [
  {
   "cell_type": "markdown",
   "metadata": {},
   "source": [
    "# OMERO Micro-SAM Workflow"
   ]
  },
  {
   "cell_type": "code",
   "execution_count": 1,
   "metadata": {},
   "outputs": [
    {
     "name": "stdout",
     "output_type": "stream",
     "text": [
      "omero-annotate-ai version: 0.1.0\n",
      "OMERO functionality: Available\n",
      "Keyring support: Available\n"
     ]
    }
   ],
   "source": [
    "import omero_annotate_ai\n",
    "from omero_annotate_ai import (\n",
    "    create_omero_connection_widget,\n",
    "    create_workflow_widget,\n",
    "    create_pipeline,\n",
    ")\n",
    "\n",
    "from omero_annotate_ai.core.config import load_config_from_yaml\n",
    "import os\n",
    "from pathlib import Path\n",
    "\n",
    "print(f\"omero-annotate-ai version: {omero_annotate_ai.__version__}\")\n",
    "\n",
    "try:\n",
    "    import ezomero\n",
    "    print(\"OMERO functionality: Available\")\n",
    "except ImportError:\n",
    "    print(\"OMERO functionality: Install with: pip install -e .[omero]\")\n",
    "\n",
    "try:\n",
    "    import keyring\n",
    "    print(\"Keyring support: Available\")\n",
    "except ImportError:\n",
    "    print(\"Keyring support: Not available\")"
   ]
  },
  {
   "cell_type": "markdown",
   "metadata": {},
   "source": [
    "## OMERO Connection"
   ]
  },
  {
   "cell_type": "code",
   "execution_count": null,
   "metadata": {},
   "outputs": [
    {
     "name": "stdout",
     "output_type": "stream",
     "text": [
      "📄 Loaded configuration from connection history: root@localhost\n",
      "🔐 Password loaded from keychain (no expiration)\n"
     ]
    },
    {
     "data": {
      "application/vnd.jupyter.widget-view+json": {
       "model_id": "36c4761715434e78a21542b45b252999",
       "version_major": 2,
       "version_minor": 0
      },
      "text/plain": [
       "VBox(children=(HTML(value='<h3>🔌 OMERO Server Connection</h3>', layout=Layout(margin='0 0 20px 0')), HTML(valu…"
      ]
     },
     "metadata": {},
     "output_type": "display_data"
    }
   ],
   "source": [
    "conn_widget = create_omero_connection_widget()\n",
    "conn_widget.display()"
   ]
  },
  {
   "cell_type": "code",
   "execution_count": 3,
   "metadata": {},
   "outputs": [
    {
     "name": "stdout",
     "output_type": "stream",
     "text": [
      "Connected as: root\n",
      "Group: system\n"
     ]
    }
   ],
   "source": [
    "conn = conn_widget.get_connection()\n",
    "\n",
    "if conn is None:\n",
    "    raise ConnectionError(\"No OMERO connection established\")\n",
    "\n",
    "print(f\"Connected as: {conn.getUser().getName()}\")\n",
    "print(f\"Group: {conn.getGroupFromContext().getName()}\")"
   ]
  },
  {
   "cell_type": "markdown",
   "metadata": {},
   "source": []
  },
  {
   "cell_type": "code",
   "execution_count": 13,
   "metadata": {},
   "outputs": [
    {
     "data": {
      "application/vnd.jupyter.widget-view+json": {
       "model_id": "8fd41aac0c5a4e79a4a98c0afcb7bece",
       "version_major": 2,
       "version_minor": 0
      },
      "text/plain": [
       "VBox(children=(HTML(value='<h3>🔬 OMERO Annotation Workflow</h3>', layout=Layout(margin='0 0 20px 0')), IntProg…"
      ]
     },
     "metadata": {},
     "output_type": "display_data"
    }
   ],
   "source": [
    "# Create the enhanced configuration widget with table management\n",
    "workflow_widget = create_workflow_widget(connection=conn)\n",
    "workflow_widget.display()"
   ]
  },
  {
   "cell_type": "markdown",
   "metadata": {},
   "source": [
    "## Pipeline Execution"
   ]
  },
  {
   "cell_type": "code",
   "execution_count": 5,
   "metadata": {},
   "outputs": [
    {
     "name": "stdout",
     "output_type": "stream",
     "text": [
      "Container: project (ID: 201)\n",
      "Training Set: micro_sam_foci_test_fridayafternoon\n",
      "Model: vit_b_lm\n",
      "Output: C:\\Users\\Maarten\\AppData\\Local\\Temp\\omero_annotations_m_14q2cq\n",
      "Patches: 1 per image (256×256)\n",
      "Scope: 1 training + 1 validation\n"
     ]
    }
   ],
   "source": [
    "config = load_config_from_yaml(\n",
    "    \"C:\\\\Users\\\\Maarten\\\\AppData\\Local\\Temp\\\\omero_annotations_m_14q2cq\\\\annotation_config.yaml\"\n",
    ")\n",
    "\n",
    "config.validate()\n",
    "\n",
    "print(f\"Container: {config.omero.container_type} (ID: {config.omero.container_id})\")\n",
    "print(f\"Training Set: {config.training.trainingset_name}\")\n",
    "print(f\"Model: {config.micro_sam.model_type}\")\n",
    "print(f\"Output: {config.batch_processing.output_folder}\")\n",
    "\n",
    "if config.patches.use_patches:\n",
    "    print(f\"Patches: {config.patches.patches_per_image} per image ({config.patches.patch_size[0]}×{config.patches.patch_size[1]})\")\n",
    "\n",
    "print(f\"Scope: {'All images' if config.training.segment_all else f'{config.training.train_n} training + {config.training.validate_n} validation'}\")"
   ]
  },
  {
   "cell_type": "code",
   "execution_count": 6,
   "metadata": {},
   "outputs": [
    {
     "name": "stdout",
     "output_type": "stream",
     "text": [
      "Container: foci_test\n",
      "📁 Loading images from project 201\n",
      "📊 Found 10 images\n",
      "Images to process: 10\n",
      "  1. 001_MAX_ExpMP2410_005_IB10#1_2h, Position001.tif (ID: 451)\n",
      "  2. 002_MAX_ExpMP2410_005_IB10#1_2h, Position002.tif (ID: 452)\n",
      "  3. 009_MAX_ExpMP2410_005_IB10#1_noIR, Position001.tif (ID: 453)\n",
      "  ... and 7 more\n"
     ]
    }
   ],
   "source": [
    "pipeline = create_pipeline(config, conn)\n",
    "\n",
    "container = conn.getObject(config.omero.container_type.capitalize(), config.omero.container_id)\n",
    "if container is None:\n",
    "    raise ValueError(f\"{config.omero.container_type} with ID {config.omero.container_id} not found\")\n",
    "\n",
    "print(f\"Container: {container.getName()}\")\n",
    "\n",
    "images_list = pipeline.get_images_from_container()\n",
    "print(f\"Images to process: {len(images_list)}\")\n",
    "\n",
    "for i, img in enumerate(images_list[:3]):\n",
    "    print(f\"  {i+1}. {img.getName()} (ID: {img.getId()})\")\n",
    "if len(images_list) > 3:\n",
    "    print(f\"  ... and {len(images_list) - 3} more\")"
   ]
  },
  {
   "cell_type": "code",
   "execution_count": 7,
   "metadata": {},
   "outputs": [
    {
     "name": "stdout",
     "output_type": "stream",
     "text": [
      "🚀 Creating annotation table\n",
      "📊 Creating table for 10 images with model: vit_b_lm\n"
     ]
    },
    {
     "name": "stderr",
     "output_type": "stream",
     "text": [
      "C:\\Users\\Maarten\\Documents\\Github\\omero_annotate_ai\\src\\omero_annotate_ai\\omero\\omero_functions.py:135: FutureWarning: Downcasting object dtype arrays on .fillna, .ffill, .bfill is deprecated and will change in a future version. Call result.infer_objects(copy=False) instead. To opt-in to the future behavior, set `pd.set_option('future.no_silent_downcasting', True)`\n",
      "  df[col] = df[col].fillna(False).infer_objects(copy=False).astype(bool)\n",
      "C:\\Users\\Maarten\\Documents\\Github\\omero_annotate_ai\\src\\omero_annotate_ai\\omero\\omero_functions.py:135: FutureWarning: Downcasting object dtype arrays on .fillna, .ffill, .bfill is deprecated and will change in a future version. Call result.infer_objects(copy=False) instead. To opt-in to the future behavior, set `pd.set_option('future.no_silent_downcasting', True)`\n",
      "  df[col] = df[col].fillna(False).infer_objects(copy=False).astype(bool)\n",
      "C:\\Users\\Maarten\\Documents\\Github\\omero_annotate_ai\\src\\omero_annotate_ai\\omero\\omero_functions.py:135: FutureWarning: Downcasting object dtype arrays on .fillna, .ffill, .bfill is deprecated and will change in a future version. Call result.infer_objects(copy=False) instead. To opt-in to the future behavior, set `pd.set_option('future.no_silent_downcasting', True)`\n",
      "  df[col] = df[col].fillna(False).infer_objects(copy=False).astype(bool)\n",
      "C:\\Users\\Maarten\\Documents\\Github\\omero_annotate_ai\\src\\omero_annotate_ai\\omero\\omero_functions.py:135: FutureWarning: Downcasting object dtype arrays on .fillna, .ffill, .bfill is deprecated and will change in a future version. Call result.infer_objects(copy=False) instead. To opt-in to the future behavior, set `pd.set_option('future.no_silent_downcasting', True)`\n",
      "  df[col] = df[col].fillna(False).infer_objects(copy=False).astype(bool)\n",
      "C:\\Users\\Maarten\\Documents\\Github\\omero_annotate_ai\\src\\omero_annotate_ai\\omero\\omero_functions.py:135: FutureWarning: Downcasting object dtype arrays on .fillna, .ffill, .bfill is deprecated and will change in a future version. Call result.infer_objects(copy=False) instead. To opt-in to the future behavior, set `pd.set_option('future.no_silent_downcasting', True)`\n",
      "  df[col] = df[col].fillna(False).infer_objects(copy=False).astype(bool)\n",
      "C:\\Users\\Maarten\\Documents\\Github\\omero_annotate_ai\\src\\omero_annotate_ai\\omero\\omero_functions.py:140: FutureWarning: Downcasting object dtype arrays on .fillna, .ffill, .bfill is deprecated and will change in a future version. Call result.infer_objects(copy=False) instead. To opt-in to the future behavior, set `pd.set_option('future.no_silent_downcasting', True)`\n",
      "  df[col] = df[col].fillna(\"None\").infer_objects(copy=False).astype(str)\n",
      "C:\\Users\\Maarten\\Documents\\Github\\omero_annotate_ai\\src\\omero_annotate_ai\\omero\\omero_functions.py:140: FutureWarning: Downcasting object dtype arrays on .fillna, .ffill, .bfill is deprecated and will change in a future version. Call result.infer_objects(copy=False) instead. To opt-in to the future behavior, set `pd.set_option('future.no_silent_downcasting', True)`\n",
      "  df[col] = df[col].fillna(\"None\").infer_objects(copy=False).astype(str)\n",
      "C:\\Users\\Maarten\\Documents\\Github\\omero_annotate_ai\\src\\omero_annotate_ai\\omero\\omero_functions.py:140: FutureWarning: Downcasting object dtype arrays on .fillna, .ffill, .bfill is deprecated and will change in a future version. Call result.infer_objects(copy=False) instead. To opt-in to the future behavior, set `pd.set_option('future.no_silent_downcasting', True)`\n",
      "  df[col] = df[col].fillna(\"None\").infer_objects(copy=False).astype(str)\n"
     ]
    },
    {
     "name": "stdout",
     "output_type": "stream",
     "text": [
      "📋 Created tracking table 'micro_sam_training_micro_sam_foci_test_fridayafternoon' with 2 units\n",
      "   Container: project 201\n",
      "   Table ID: 1253\n",
      "object group 0\n",
      "Stored configuration as annotation ID: 1254\n",
      "object group 0\n",
      "📊 Workflow status updated: 0/2 (0.0%) - pending\n",
      "📋 Created annotation table with ID: 1253\n",
      "Table created with ID: 1253\n"
     ]
    }
   ],
   "source": [
    "# Step 1: Create annotation table\n",
    "table_id, images_list = pipeline.create_annotation_table(images_list)\n",
    "print(f\"Table created with ID: {table_id}\")\n",
    "\n",
    "\n"
   ]
  },
  {
   "cell_type": "code",
   "execution_count": 8,
   "metadata": {},
   "outputs": [
    {
     "name": "stdout",
     "output_type": "stream",
     "text": [
      "🚀 Starting annotation processing from table ID: 1253\n",
      "[TABLE] Getting unprocessed units from table 1253\n",
      "📋 Found 2 unprocessed units\n",
      "📋 Found 2 processing units\n",
      "🔄 Processing batch 1/1\n",
      "📊 Loading 1 images using dask...\n",
      "💾 Materializing dask arrays to numpy...\n",
      "   Processing chunk 1/1\n",
      "✅ Successfully loaded 1 images\n",
      "📊 Loading 1 images using dask...\n",
      "💾 Materializing dask arrays to numpy...\n",
      "   Processing chunk 1/1\n",
      "✅ Successfully loaded 1 images\n"
     ]
    },
    {
     "name": "stderr",
     "output_type": "stream",
     "text": [
      "Precompute state for files: 100%|██████████| 2/2 [00:31<00:00, 15.87s/it]\n"
     ]
    },
    {
     "name": "stdout",
     "output_type": "stream",
     "text": [
      "Precomputation took 33.76247525215149 seconds (= 00:34 minutes)\n",
      "The first image to annotate is image number 0\n",
      "Loading next image: at index 1\n",
      "\u001b[31m---------------------------------------------------------------------------\u001b[39m\n",
      "\u001b[31mRuntimeError\u001b[39m                              Traceback (most recent call last)\n",
      "\u001b[36mFile \u001b[39m\u001b[32mc:\\Users\\Maarten\\Documents\\Github\\omero_annotate_ai\\.pixi\\envs\\default\\Lib\\site-packages\\psygnal\\_signal.py:1309\u001b[39m, in \u001b[36mSignalInstance._run_emit_loop\u001b[39m\u001b[34m(self=<class 'psygnal._signal.SignalInstance'> instance, args=(False,))\u001b[39m\n",
      "\u001b[32m   1308\u001b[39m     \u001b[38;5;28;01mwith\u001b[39;00m Signal._emitting(\u001b[38;5;28mself\u001b[39m):\n",
      "\u001b[32m-> \u001b[39m\u001b[32m1309\u001b[39m         \u001b[38;5;28;43mself\u001b[39;49m\u001b[43m.\u001b[49m\u001b[43m_run_emit_loop_inner\u001b[49m\u001b[43m(\u001b[49m\u001b[43m)\u001b[49m\n",
      "        Exception trying to inspect frame. No more locals available.\u001b[32m   1310\u001b[39m \u001b[38;5;28;01mexcept\u001b[39;00m \u001b[38;5;167;01mRecursionError\u001b[39;00m \u001b[38;5;28;01mas\u001b[39;00m e:\n",
      "\n",
      "\u001b[36mFile \u001b[39m\u001b[32mc:\\Users\\Maarten\\Documents\\Github\\omero_annotate_ai\\.pixi\\envs\\default\\Lib\\site-packages\\psygnal\\_signal.py:1338\u001b[39m, in \u001b[36mSignalInstance._run_emit_loop_immediate\u001b[39m\u001b[34m(self=<class 'psygnal._signal.SignalInstance'> instance)\u001b[39m\n",
      "\u001b[32m   1337\u001b[39m \u001b[38;5;28;01mfor\u001b[39;00m caller \u001b[38;5;129;01min\u001b[39;00m \u001b[38;5;28mself\u001b[39m._slots:\n",
      "\u001b[32m-> \u001b[39m\u001b[32m1338\u001b[39m     \u001b[43mcaller\u001b[49m\u001b[43m.\u001b[49m\u001b[43mcb\u001b[49m\u001b[43m(\u001b[49m\u001b[43margs\u001b[49m\u001b[43m)\u001b[49m\n",
      "        args \u001b[34m= \u001b[39m\u001b[34m(False,)\u001b[39m\n",
      "        caller \u001b[34m= \u001b[39m\u001b[34m<StrongFunction on magicgui.widgets._function_gui.FunctionGui.__init__.<locals>._disable_button_and_call>\u001b[39m\n",
      "\u001b[36mFile \u001b[39m\u001b[32mc:\\Users\\Maarten\\Documents\\Github\\omero_annotate_ai\\.pixi\\envs\\default\\Lib\\site-packages\\psygnal\\_weak_callback.py:411\u001b[39m, in \u001b[36mStrongFunction.cb\u001b[39m\u001b[34m(self=<StrongFunction on magicgui.widgets._function_gu...onGui.__init__.<locals>._disable_button_and_call>, args=())\u001b[39m\n",
      "\u001b[32m    410\u001b[39m     args = args[: \u001b[38;5;28mself\u001b[39m._max_args]\n",
      "\u001b[32m--> \u001b[39m\u001b[32m411\u001b[39m \u001b[38;5;28;43mself\u001b[39;49m\u001b[43m.\u001b[49m\u001b[43m_f\u001b[49m\u001b[43m(\u001b[49m\u001b[43m*\u001b[49m\u001b[38;5;28;43mself\u001b[39;49m\u001b[43m.\u001b[49m\u001b[43m_args\u001b[49m\u001b[43m,\u001b[49m\u001b[43m \u001b[49m\u001b[43m*\u001b[49m\u001b[43margs\u001b[49m\u001b[43m,\u001b[49m\u001b[43m \u001b[49m\u001b[43m*\u001b[49m\u001b[43m*\u001b[49m\u001b[38;5;28;43mself\u001b[39;49m\u001b[43m.\u001b[49m\u001b[43m_kwargs\u001b[49m\u001b[43m)\u001b[49m\n",
      "        args \u001b[34m= \u001b[39m\u001b[34m()\u001b[39m\n",
      "        self._f \u001b[34m= \u001b[39m\u001b[34m<function FunctionGui.__init__.<locals>._disable_button_and_call at 0x0000020F59C04040>\u001b[39m\n",
      "        self \u001b[34m= \u001b[39m\u001b[34m<StrongFunction on magicgui.widgets._function_gui.FunctionGui.__init__.<locals>._disable_button_and_call>\u001b[39m\n",
      "        self._args \u001b[34m= \u001b[39m\u001b[34m()\u001b[39m\n",
      "        self._kwargs \u001b[34m= \u001b[39m\u001b[34m{}\u001b[39m\n",
      "\u001b[36mFile \u001b[39m\u001b[32mc:\\Users\\Maarten\\Documents\\Github\\omero_annotate_ai\\.pixi\\envs\\default\\Lib\\site-packages\\magicgui\\widgets\\_function_gui.py:237\u001b[39m, in \u001b[36mFunctionGui.__init__.<locals>._disable_button_and_call\u001b[39m\u001b[34m()\u001b[39m\n",
      "\u001b[32m    236\u001b[39m \u001b[38;5;28;01mfinally\u001b[39;00m:\n",
      "\u001b[32m--> \u001b[39m\u001b[32m237\u001b[39m     \u001b[38;5;28;43mself\u001b[39;49m\u001b[43m.\u001b[49m\u001b[43m_call_button\u001b[49m\u001b[43m.\u001b[49m\u001b[43menabled\u001b[49m = \u001b[38;5;28;01mTrue\u001b[39;00m\n",
      "        Exception trying to inspect frame. No more locals available.\n",
      "\u001b[36mFile \u001b[39m\u001b[32mc:\\Users\\Maarten\\Documents\\Github\\omero_annotate_ai\\.pixi\\envs\\default\\Lib\\site-packages\\magicgui\\widgets\\bases\\_widget.py:237\u001b[39m, in \u001b[36mWidget.enabled\u001b[39m\u001b[34m(self=<class 'magicgui.widgets.PushButton'> instance, value=True)\u001b[39m\n",
      "\u001b[32m    235\u001b[39m \u001b[38;5;129m@enabled\u001b[39m.setter\n",
      "\u001b[32m    236\u001b[39m \u001b[38;5;28;01mdef\u001b[39;00m\u001b[38;5;250m \u001b[39m\u001b[34menabled\u001b[39m(\u001b[38;5;28mself\u001b[39m, value: \u001b[38;5;28mbool\u001b[39m) -> \u001b[38;5;28;01mNone\u001b[39;00m:\n",
      "\u001b[32m--> \u001b[39m\u001b[32m237\u001b[39m     \u001b[38;5;28;43mself\u001b[39;49m\u001b[43m.\u001b[49m\u001b[43m_widget\u001b[49m\u001b[43m.\u001b[49m\u001b[43m_mgui_set_enabled\u001b[49m\u001b[43m(\u001b[49m\u001b[43mvalue\u001b[49m\u001b[43m)\u001b[49m\n",
      "        value \u001b[34m= \u001b[39m\u001b[34mTrue\u001b[39m\n",
      "        self._widget \u001b[34m= \u001b[39m\u001b[34m<magicgui.backends._qtpy.widgets.PushButton object at 0x0000020F5A226CD0>\u001b[39m\n",
      "        Exception trying to inspect frame. No more locals available.\n",
      "\u001b[36mFile \u001b[39m\u001b[32mc:\\Users\\Maarten\\Documents\\Github\\omero_annotate_ai\\.pixi\\envs\\default\\Lib\\site-packages\\magicgui\\backends\\_qtpy\\widgets.py:91\u001b[39m, in \u001b[36mQBaseWidget._mgui_set_enabled\u001b[39m\u001b[34m(self=<magicgui.backends._qtpy.widgets.PushButton object>, enabled=True)\u001b[39m\n",
      "\u001b[32m     90\u001b[39m \u001b[38;5;28;01mdef\u001b[39;00m\u001b[38;5;250m \u001b[39m\u001b[34m_mgui_set_enabled\u001b[39m(\u001b[38;5;28mself\u001b[39m, enabled: \u001b[38;5;28mbool\u001b[39m) -> \u001b[38;5;28;01mNone\u001b[39;00m:\n",
      "\u001b[32m---> \u001b[39m\u001b[32m91\u001b[39m     \u001b[38;5;28;43mself\u001b[39;49m\u001b[43m.\u001b[49m\u001b[43m_qwidget\u001b[49m\u001b[43m.\u001b[49m\u001b[43msetEnabled\u001b[49m\u001b[43m(\u001b[49m\u001b[43menabled\u001b[49m\u001b[43m)\u001b[49m\n",
      "        enabled \u001b[34m= \u001b[39m\u001b[34mTrue\u001b[39m\n",
      "        self._qwidget \u001b[34m= \u001b[39m\u001b[34m<PyQt5.QtWidgets.QPushButton object at 0x0000020F5A29FB50>\u001b[39m\n",
      "        self \u001b[34m= \u001b[39m\u001b[34m<magicgui.backends._qtpy.widgets.PushButton object at 0x0000020F5A226CD0>\u001b[39m\n",
      "\u001b[31mRuntimeError\u001b[39m: wrapped C/C++ object of type QPushButton has been deleted\n",
      "\n",
      "The above exception was the direct cause of the following exception:\n",
      "\n",
      "\u001b[31mEmitLoopError\u001b[39m                             Traceback (most recent call last)\n",
      "\u001b[36mFile \u001b[39m\u001b[32mc:\\Users\\Maarten\\Documents\\Github\\omero_annotate_ai\\.pixi\\envs\\default\\Lib\\site-packages\\magicgui\\widgets\\bases\\_value_widget.py:69\u001b[39m, in \u001b[36mBaseValueWidget._on_value_change\u001b[39m\u001b[34m(self=<class 'magicgui.widgets.PushButton'> instance, value=False)\u001b[39m\n",
      "\u001b[32m     67\u001b[39m \u001b[38;5;28;01mif\u001b[39;00m value \u001b[38;5;129;01mis\u001b[39;00m \u001b[38;5;28mself\u001b[39m.null_value \u001b[38;5;129;01mand\u001b[39;00m \u001b[38;5;129;01mnot\u001b[39;00m \u001b[38;5;28mself\u001b[39m._nullable:\n",
      "\u001b[32m     68\u001b[39m     \u001b[38;5;28;01mreturn\u001b[39;00m\n",
      "\u001b[32m---> \u001b[39m\u001b[32m69\u001b[39m \u001b[38;5;28;43mself\u001b[39;49m\u001b[43m.\u001b[49m\u001b[43mchanged\u001b[49m\u001b[43m.\u001b[49m\u001b[43memit\u001b[49m\u001b[43m(\u001b[49m\u001b[43mvalue\u001b[49m\u001b[43m)\u001b[49m\n",
      "        value \u001b[34m= \u001b[39m\u001b[34mFalse\u001b[39m\n",
      "        Exception trying to inspect frame. No more locals available.\n",
      "\u001b[36mFile \u001b[39m\u001b[32mc:\\Users\\Maarten\\Documents\\Github\\omero_annotate_ai\\.pixi\\envs\\default\\Lib\\site-packages\\psygnal\\_signal.py:1231\u001b[39m, in \u001b[36mSignalInstance.emit\u001b[39m\u001b[34m(self=<class 'psygnal._signal.SignalInstance'> instance, check_nargs=False, check_types=False, *args=(False,))\u001b[39m\n",
      "\u001b[32m   1227\u001b[39m     \u001b[38;5;28;01mfrom\u001b[39;00m\u001b[38;5;250m \u001b[39m\u001b[34;01m.\u001b[39;00m\u001b[34;01m_group\u001b[39;00m\u001b[38;5;250m \u001b[39m\u001b[38;5;28;01mimport\u001b[39;00m EmissionInfo\n",
      "\u001b[32m   1229\u001b[39m     SignalInstance._debug_hook(EmissionInfo(\u001b[38;5;28mself\u001b[39m, args))\n",
      "\u001b[32m-> \u001b[39m\u001b[32m1231\u001b[39m \u001b[38;5;28;43mself\u001b[39;49m\u001b[43m.\u001b[49m\u001b[43m_run_emit_loop\u001b[49m\u001b[43m(\u001b[49m\u001b[43margs\u001b[49m\u001b[43m)\u001b[49m\n",
      "        Exception trying to inspect frame. No more locals available.\n",
      "\u001b[36mFile \u001b[39m\u001b[32mc:\\Users\\Maarten\\Documents\\Github\\omero_annotate_ai\\.pixi\\envs\\default\\Lib\\site-packages\\psygnal\\_signal.py:1326\u001b[39m, in \u001b[36mSignalInstance._run_emit_loop\u001b[39m\u001b[34m(self=<class 'psygnal._signal.SignalInstance'> instance, args=(False,))\u001b[39m\n",
      "\u001b[32m   1318\u001b[39m     loop_err = EmitLoopError(\n",
      "\u001b[32m   1319\u001b[39m         exc=cb_err,\n",
      "\u001b[32m   1320\u001b[39m         signal=\u001b[38;5;28mself\u001b[39m,\n",
      "\u001b[32m   (...)\u001b[39m\u001b[32m   1323\u001b[39m         emit_queue=\u001b[38;5;28mself\u001b[39m._emit_queue,\n",
      "\u001b[32m   1324\u001b[39m     ).with_traceback(cb_err.__traceback__)\n",
      "\u001b[32m   1325\u001b[39m     \u001b[38;5;66;03m# this comment will show up in the traceback\u001b[39;00m\n",
      "\u001b[32m-> \u001b[39m\u001b[32m1326\u001b[39m     \u001b[38;5;28;01mraise\u001b[39;00m loop_err \u001b[38;5;28;01mfrom\u001b[39;00m\u001b[38;5;250m \u001b[39m\u001b[34;01mcb_err\u001b[39;00m  \u001b[38;5;66;03m# emit() call ABOVE || callback error BELOW\u001b[39;00m\n",
      "        loop_err \u001b[34m= \u001b[39m\u001b[34mEmitLoopError(\"\\n\\nWhile emitting signal 'magicgui.widgets.PushButton.changed', an error occurred in a callback:\\n\\n  RuntimeError: wrapped C/C++ object of type QPushButton has been deleted\\n  -----------------------------------------------------------------------\\n\\n  SIGNAL EMISSION: \\n    c:\\\\Users\\\\Maarten\\\\Documents\\\\Github\\\\omero_annotate_ai\\\\.pixi\\\\envs\\\\default\\\\Lib\\\\site-packages\\\\napari\\\\_qt\\\\qt_event_loop.py:411 in run\\n      app.exec_()\\n    c:\\\\Users\\\\Maarten\\\\Documents\\\\Github\\\\omero_annotate_ai\\\\.pixi\\\\envs\\\\default\\\\Lib\\\\site-packages\\\\magicgui\\\\widgets\\\\bases\\\\_value_widget.py:69 in _on_value_change\\n      self.changed.emit(value)  # <-- SIGNAL WAS EMITTED HERE\\n\\n  CALLBACK CHAIN:\\n    c:\\\\Users\\\\Maarten\\\\Documents\\\\Github\\\\omero_annotate_ai\\\\.pixi\\\\envs\\\\default\\\\Lib\\\\site-packages\\\\magicgui\\\\widgets\\\\_function_gui.py:237 in _disable_button_and_call\\n    ... 1 more frames ...\\n    c:\\\\Users\\\\Maarten\\\\Documents\\\\Github\\\\omero_annotate_ai\\\\.pixi\\\\envs\\\\default\\\\Lib\\\\site-packages\\\\magicgui\\\\backends\\\\_qtpy\\\\widgets.py:91 in _mgui_set_enabled\\n      self._qwidget.setEnabled(enabled)  # <-- ERROR OCCURRED HERE \\n\\n      Local variables:\\n             enabled = True\")\u001b[39m\u001b[32m   1327\u001b[39m \u001b[38;5;28;01mfinally\u001b[39;00m:\n",
      "\u001b[32m   1328\u001b[39m     \u001b[38;5;28mself\u001b[39m._recursion_depth -= \u001b[32m1\u001b[39m\n",
      "\n",
      "\u001b[36mFile \u001b[39m\u001b[32mc:\\Users\\Maarten\\Documents\\Github\\omero_annotate_ai\\.pixi\\envs\\default\\Lib\\site-packages\\psygnal\\_signal.py:1309\u001b[39m, in \u001b[36mSignalInstance._run_emit_loop\u001b[39m\u001b[34m(self=<class 'psygnal._signal.SignalInstance'> instance, args=(False,))\u001b[39m\n",
      "\u001b[32m   1305\u001b[39m     \u001b[38;5;28mself\u001b[39m._max_recursion_depth = \u001b[38;5;28mmax\u001b[39m(\n",
      "\u001b[32m   1306\u001b[39m         \u001b[38;5;28mself\u001b[39m._max_recursion_depth, \u001b[38;5;28mself\u001b[39m._recursion_depth\n",
      "\u001b[32m   1307\u001b[39m     )\n",
      "\u001b[32m   1308\u001b[39m     \u001b[38;5;28;01mwith\u001b[39;00m Signal._emitting(\u001b[38;5;28mself\u001b[39m):\n",
      "\u001b[32m-> \u001b[39m\u001b[32m1309\u001b[39m         \u001b[38;5;28;43mself\u001b[39;49m\u001b[43m.\u001b[49m\u001b[43m_run_emit_loop_inner\u001b[49m\u001b[43m(\u001b[49m\u001b[43m)\u001b[49m\n",
      "        Exception trying to inspect frame. No more locals available.\u001b[32m   1310\u001b[39m \u001b[38;5;28;01mexcept\u001b[39;00m \u001b[38;5;167;01mRecursionError\u001b[39;00m \u001b[38;5;28;01mas\u001b[39;00m e:\n",
      "\u001b[32m   1311\u001b[39m     \u001b[38;5;28;01mraise\u001b[39;00m \u001b[38;5;167;01mRecursionError\u001b[39;00m(\n",
      "\u001b[32m   1312\u001b[39m         \u001b[33mf\u001b[39m\u001b[33m\"\u001b[39m\u001b[33mRecursionError when \u001b[39m\u001b[33m\"\u001b[39m\n",
      "\u001b[32m   1313\u001b[39m         \u001b[33mf\u001b[39m\u001b[33m\"\u001b[39m\u001b[33memitting signal \u001b[39m\u001b[38;5;132;01m{\u001b[39;00m\u001b[38;5;28mself\u001b[39m.name\u001b[38;5;132;01m!r}\u001b[39;00m\u001b[33m with args \u001b[39m\u001b[38;5;132;01m{\u001b[39;00margs\u001b[38;5;132;01m}\u001b[39;00m\u001b[33m\"\u001b[39m\n",
      "\u001b[32m   1314\u001b[39m     ) \u001b[38;5;28;01mfrom\u001b[39;00m\u001b[38;5;250m \u001b[39m\u001b[34;01me\u001b[39;00m\n",
      "\n",
      "\u001b[36mFile \u001b[39m\u001b[32mc:\\Users\\Maarten\\Documents\\Github\\omero_annotate_ai\\.pixi\\envs\\default\\Lib\\site-packages\\psygnal\\_signal.py:1338\u001b[39m, in \u001b[36mSignalInstance._run_emit_loop_immediate\u001b[39m\u001b[34m(self=<class 'psygnal._signal.SignalInstance'> instance)\u001b[39m\n",
      "\u001b[32m   1336\u001b[39m args = \u001b[38;5;28mself\u001b[39m._emit_queue.popleft()\n",
      "\u001b[32m   1337\u001b[39m \u001b[38;5;28;01mfor\u001b[39;00m caller \u001b[38;5;129;01min\u001b[39;00m \u001b[38;5;28mself\u001b[39m._slots:\n",
      "\u001b[32m-> \u001b[39m\u001b[32m1338\u001b[39m     \u001b[43mcaller\u001b[49m\u001b[43m.\u001b[49m\u001b[43mcb\u001b[49m\u001b[43m(\u001b[49m\u001b[43margs\u001b[49m\u001b[43m)\u001b[49m\n",
      "        args \u001b[34m= \u001b[39m\u001b[34m(False,)\u001b[39m\n",
      "        caller \u001b[34m= \u001b[39m\u001b[34m<StrongFunction on magicgui.widgets._function_gui.FunctionGui.__init__.<locals>._disable_button_and_call>\u001b[39m\n",
      "\u001b[36mFile \u001b[39m\u001b[32mc:\\Users\\Maarten\\Documents\\Github\\omero_annotate_ai\\.pixi\\envs\\default\\Lib\\site-packages\\psygnal\\_weak_callback.py:411\u001b[39m, in \u001b[36mStrongFunction.cb\u001b[39m\u001b[34m(self=<StrongFunction on magicgui.widgets._function_gu...onGui.__init__.<locals>._disable_button_and_call>, args=())\u001b[39m\n",
      "\u001b[32m    409\u001b[39m \u001b[38;5;28;01mif\u001b[39;00m \u001b[38;5;28mself\u001b[39m._max_args \u001b[38;5;129;01mis\u001b[39;00m \u001b[38;5;129;01mnot\u001b[39;00m \u001b[38;5;28;01mNone\u001b[39;00m:\n",
      "\u001b[32m    410\u001b[39m     args = args[: \u001b[38;5;28mself\u001b[39m._max_args]\n",
      "\u001b[32m--> \u001b[39m\u001b[32m411\u001b[39m \u001b[38;5;28;43mself\u001b[39;49m\u001b[43m.\u001b[49m\u001b[43m_f\u001b[49m\u001b[43m(\u001b[49m\u001b[43m*\u001b[49m\u001b[38;5;28;43mself\u001b[39;49m\u001b[43m.\u001b[49m\u001b[43m_args\u001b[49m\u001b[43m,\u001b[49m\u001b[43m \u001b[49m\u001b[43m*\u001b[49m\u001b[43margs\u001b[49m\u001b[43m,\u001b[49m\u001b[43m \u001b[49m\u001b[43m*\u001b[49m\u001b[43m*\u001b[49m\u001b[38;5;28;43mself\u001b[39;49m\u001b[43m.\u001b[49m\u001b[43m_kwargs\u001b[49m\u001b[43m)\u001b[49m\n",
      "        args \u001b[34m= \u001b[39m\u001b[34m()\u001b[39m\n",
      "        self._f \u001b[34m= \u001b[39m\u001b[34m<function FunctionGui.__init__.<locals>._disable_button_and_call at 0x0000020F59C04040>\u001b[39m\n",
      "        self \u001b[34m= \u001b[39m\u001b[34m<StrongFunction on magicgui.widgets._function_gui.FunctionGui.__init__.<locals>._disable_button_and_call>\u001b[39m\n",
      "        self._args \u001b[34m= \u001b[39m\u001b[34m()\u001b[39m\n",
      "        self._kwargs \u001b[34m= \u001b[39m\u001b[34m{}\u001b[39m\n",
      "\u001b[36mFile \u001b[39m\u001b[32mc:\\Users\\Maarten\\Documents\\Github\\omero_annotate_ai\\.pixi\\envs\\default\\Lib\\site-packages\\magicgui\\widgets\\_function_gui.py:237\u001b[39m, in \u001b[36mFunctionGui.__init__.<locals>._disable_button_and_call\u001b[39m\u001b[34m()\u001b[39m\n",
      "\u001b[32m    235\u001b[39m     \u001b[38;5;28mself\u001b[39m.\u001b[34m__call__\u001b[39m()  \u001b[38;5;66;03m# type: ignore [call-arg]\u001b[39;00m\n",
      "\u001b[32m    236\u001b[39m \u001b[38;5;28;01mfinally\u001b[39;00m:\n",
      "\u001b[32m--> \u001b[39m\u001b[32m237\u001b[39m     \u001b[38;5;28;43mself\u001b[39;49m\u001b[43m.\u001b[49m\u001b[43m_call_button\u001b[49m\u001b[43m.\u001b[49m\u001b[43menabled\u001b[49m = \u001b[38;5;28;01mTrue\u001b[39;00m\n",
      "        Exception trying to inspect frame. No more locals available.\n",
      "\u001b[36mFile \u001b[39m\u001b[32mc:\\Users\\Maarten\\Documents\\Github\\omero_annotate_ai\\.pixi\\envs\\default\\Lib\\site-packages\\magicgui\\widgets\\bases\\_widget.py:237\u001b[39m, in \u001b[36mWidget.enabled\u001b[39m\u001b[34m(self=<class 'magicgui.widgets.PushButton'> instance, value=True)\u001b[39m\n",
      "\u001b[32m    235\u001b[39m \u001b[38;5;129m@enabled\u001b[39m.setter\n",
      "\u001b[32m    236\u001b[39m \u001b[38;5;28;01mdef\u001b[39;00m\u001b[38;5;250m \u001b[39m\u001b[34menabled\u001b[39m(\u001b[38;5;28mself\u001b[39m, value: \u001b[38;5;28mbool\u001b[39m) -> \u001b[38;5;28;01mNone\u001b[39;00m:\n",
      "\u001b[32m--> \u001b[39m\u001b[32m237\u001b[39m     \u001b[38;5;28;43mself\u001b[39;49m\u001b[43m.\u001b[49m\u001b[43m_widget\u001b[49m\u001b[43m.\u001b[49m\u001b[43m_mgui_set_enabled\u001b[49m\u001b[43m(\u001b[49m\u001b[43mvalue\u001b[49m\u001b[43m)\u001b[49m\n",
      "        value \u001b[34m= \u001b[39m\u001b[34mTrue\u001b[39m\n",
      "        self._widget \u001b[34m= \u001b[39m\u001b[34m<magicgui.backends._qtpy.widgets.PushButton object at 0x0000020F5A226CD0>\u001b[39m\n",
      "        Exception trying to inspect frame. No more locals available.\n",
      "\u001b[36mFile \u001b[39m\u001b[32mc:\\Users\\Maarten\\Documents\\Github\\omero_annotate_ai\\.pixi\\envs\\default\\Lib\\site-packages\\magicgui\\backends\\_qtpy\\widgets.py:91\u001b[39m, in \u001b[36mQBaseWidget._mgui_set_enabled\u001b[39m\u001b[34m(self=<magicgui.backends._qtpy.widgets.PushButton object>, enabled=True)\u001b[39m\n",
      "\u001b[32m     90\u001b[39m \u001b[38;5;28;01mdef\u001b[39;00m\u001b[38;5;250m \u001b[39m\u001b[34m_mgui_set_enabled\u001b[39m(\u001b[38;5;28mself\u001b[39m, enabled: \u001b[38;5;28mbool\u001b[39m) -> \u001b[38;5;28;01mNone\u001b[39;00m:\n",
      "\u001b[32m---> \u001b[39m\u001b[32m91\u001b[39m     \u001b[38;5;28;43mself\u001b[39;49m\u001b[43m.\u001b[49m\u001b[43m_qwidget\u001b[49m\u001b[43m.\u001b[49m\u001b[43msetEnabled\u001b[49m\u001b[43m(\u001b[49m\u001b[43menabled\u001b[49m\u001b[43m)\u001b[49m\n",
      "        enabled \u001b[34m= \u001b[39m\u001b[34mTrue\u001b[39m\n",
      "        self._qwidget \u001b[34m= \u001b[39m\u001b[34m<PyQt5.QtWidgets.QPushButton object at 0x0000020F5A29FB50>\u001b[39m\n",
      "        self \u001b[34m= \u001b[39m\u001b[34m<magicgui.backends._qtpy.widgets.PushButton object at 0x0000020F5A226CD0>\u001b[39m\n",
      "\u001b[31mEmitLoopError\u001b[39m: \n",
      "\n",
      "While emitting signal 'magicgui.widgets.PushButton.changed', an error occurred in a callback:\n",
      "\n",
      "  RuntimeError: wrapped C/C++ object of type QPushButton has been deleted\n",
      "  -----------------------------------------------------------------------\n",
      "\n",
      "  SIGNAL EMISSION: \n",
      "    c:\\Users\\Maarten\\Documents\\Github\\omero_annotate_ai\\.pixi\\envs\\default\\Lib\\site-packages\\napari\\_qt\\qt_event_loop.py:411 in run\n",
      "      app.exec_()\n",
      "    c:\\Users\\Maarten\\Documents\\Github\\omero_annotate_ai\\.pixi\\envs\\default\\Lib\\site-packages\\magicgui\\widgets\\bases\\_value_widget.py:69 in _on_value_change\n",
      "      self.changed.emit(value)  # <-- SIGNAL WAS EMITTED HERE\n",
      "\n",
      "  CALLBACK CHAIN:\n",
      "    c:\\Users\\Maarten\\Documents\\Github\\omero_annotate_ai\\.pixi\\envs\\default\\Lib\\site-packages\\magicgui\\widgets\\_function_gui.py:237 in _disable_button_and_call\n",
      "    ... 1 more frames ...\n",
      "    c:\\Users\\Maarten\\Documents\\Github\\omero_annotate_ai\\.pixi\\envs\\default\\Lib\\site-packages\\magicgui\\backends\\_qtpy\\widgets.py:91 in _mgui_set_enabled\n",
      "      self._qwidget.setEnabled(enabled)  # <-- ERROR OCCURRED HERE \n",
      "\n",
      "      Local variables:\n",
      "             enabled = True\n",
      "📁 Found 2 annotation files in C:\\Users\\Maarten\\AppData\\Local\\Temp\\omero_annotations_m_14q2cq\\annotations\n",
      "🔍 Step 1: Loading label image from C:\\Users\\Maarten\\AppData\\Local\\Temp\\omero_annotations_m_14q2cq\\annotations\\seg_00000.tif\n",
      "📋 Label image loaded: (256, 256), dtype: uint32\n",
      "🏷️ Found 1 unique labels: [0]...\n",
      "🔍 Step 2: Converting labels to ROI shapes...\n",
      "✅ Created 0 ROI shapes from labels\n",
      "🔍 Step 3: Uploading label file as attachment\n",
      "✅ File annotation uploaded with ID: 1256\n",
      "🔍 Step 4: Uploading ROI shapes\n",
      "⚠️ No ROI shapes created from C:\\Users\\Maarten\\AppData\\Local\\Temp\\omero_annotations_m_14q2cq\\annotations\\seg_00000.tif\n",
      "☁️ Uploaded annotations from C:\\Users\\Maarten\\AppData\\Local\\Temp\\omero_annotations_m_14q2cq\\annotations\\seg_00000.tif to image 460\n",
      "   Patch offset: (456, 100)\n",
      "   File annotation ID: 1256\n",
      "🔍 Step 1: Loading label image from C:\\Users\\Maarten\\AppData\\Local\\Temp\\omero_annotations_m_14q2cq\\annotations\\seg_00001.tif\n",
      "📋 Label image loaded: (256, 256), dtype: uint32\n",
      "🏷️ Found 5 unique labels: [0 1 2 3 4]...\n",
      "🔍 Step 2: Converting labels to ROI shapes...\n",
      "✅ Created 4 ROI shapes from labels\n",
      "🔍 Step 3: Uploading label file as attachment\n",
      "✅ File annotation uploaded with ID: 1257\n",
      "🔍 Step 4: Uploading ROI shapes\n",
      "✅ Created 4 ROI shapes for image 453 with ID: 273\n",
      "☁️ Uploaded annotations from C:\\Users\\Maarten\\AppData\\Local\\Temp\\omero_annotations_m_14q2cq\\annotations\\seg_00001.tif to image 453\n",
      "   Patch offset: (164, 715)\n",
      "   File annotation ID: 1257\n",
      "   ROI ID: 273\n",
      "Using table title: micro_sam_training_micro_sam_foci_test_fridayafternoon\n",
      "🗑️ Deleting table: micro_sam_training_micro_sam_foci_test_fridayafternoon\n",
      "✅ Successfully deleted table 1253\n",
      "📋 Table updated: 1253 → 1258\n",
      "Using table title: micro_sam_training_micro_sam_foci_test_fridayafternoon\n",
      "🗑️ Deleting table: micro_sam_training_micro_sam_foci_test_fridayafternoon\n",
      "✅ Successfully deleted table 1258\n",
      "📋 Table updated: 1258 → 1259\n",
      "📦 Created zip file: C:\\Users\\Maarten\\AppData\\Local\\Temp\\omero_annotations_m_14q2cq\\embeddings_2.zip\n",
      "🗑️ Cleaned up embeddings: C:\\Users\\Maarten\\AppData\\Local\\Temp\\omero_annotations_m_14q2cq\\embed\n",
      "object group 0\n",
      "📊 Workflow status updated: 2/2 (100.0%) - complete\n",
      "✅ Completed batch 1 (2/2 total)\n",
      "🎉 Annotation processing completed successfully! Processed 2 units\n",
      "Completed. Processed 10 images\n",
      "Table ID: 1259\n"
     ]
    }
   ],
   "source": [
    "# Step 2: Run annotation processing\n",
    "table_id, processed_images = pipeline.run_annotation(table_id, images_list)\n",
    "\n",
    "print(f\"Completed. Processed {len(processed_images)} images\")\n",
    "print(f\"Table ID: {table_id}\")"
   ]
  },
  {
   "cell_type": "markdown",
   "metadata": {},
   "source": [
    "## Results"
   ]
  },
  {
   "cell_type": "code",
   "execution_count": null,
   "metadata": {},
   "outputs": [],
   "source": []
  },
  {
   "cell_type": "code",
   "execution_count": null,
   "metadata": {},
   "outputs": [],
   "source": [
    "print(f\"Training Set: {config.training.trainingset_name}\")\n",
    "print(f\"Table ID: {table_id}\")\n",
    "print(f\"Images Processed: {len(processed_images)}\")\n",
    "print(f\"Output: {config.batch_processing.output_folder}\")\n",
    "\n",
    "if processed_images:\n",
    "    print(f\"Processed Images:\")\n",
    "    for i, img in enumerate(processed_images[:5]):\n",
    "        if hasattr(img, 'getName'):\n",
    "            print(f\"  {i+1}. {img.getName()} (ID: {img.getId()})\")\n",
    "        else:\n",
    "            img_obj = conn.getObject(\"Image\", img)\n",
    "            if img_obj:\n",
    "                print(f\"  {i+1}. {img_obj.getName()} (ID: {img})\")\n",
    "    \n",
    "    if len(processed_images) > 5:\n",
    "        print(f\"  ... and {len(processed_images) - 5} more\")"
   ]
  },
  {
   "cell_type": "code",
   "execution_count": null,
   "metadata": {},
   "outputs": [],
   "source": [
    "config_filename = f\"annotation_config_{config.training.trainingset_name}.yaml\"\n",
    "config_path = Path(config.batch_processing.output_folder) / config_filename\n",
    "\n",
    "try:\n",
    "    config.save_yaml(config_path)\n",
    "    print(f\"Config saved: {config_path}\")\n",
    "except Exception as e:\n",
    "    config.save_yaml(config_filename)\n",
    "    print(f\"Config saved: {config_filename}\")"
   ]
  },
  {
   "cell_type": "markdown",
   "metadata": {},
   "source": [
    "## Cleanup"
   ]
  },
  {
   "cell_type": "code",
   "execution_count": null,
   "metadata": {},
   "outputs": [],
   "source": [
    "if 'conn' in locals() and conn is not None:\n",
    "    conn.close()\n",
    "    print(\"OMERO connection closed\")\n",
    "\n",
    "print(f\"Total images processed: {len(processed_images) if 'processed_images' in locals() else 0}\")\n",
    "print(f\"Table ID: {table_id if 'table_id' in locals() else 'N/A'}\")"
   ]
  },
  {
   "cell_type": "markdown",
   "metadata": {},
   "source": [
    "## Usage Options\n",
    "\n",
    "```python\n",
    "# Option 1: Full workflow\n",
    "table_id, processed_images = pipeline.run_full_workflow()\n",
    "\n",
    "# Option 2: Split workflow\n",
    "table_id, images_list = pipeline.create_annotation_table()\n",
    "table_id, processed_images = pipeline.run_annotation(table_id, images_list)\n",
    "\n",
    "# Option 3: Resume from existing table\n",
    "table_id, processed_images = pipeline.run_annotation(existing_table_id)\n",
    "```"
   ]
  }
 ],
 "metadata": {
  "kernelspec": {
   "display_name": "default",
   "language": "python",
   "name": "python3"
  },
  "language_info": {
   "codemirror_mode": {
    "name": "ipython",
    "version": 3
   },
   "file_extension": ".py",
   "mimetype": "text/x-python",
   "name": "python",
   "nbconvert_exporter": "python",
   "pygments_lexer": "ipython3",
   "version": "3.11.13"
  }
 },
 "nbformat": 4,
 "nbformat_minor": 4
}
