{
 "cells": [
  {
   "cell_type": "markdown",
   "metadata": {},
   "source": [
    "# OMERO Micro-SAM Workflow"
   ]
  },
  {
   "cell_type": "code",
   "execution_count": null,
   "metadata": {},
   "outputs": [
    {
     "ename": "ImportError",
     "evalue": "cannot import name 'create_config_widget' from 'omero_annotate_ai' (/home/maarten/miniconda3/envs/micro-sam/lib/python3.12/site-packages/omero_annotate_ai/__init__.py)",
     "output_type": "error",
     "traceback": [
      "\u001b[31m---------------------------------------------------------------------------\u001b[39m",
      "\u001b[31mImportError\u001b[39m                               Traceback (most recent call last)",
      "\u001b[36mCell\u001b[39m\u001b[36m \u001b[39m\u001b[32mIn[6]\u001b[39m\u001b[32m, line 2\u001b[39m\n\u001b[32m      1\u001b[39m \u001b[38;5;28;01mimport\u001b[39;00m\u001b[38;5;250m \u001b[39m\u001b[34;01momero_annotate_ai\u001b[39;00m\n\u001b[32m----> \u001b[39m\u001b[32m2\u001b[39m \u001b[38;5;28;01mfrom\u001b[39;00m\u001b[38;5;250m \u001b[39m\u001b[34;01momero_annotate_ai\u001b[39;00m\u001b[38;5;250m \u001b[39m\u001b[38;5;28;01mimport\u001b[39;00m (\n\u001b[32m      3\u001b[39m     create_omero_connection_widget,\n\u001b[32m      4\u001b[39m     create_workflow_widget,\n\u001b[32m      5\u001b[39m     create_pipeline,\n\u001b[32m      6\u001b[39m     create_config_widget,\n\u001b[32m      7\u001b[39m )\n\u001b[32m      8\u001b[39m \u001b[38;5;28;01mfrom\u001b[39;00m\u001b[38;5;250m \u001b[39m\u001b[34;01momero_annotate_ai\u001b[39;00m\u001b[34;01m.\u001b[39;00m\u001b[34;01mcore\u001b[39;00m\u001b[34;01m.\u001b[39;00m\u001b[34;01mconfig\u001b[39;00m\u001b[38;5;250m \u001b[39m\u001b[38;5;28;01mimport\u001b[39;00m load_config_from_yaml\n\u001b[32m      9\u001b[39m \u001b[38;5;28;01mimport\u001b[39;00m\u001b[38;5;250m \u001b[39m\u001b[34;01mos\u001b[39;00m\n",
      "\u001b[31mImportError\u001b[39m: cannot import name 'create_config_widget' from 'omero_annotate_ai' (/home/maarten/miniconda3/envs/micro-sam/lib/python3.12/site-packages/omero_annotate_ai/__init__.py)"
     ]
    }
   ],
   "source": [
    "import omero_annotate_ai\n",
    "from omero_annotate_ai import (\n",
    "    create_omero_connection_widget,\n",
    "    create_workflow_widget,\n",
    "    create_pipeline,\n",
    "    create_workflow_widget,\n",
    ")\n",
    ")\n",
    "from omero_annotate_ai.core.config import load_config_from_yaml\n",
    "import os\n",
    "from pathlib import Path\n",
    "\n",
    "print(f\"omero-annotate-ai version: {omero_annotate_ai.__version__}\")\n",
    "\n",
    "try:\n",
    "    import ezomero\n",
    "    print(\"OMERO functionality: Available\")\n",
    "except ImportError:\n",
    "    print(\"OMERO functionality: Install with: pip install -e .[omero]\")\n",
    "\n",
    "try:\n",
    "    import keyring\n",
    "    print(\"Keyring support: Available\")\n",
    "except ImportError:\n",
    "    print(\"Keyring support: Not available\")"
   ]
  },
  {
   "cell_type": "markdown",
   "metadata": {},
   "source": [
    "## OMERO Connection"
   ]
  },
  {
   "cell_type": "code",
   "execution_count": null,
   "metadata": {},
   "outputs": [
    {
     "name": "stdout",
     "output_type": "stream",
     "text": [
      "📄 Loaded configuration from connection history: root@localhost\n",
      "⚠️ Error loading password from keychain: No recommended backend was available. Install a recommended 3rd party backend package; or, install the keyrings.alt package if you want to use the non-recommended backends. See https://pypi.org/project/keyring for details.\n"
     ]
    },
    {
     "data": {
      "application/vnd.jupyter.widget-view+json": {
       "model_id": "191bedeb96054939bf58b18e7442d73c",
       "version_major": 2,
       "version_minor": 0
      },
      "text/plain": [
       "VBox(children=(HTML(value='<h3>🔌 OMERO Server Connection</h3>', layout=Layout(margin='0 0 20px 0')), HTML(valu…"
      ]
     },
     "metadata": {},
     "output_type": "display_data"
    }
   ],
   "source": [
    "conn_widget = create_omero_connection_widget()\n",
    "conn_widget.display()"
   ]
  },
  {
   "cell_type": "code",
   "execution_count": 3,
   "metadata": {},
   "outputs": [
    {
     "name": "stdout",
     "output_type": "stream",
     "text": [
      "Connected as: root\n",
      "Group: system\n"
     ]
    }
   ],
   "source": [
    "conn = conn_widget.get_connection()\n",
    "\n",
    "if conn is None:\n",
    "    raise ConnectionError(\"No OMERO connection established\")\n",
    "\n",
    "print(f\"Connected as: {conn.getUser().getName()}\")\n",
    "print(f\"Group: {conn.getGroupFromContext().getName()}\")"
   ]
  },
  {
   "cell_type": "markdown",
   "metadata": {},
   "source": []
  },
  {
   "cell_type": "code",
   "execution_count": 5,
   "metadata": {},
   "outputs": [
    {
     "ename": "NameError",
     "evalue": "name 'create_config_widget' is not defined",
     "output_type": "error",
     "traceback": [
      "\u001b[31m---------------------------------------------------------------------------\u001b[39m",
      "\u001b[31mNameError\u001b[39m                                 Traceback (most recent call last)",
      "\u001b[36mCell\u001b[39m\u001b[36m \u001b[39m\u001b[32mIn[5]\u001b[39m\u001b[32m, line 2\u001b[39m\n\u001b[32m      1\u001b[39m \u001b[38;5;66;03m# Create the enhanced configuration widget with table management\u001b[39;00m\n\u001b[32m----> \u001b[39m\u001b[32m2\u001b[39m config_widget = \u001b[43mcreate_config_widget\u001b[49m(connection=conn)\n\u001b[32m      3\u001b[39m config_widget.display()\n",
      "\u001b[31mNameError\u001b[39m: name 'create_config_widget' is not defined"
     ]
    }
   ],
   "source": [
    "# Create the enhanced configuration widget with table management\n",
    "config_widget = create_config_widget(connection=conn)\n",
    "config_widget.display()"
   ]
  },
  {
   "cell_type": "markdown",
   "metadata": {},
   "source": [
    "## Pipeline Execution"
   ]
  },
  {
   "cell_type": "code",
   "execution_count": 4,
   "metadata": {},
   "outputs": [
    {
     "ename": "FileNotFoundError",
     "evalue": "Config file not found: C:\\Users\\Maarten\\Documents\\tmp\\annotate3\\annotation_config.yaml",
     "output_type": "error",
     "traceback": [
      "\u001b[31m---------------------------------------------------------------------------\u001b[39m",
      "\u001b[31mFileNotFoundError\u001b[39m                         Traceback (most recent call last)",
      "\u001b[36mCell\u001b[39m\u001b[36m \u001b[39m\u001b[32mIn[4]\u001b[39m\u001b[32m, line 1\u001b[39m\n\u001b[32m----> \u001b[39m\u001b[32m1\u001b[39m config = \u001b[43mload_config_from_yaml\u001b[49m\u001b[43m(\u001b[49m\u001b[33;43m\"\u001b[39;49m\u001b[33;43mC:\u001b[39;49m\u001b[38;5;130;43;01m\\\\\u001b[39;49;00m\u001b[33;43mUsers\u001b[39;49m\u001b[38;5;130;43;01m\\\\\u001b[39;49;00m\u001b[33;43mMaarten\u001b[39;49m\u001b[38;5;130;43;01m\\\\\u001b[39;49;00m\u001b[33;43mDocuments\u001b[39;49m\u001b[38;5;130;43;01m\\\\\u001b[39;49;00m\u001b[33;43mtmp\u001b[39;49m\u001b[38;5;130;43;01m\\\\\u001b[39;49;00m\u001b[33;43mannotate3\u001b[39;49m\u001b[38;5;130;43;01m\\\\\u001b[39;49;00m\u001b[33;43mannotation_config.yaml\u001b[39;49m\u001b[33;43m\"\u001b[39;49m\u001b[43m)\u001b[49m\n\u001b[32m      2\u001b[39m config.validate()\n\u001b[32m      4\u001b[39m \u001b[38;5;28mprint\u001b[39m(\u001b[33mf\u001b[39m\u001b[33m\"\u001b[39m\u001b[33mContainer: \u001b[39m\u001b[38;5;132;01m{\u001b[39;00mconfig.omero.container_type\u001b[38;5;132;01m}\u001b[39;00m\u001b[33m (ID: \u001b[39m\u001b[38;5;132;01m{\u001b[39;00mconfig.omero.container_id\u001b[38;5;132;01m}\u001b[39;00m\u001b[33m)\u001b[39m\u001b[33m\"\u001b[39m)\n",
      "\u001b[36mFile \u001b[39m\u001b[32m~/miniconda3/envs/micro-sam/lib/python3.12/site-packages/omero_annotate_ai/core/config.py:428\u001b[39m, in \u001b[36mload_config_from_yaml\u001b[39m\u001b[34m(yaml_path)\u001b[39m\n\u001b[32m    426\u001b[39m config_path = Path(yaml_path)\n\u001b[32m    427\u001b[39m \u001b[38;5;28;01mif\u001b[39;00m \u001b[38;5;129;01mnot\u001b[39;00m config_path.exists():\n\u001b[32m--> \u001b[39m\u001b[32m428\u001b[39m     \u001b[38;5;28;01mraise\u001b[39;00m \u001b[38;5;167;01mFileNotFoundError\u001b[39;00m(\u001b[33mf\u001b[39m\u001b[33m\"\u001b[39m\u001b[33mConfig file not found: \u001b[39m\u001b[38;5;132;01m{\u001b[39;00myaml_path\u001b[38;5;132;01m}\u001b[39;00m\u001b[33m\"\u001b[39m)\n\u001b[32m    430\u001b[39m \u001b[38;5;28;01mreturn\u001b[39;00m AnnotationConfig.from_yaml(config_path)\n",
      "\u001b[31mFileNotFoundError\u001b[39m: Config file not found: C:\\Users\\Maarten\\Documents\\tmp\\annotate3\\annotation_config.yaml"
     ]
    }
   ],
   "source": [
    "config = load_config_from_yaml(\"C:\\\\Users\\\\Maarten\\\\Documents\\\\tmp\\\\annotate3\\\\annotation_config.yaml\")\n",
    "config.validate()\n",
    "\n",
    "print(f\"Container: {config.omero.container_type} (ID: {config.omero.container_id})\")\n",
    "print(f\"Training Set: {config.training.trainingset_name}\")\n",
    "print(f\"Model: {config.micro_sam.model_type}\")\n",
    "print(f\"Output: {config.batch_processing.output_folder}\")\n",
    "\n",
    "if config.patches.use_patches:\n",
    "    print(f\"Patches: {config.patches.patches_per_image} per image ({config.patches.patch_size[0]}×{config.patches.patch_size[1]})\")\n",
    "\n",
    "print(f\"Scope: {'All images' if config.training.segment_all else f'{config.training.train_n} training + {config.training.validate_n} validation'}\")"
   ]
  },
  {
   "cell_type": "code",
   "execution_count": null,
   "metadata": {},
   "outputs": [],
   "source": [
    "pipeline = create_pipeline(config, conn)\n",
    "\n",
    "container = conn.getObject(config.omero.container_type.capitalize(), config.omero.container_id)\n",
    "if container is None:\n",
    "    raise ValueError(f\"{config.omero.container_type} with ID {config.omero.container_id} not found\")\n",
    "\n",
    "print(f\"Container: {container.getName()}\")\n",
    "\n",
    "images_list = pipeline.get_images_from_container()\n",
    "print(f\"Images to process: {len(images_list)}\")\n",
    "\n",
    "for i, img in enumerate(images_list[:3]):\n",
    "    print(f\"  {i+1}. {img.getName()} (ID: {img.getId()})\")\n",
    "if len(images_list) > 3:\n",
    "    print(f\"  ... and {len(images_list) - 3} more\")"
   ]
  },
  {
   "cell_type": "code",
   "execution_count": null,
   "metadata": {},
   "outputs": [],
   "source": [
    "# Step 1: Create annotation table\n",
    "table_id, images_list = pipeline.create_annotation_table(images_list)\n",
    "print(f\"Table created with ID: {table_id}\")\n",
    "\n",
    "# Step 2: Run annotation processing\n",
    "table_id, processed_images = pipeline.run_annotation(table_id, images_list)\n",
    "\n",
    "print(f\"Completed. Processed {len(processed_images)} images\")\n",
    "print(f\"Table ID: {table_id}\")"
   ]
  },
  {
   "cell_type": "markdown",
   "metadata": {},
   "source": [
    "## Results"
   ]
  },
  {
   "cell_type": "code",
   "execution_count": null,
   "metadata": {},
   "outputs": [],
   "source": [
    "print(f\"Training Set: {config.training.trainingset_name}\")\n",
    "print(f\"Table ID: {table_id}\")\n",
    "print(f\"Images Processed: {len(processed_images)}\")\n",
    "print(f\"Output: {config.batch_processing.output_folder}\")\n",
    "\n",
    "if processed_images:\n",
    "    print(f\"Processed Images:\")\n",
    "    for i, img in enumerate(processed_images[:5]):\n",
    "        if hasattr(img, 'getName'):\n",
    "            print(f\"  {i+1}. {img.getName()} (ID: {img.getId()})\")\n",
    "        else:\n",
    "            img_obj = conn.getObject(\"Image\", img)\n",
    "            if img_obj:\n",
    "                print(f\"  {i+1}. {img_obj.getName()} (ID: {img})\")\n",
    "    \n",
    "    if len(processed_images) > 5:\n",
    "        print(f\"  ... and {len(processed_images) - 5} more\")"
   ]
  },
  {
   "cell_type": "code",
   "execution_count": null,
   "metadata": {},
   "outputs": [],
   "source": [
    "config_filename = f\"annotation_config_{config.training.trainingset_name}.yaml\"\n",
    "config_path = Path(config.batch_processing.output_folder) / config_filename\n",
    "\n",
    "try:\n",
    "    config.save_yaml(config_path)\n",
    "    print(f\"Config saved: {config_path}\")\n",
    "except Exception as e:\n",
    "    config.save_yaml(config_filename)\n",
    "    print(f\"Config saved: {config_filename}\")"
   ]
  },
  {
   "cell_type": "markdown",
   "metadata": {},
   "source": [
    "## Cleanup"
   ]
  },
  {
   "cell_type": "code",
   "execution_count": null,
   "metadata": {},
   "outputs": [],
   "source": [
    "if 'conn' in locals() and conn is not None:\n",
    "    conn.close()\n",
    "    print(\"OMERO connection closed\")\n",
    "\n",
    "print(f\"Total images processed: {len(processed_images) if 'processed_images' in locals() else 0}\")\n",
    "print(f\"Table ID: {table_id if 'table_id' in locals() else 'N/A'}\")"
   ]
  },
  {
   "cell_type": "markdown",
   "metadata": {},
   "source": [
    "## Usage Options\n",
    "\n",
    "```python\n",
    "# Option 1: Full workflow\n",
    "table_id, processed_images = pipeline.run_full_workflow()\n",
    "\n",
    "# Option 2: Split workflow\n",
    "table_id, images_list = pipeline.create_annotation_table()\n",
    "table_id, processed_images = pipeline.run_annotation(table_id, images_list)\n",
    "\n",
    "# Option 3: Resume from existing table\n",
    "table_id, processed_images = pipeline.run_annotation(existing_table_id)\n",
    "```"
   ]
  }
 ],
 "metadata": {
  "kernelspec": {
   "display_name": "micro-sam",
   "language": "python",
   "name": "python3"
  },
  "language_info": {
   "codemirror_mode": {
    "name": "ipython",
    "version": 3
   },
   "file_extension": ".py",
   "mimetype": "text/x-python",
   "name": "python",
   "nbconvert_exporter": "python",
   "pygments_lexer": "ipython3",
   "version": "3.11.11"
  }
 },
 "nbformat": 4,
 "nbformat_minor": 4
}
