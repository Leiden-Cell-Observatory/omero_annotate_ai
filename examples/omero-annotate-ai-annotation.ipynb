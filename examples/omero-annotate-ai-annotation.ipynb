{
 "cells": [
  {
   "cell_type": "markdown",
   "metadata": {},
   "source": [
    "# OMERO Micro-SAM Workflow\n",
    "\n",
    "\n"
   ]
  },
  {
   "cell_type": "markdown",
   "metadata": {},
   "source": [
    "## 1. Setup and Installation"
   ]
  },
  {
   "cell_type": "code",
   "execution_count": 1,
   "metadata": {},
   "outputs": [
    {
     "name": "stdout",
     "output_type": "stream",
     "text": [
      "📦 omero-annotate-ai version: 0.1.0\n",
      "🔗 OMERO functionality: ✅ Available\n",
      "🔑 Keyring support: ✅ Available\n"
     ]
    }
   ],
   "source": [
    "# Import the streamlined package\n",
    "import omero_annotate_ai\n",
    "from omero_annotate_ai import (\n",
    "    create_omero_connection_widget,\n",
    "    create_workflow_widget,\n",
    "    create_pipeline\n",
    ")\n",
    "\n",
    "# System imports\n",
    "import os\n",
    "from pathlib import Path\n",
    "\n",
    "print(f\"📦 omero-annotate-ai version: {omero_annotate_ai.__version__}\")\n",
    "# Check dependencies\n",
    "try:\n",
    "    import ezomero\n",
    "    print(f\"🔗 OMERO functionality: ✅ Available\")\n",
    "except ImportError:\n",
    "    print(f\"🔗 OMERO functionality: ❌ Install with: pip install -e .[omero]\")\n",
    "\n",
    "try:\n",
    "    import keyring\n",
    "    print(f\"🔑 Keyring support: ✅ Available\")\n",
    "except ImportError:\n",
    "    print(f\"🔑 Keyring support: ⚠️ Not available (manual password entry only)\")"
   ]
  },
  {
   "cell_type": "markdown",
   "metadata": {},
   "source": [
    "## 2. OMERO Connection"
   ]
  },
  {
   "cell_type": "code",
   "execution_count": 2,
   "metadata": {},
   "outputs": [
    {
     "name": "stdout",
     "output_type": "stream",
     "text": [
      "🔌 OMERO Connection Setup\n",
      "Use the widget below to connect to your OMERO server:\n",
      "  • Fill in server details (host, username, password)\n",
      "  • Test connection before proceeding\n",
      "  • Choose password storage duration if desired\n",
      "  • Click 'Save & Connect' to establish connection\n",
      "\n",
      "📄 Loaded configuration from connection history: root@localhost\n",
      "🔐 Password loaded from keychain (no expiration)\n"
     ]
    },
    {
     "data": {
      "application/vnd.jupyter.widget-view+json": {
       "model_id": "28929c1f75c54d8e8cfa6e28daeb3231",
       "version_major": 2,
       "version_minor": 0
      },
      "text/plain": [
       "VBox(children=(HTML(value='<h3>🔌 OMERO Server Connection</h3>', layout=Layout(margin='0 0 20px 0')), HTML(valu…"
      ]
     },
     "metadata": {},
     "output_type": "display_data"
    },
    {
     "name": "stdout",
     "output_type": "stream",
     "text": [
      "\n",
      "📝 Next Step: Run the cell below after connecting to OMERO\n"
     ]
    }
   ],
   "source": [
    "# Create and display the OMERO connection widget\n",
    "print(\"🔌 OMERO Connection Setup\")\n",
    "print(\"Use the widget below to connect to your OMERO server:\")\n",
    "print(\"  • Fill in server details (host, username, password)\")\n",
    "print(\"  • Test connection before proceeding\")\n",
    "print(\"  • Choose password storage duration if desired\")\n",
    "print(\"  • Click 'Save & Connect' to establish connection\")\n",
    "print()\n",
    "\n",
    "conn_widget = create_omero_connection_widget()\n",
    "conn_widget.display()\n",
    "\n",
    "print(\"\\n📝 Next Step: Run the cell below after connecting to OMERO\")"
   ]
  },
  {
   "cell_type": "code",
   "execution_count": 3,
   "metadata": {},
   "outputs": [
    {
     "ename": "ConnectionError",
     "evalue": "❌ No OMERO connection established. Please use the widget above to connect.",
     "output_type": "error",
     "traceback": [
      "\u001b[1;31m---------------------------------------------------------------------------\u001b[0m",
      "\u001b[1;31mConnectionError\u001b[0m                           Traceback (most recent call last)",
      "Cell \u001b[1;32mIn[3], line 5\u001b[0m\n\u001b[0;32m      2\u001b[0m conn \u001b[38;5;241m=\u001b[39m conn_widget\u001b[38;5;241m.\u001b[39mget_connection()\n\u001b[0;32m      4\u001b[0m \u001b[38;5;28;01mif\u001b[39;00m conn \u001b[38;5;129;01mis\u001b[39;00m \u001b[38;5;28;01mNone\u001b[39;00m:\n\u001b[1;32m----> 5\u001b[0m     \u001b[38;5;28;01mraise\u001b[39;00m \u001b[38;5;167;01mConnectionError\u001b[39;00m(\u001b[38;5;124m\"\u001b[39m\u001b[38;5;124m❌ No OMERO connection established. Please use the widget above to connect.\u001b[39m\u001b[38;5;124m\"\u001b[39m)\n\u001b[0;32m      7\u001b[0m \u001b[38;5;28mprint\u001b[39m(\u001b[38;5;124m\"\u001b[39m\u001b[38;5;124m✅ OMERO connection established!\u001b[39m\u001b[38;5;124m\"\u001b[39m)\n\u001b[0;32m      8\u001b[0m \u001b[38;5;28mprint\u001b[39m(\u001b[38;5;124mf\u001b[39m\u001b[38;5;124m\"\u001b[39m\u001b[38;5;124m👤 User: \u001b[39m\u001b[38;5;132;01m{\u001b[39;00mconn\u001b[38;5;241m.\u001b[39mgetUser()\u001b[38;5;241m.\u001b[39mgetName()\u001b[38;5;132;01m}\u001b[39;00m\u001b[38;5;124m\"\u001b[39m)\n",
      "\u001b[1;31mConnectionError\u001b[0m: ❌ No OMERO connection established. Please use the widget above to connect."
     ]
    }
   ],
   "source": [
    "# Get the OMERO connection\n",
    "conn = conn_widget.get_connection()\n",
    "\n",
    "if conn is None:\n",
    "    raise ConnectionError(\"❌ No OMERO connection established. Please use the widget above to connect.\")\n",
    "\n",
    "print(\"✅ OMERO connection established!\")\n",
    "print(f\"👤 User: {conn.getUser().getName()}\")\n",
    "print(f\"🏢 Group: {conn.getGroupFromContext().getName()}\")\n",
    "print(f\"🔐 Secure: {conn.isSecure()}\")\n",
    "print(f\"🔗 Connection ready for workflow setup\")"
   ]
  },
  {
   "cell_type": "markdown",
   "metadata": {},
   "source": [
    "## 3. Workflow Configuration"
   ]
  },
  {
   "cell_type": "code",
   "execution_count": null,
   "metadata": {},
   "outputs": [
    {
     "name": "stdout",
     "output_type": "stream",
     "text": [
      "🔬 OMERO Annotation Workflow Setup\n",
      "Follow the sequential workflow below:\n",
      "  1. Select working directory\n",
      "  2. Choose OMERO container\n",
      "  3. Check existing annotation tables\n",
      "  4. Configure micro-SAM parameters\n",
      "  5. Save configuration\n",
      "\n"
     ]
    },
    {
     "data": {
      "application/vnd.jupyter.widget-view+json": {
       "model_id": "3622c025cbb84adf996e8f97519102bb",
       "version_major": 2,
       "version_minor": 0
      },
      "text/plain": [
       "VBox(children=(HTML(value='<h3>🔬 OMERO Annotation Workflow</h3>', layout=Layout(margin='0 0 20px 0')), IntProg…"
      ]
     },
     "metadata": {},
     "output_type": "display_data"
    },
    {
     "name": "stdout",
     "output_type": "stream",
     "text": [
      "\n",
      "📝 Next Step: Complete the workflow above, then run the cell below\n"
     ]
    }
   ],
   "source": [
    "# Create and display the workflow widget\n",
    "print(\"🔬 OMERO Annotation Workflow Setup\")\n",
    "print(\"Follow the sequential workflow below:\")\n",
    "print(\"  1. Select working directory\")\n",
    "print(\"  2. Choose OMERO container\")\n",
    "print(\"  3. Check existing annotation tables\")\n",
    "print(\"  4. Configure micro-SAM parameters\")\n",
    "print(\"  5. Save configuration\")\n",
    "print()\n",
    "\n",
    "workflow_widget = create_workflow_widget(connection=conn)\n",
    "workflow_widget.display()\n",
    "\n",
    "print(\"\\n📝 Next Step: Complete the workflow above, then run the cell below\")"
   ]
  },
  {
   "cell_type": "markdown",
   "metadata": {},
   "source": [
    "## 4. Pipeline Execution\n"
   ]
  },
  {
   "cell_type": "code",
   "execution_count": 8,
   "metadata": {},
   "outputs": [
    {
     "name": "stdout",
     "output_type": "stream",
     "text": [
      "\n",
      "📋 Configuration Summary:\n",
      "   📦 Container: project (ID: 201)\n",
      "   🎯 Training Set: micro_sam_foci_test_20250825_204521\n",
      "   🔬 Model: vit_b_lm\n",
      "   📺 Channel: [0]\n",
      "   📁 Output: c:\\Users\\Maarten\\Documents\\Github\\omero_annotate_ai\\examples\\omero_annotations\n",
      "   🔄 Resume from Table: False\n",
      "   📖 Read-only Mode: False\n",
      "   🧩 Patches: 1 per image (512×512)\n",
      "\n",
      "📊 Processing: 1 training + 1 validation\n"
     ]
    }
   ],
   "source": [
    "# Get configuration from workflow widget\n",
    "config = workflow_widget.get_config()\n",
    "\n",
    "# Display configuration summary\n",
    "print(\"\\n📋 Configuration Summary:\")\n",
    "print(f\"   📦 Container: {config.omero.container_type} (ID: {config.omero.container_id})\")\n",
    "print(f\"   🎯 Training Set: {config.name}\")\n",
    "print(f\"   🔬 Model: {config.ai_model.model_type}\")\n",
    "print(f\"   📺 Channel: {config.spatial_coverage.channels}\")\n",
    "print(f\"   📁 Output: {config.output.output_directory}\")\n",
    "print(f\"   🔄 Resume from Table: {config.workflow.resume_from_table}\")\n",
    "print(f\"   📖 Read-only Mode: {config.workflow.read_only_mode}\")\n",
    "\n",
    "if config.processing.use_patches:\n",
    "    print(f\"   🧩 Patches: {config.processing.patches_per_image} per image ({config.processing.patch_size[0]}×{config.processing.patch_size[1]})\"\n",
    "    )\n",
    "\n",
    "if config.spatial_coverage.three_d:\n",
    "    print(f\"   🧊 3D processing: Enabled\")\n",
    "\n",
    "\n",
    "print(f\"\\n📊 Processing: {'All images' if config.training.segment_all else f'{config.training.train_n} training + {config.training.validate_n} validation'}\")"
   ]
  },
  {
   "cell_type": "code",
   "execution_count": 9,
   "metadata": {},
   "outputs": [],
   "source": [
    "from omero_annotate_ai.core.annotation_config import load_config_from_yaml\n",
    "\n",
    "#config = load_config_from_yaml(\n",
    "#    \"C:\\\\Users\\\\Maarten\\\\Documents\\\\Github\\\\omero_annotate_ai\\\\examples\\\\omero_annotations\\\\annotation_config.yaml\"\n",
    "#)\n"
   ]
  },
  {
   "cell_type": "code",
   "execution_count": 10,
   "metadata": {},
   "outputs": [
    {
     "name": "stdout",
     "output_type": "stream",
     "text": [
      "🔍 Validating project with ID 201...\n",
      "✅ Found project: foci_test\n"
     ]
    }
   ],
   "source": [
    "# Create pipeline and preview what will be processed\n",
    "pipeline = create_pipeline(config, conn)\n",
    "\n",
    "# Get container details\n",
    "container_type = config.omero.container_type\n",
    "container_id = config.omero.container_id\n",
    "\n",
    "print(f\"🔍 Validating {container_type} with ID {container_id}...\")\n",
    "\n",
    "# Validate container exists\n",
    "container = conn.getObject(container_type.capitalize(), container_id)\n",
    "if container is None:\n",
    "    raise ValueError(f\"{container_type.capitalize()} with ID {container_id} not found\")\n",
    "\n",
    "print(f\"✅ Found {container_type}: {container.getName()}\")\n",
    "if container.getDescription():\n",
    "    print(f\"📝 Description: {container.getDescription()}\")"
   ]
  },
  {
   "cell_type": "code",
   "execution_count": null,
   "metadata": {},
   "outputs": [
    {
     "name": "stdout",
     "output_type": "stream",
     "text": [
      "🚀 Starting annotation pipeline...\n",
      "   🔬 Using micro-SAM model: vit_b_lm\n",
      "   ⚡ Processing: All images in one batch\n",
      "   🎨 Napari will open for interactive annotation\n",
      "   📝 Close napari windows when annotation is complete\n",
      "Loading images from project 201\n",
      "Found 10 images\n",
      "Processing 10 images with model: vit_b_lm\n",
      "Preparing processing units...\n",
      "Creating initial OMERO table...\n",
      "📋 Created/replaced tracking table 'micro_sam_training_micro_sam_foci_test_20250825_204521' with 2 units\n",
      "   Container: project 201\n",
      "   Table ID: 1510\n",
      "Created OMERO table with ID: 1510\n",
      "object group 0\n",
      "📊 Workflow status updated: 0/2 (0.0%) - pending\n",
      "Found 2 unprocessed annotations\n",
      "\n",
      "🔄 Processing batch 1/1\n",
      "   📦 Batch size: 2\n",
      "   📊 Config state before: 0/2 processed\n",
      "   🎨 Running micro-SAM annotation...\n",
      "📊 Loading 1 images using dask...\n",
      "💾 Materializing dask arrays to numpy...\n",
      "   Processing chunk 1/1\n"
     ]
    },
    {
     "name": "stderr",
     "output_type": "stream",
     "text": [
      "INFO:omero.gateway:Registered c82fc091-7876-4f4e-a1a4-f8c06b13f97e/e1d007f8-1565-4bab-b910-382039931de3omero.api.RawPixelsStore -t -e 1.1:tcp -h 172.19.0.8 -p 34317 -t 60000\n",
      "INFO:omero.gateway:Unregistered c82fc091-7876-4f4e-a1a4-f8c06b13f97e/e1d007f8-1565-4bab-b910-382039931de3omero.api.RawPixelsStore -t -e 1.1:tcp -h 172.19.0.8 -p 34317 -t 60000\n",
      "INFO:omero.gateway:Registered c82fc091-7876-4f4e-a1a4-f8c06b13f97e/c1ce2b31-90c1-4eab-a168-8edf82d11679omero.api.RawPixelsStore -t -e 1.1:tcp -h 172.19.0.8 -p 34317 -t 60000\n",
      "INFO:omero.gateway:Unregistered c82fc091-7876-4f4e-a1a4-f8c06b13f97e/c1ce2b31-90c1-4eab-a168-8edf82d11679omero.api.RawPixelsStore -t -e 1.1:tcp -h 172.19.0.8 -p 34317 -t 60000\n"
     ]
    },
    {
     "name": "stdout",
     "output_type": "stream",
     "text": [
      "✅ Successfully loaded 1 images\n",
      "Loaded 2D data shape: (1024, 1024)\n",
      "📊 Loading 1 images using dask...\n",
      "💾 Materializing dask arrays to numpy...\n",
      "   Processing chunk 1/1\n",
      "✅ Successfully loaded 1 images\n",
      "Loaded 2D data shape: (1024, 1024)\n"
     ]
    },
    {
     "name": "stderr",
     "output_type": "stream",
     "text": [
      "Precompute state for files: 100%|██████████| 2/2 [00:15<00:00,  7.68s/it]\n"
     ]
    },
    {
     "name": "stdout",
     "output_type": "stream",
     "text": [
      "Precomputation took 16.681240558624268 seconds (= 00:17 minutes)\n",
      "The first image to annotate is image number 0\n",
      "Loading next image: at index 1\n",
      "\u001b[1;31m---------------------------------------------------------------------------\u001b[0m\n",
      "\u001b[1;31mRuntimeError\u001b[0m                              Traceback (most recent call last)\n",
      "File \u001b[1;32mc:\\Users\\Maarten\\miniforge3\\envs\\micro-sam\\Lib\\site-packages\\psygnal\\_signal.py:1196\u001b[0m, in \u001b[0;36mSignalInstance._run_emit_loop\u001b[1;34m(self=<class 'psygnal._signal.SignalInstance'> instance, args=(False,))\u001b[0m\n",
      "\u001b[0;32m   1195\u001b[0m     \u001b[38;5;28;01mwith\u001b[39;00m Signal\u001b[38;5;241m.\u001b[39m_emitting(\u001b[38;5;28mself\u001b[39m):\n",
      "\u001b[1;32m-> 1196\u001b[0m         \u001b[38;5;28;43mself\u001b[39;49m\u001b[38;5;241;43m.\u001b[39;49m\u001b[43m_run_emit_loop_inner\u001b[49m\u001b[43m(\u001b[49m\u001b[43m)\u001b[49m\n",
      "        Exception trying to inspect frame. No more locals available.\n",
      "\u001b[0;32m   1197\u001b[0m \u001b[38;5;28;01mexcept\u001b[39;00m \u001b[38;5;167;01mRecursionError\u001b[39;00m \u001b[38;5;28;01mas\u001b[39;00m e:\n",
      "\n",
      "File \u001b[1;32mc:\\Users\\Maarten\\miniforge3\\envs\\micro-sam\\Lib\\site-packages\\psygnal\\_signal.py:1225\u001b[0m, in \u001b[0;36mSignalInstance._run_emit_loop_immediate\u001b[1;34m(self=<class 'psygnal._signal.SignalInstance'> instance)\u001b[0m\n",
      "\u001b[0;32m   1224\u001b[0m \u001b[38;5;28;01mfor\u001b[39;00m caller \u001b[38;5;129;01min\u001b[39;00m \u001b[38;5;28mself\u001b[39m\u001b[38;5;241m.\u001b[39m_slots:\n",
      "\u001b[1;32m-> 1225\u001b[0m     \u001b[43mcaller\u001b[49m\u001b[38;5;241;43m.\u001b[39;49m\u001b[43mcb\u001b[49m\u001b[43m(\u001b[49m\u001b[43margs\u001b[49m\u001b[43m)\u001b[49m\n",
      "        args \u001b[1;34m= (False,)\u001b[0m\u001b[1;34m\n",
      "        \u001b[0mcaller \u001b[1;34m= <StrongFunction on magicgui.widgets._function_gui.FunctionGui.__init__.<locals>._disable_button_and_call>\u001b[0m\n",
      "\n",
      "File \u001b[1;32mc:\\Users\\Maarten\\miniforge3\\envs\\micro-sam\\Lib\\site-packages\\psygnal\\_weak_callback.py:357\u001b[0m, in \u001b[0;36mStrongFunction.cb\u001b[1;34m(self=<StrongFunction on magicgui.widgets._function_gu...onGui.__init__.<locals>._disable_button_and_call>, args=())\u001b[0m\n",
      "\u001b[0;32m    356\u001b[0m     args \u001b[38;5;241m=\u001b[39m args[: \u001b[38;5;28mself\u001b[39m\u001b[38;5;241m.\u001b[39m_max_args]\n",
      "\u001b[1;32m--> 357\u001b[0m \u001b[38;5;28;43mself\u001b[39;49m\u001b[38;5;241;43m.\u001b[39;49m\u001b[43m_f\u001b[49m\u001b[43m(\u001b[49m\u001b[38;5;241;43m*\u001b[39;49m\u001b[38;5;28;43mself\u001b[39;49m\u001b[38;5;241;43m.\u001b[39;49m\u001b[43m_args\u001b[49m\u001b[43m,\u001b[49m\u001b[43m \u001b[49m\u001b[38;5;241;43m*\u001b[39;49m\u001b[43margs\u001b[49m\u001b[43m,\u001b[49m\u001b[43m \u001b[49m\u001b[38;5;241;43m*\u001b[39;49m\u001b[38;5;241;43m*\u001b[39;49m\u001b[38;5;28;43mself\u001b[39;49m\u001b[38;5;241;43m.\u001b[39;49m\u001b[43m_kwargs\u001b[49m\u001b[43m)\u001b[49m\n",
      "        args \u001b[1;34m= ()\u001b[0m\u001b[1;34m\n",
      "        \u001b[0mself._f \u001b[1;34m= <function FunctionGui.__init__.<locals>._disable_button_and_call at 0x000002046E8F6200>\u001b[0m\u001b[1;34m\n",
      "        \u001b[0mself \u001b[1;34m= <StrongFunction on magicgui.widgets._function_gui.FunctionGui.__init__.<locals>._disable_button_and_call>\u001b[0m\u001b[1;34m\n",
      "        \u001b[0mself._args \u001b[1;34m= ()\u001b[0m\u001b[1;34m\n",
      "        \u001b[0mself._kwargs \u001b[1;34m= {}\u001b[0m\n",
      "\n",
      "File \u001b[1;32mc:\\Users\\Maarten\\miniforge3\\envs\\micro-sam\\Lib\\site-packages\\magicgui\\widgets\\_function_gui.py:230\u001b[0m, in \u001b[0;36mFunctionGui.__init__.<locals>._disable_button_and_call\u001b[1;34m()\u001b[0m\n",
      "\u001b[0;32m    229\u001b[0m \u001b[38;5;28;01mfinally\u001b[39;00m:\n",
      "\u001b[1;32m--> 230\u001b[0m     \u001b[38;5;28;43mself\u001b[39;49m\u001b[38;5;241;43m.\u001b[39;49m\u001b[43m_call_button\u001b[49m\u001b[38;5;241;43m.\u001b[39;49m\u001b[43menabled\u001b[49m \u001b[38;5;241m=\u001b[39m \u001b[38;5;28;01mTrue\u001b[39;00m\n",
      "        Exception trying to inspect frame. No more locals available.\n",
      "\n",
      "File \u001b[1;32mc:\\Users\\Maarten\\miniforge3\\envs\\micro-sam\\Lib\\site-packages\\magicgui\\widgets\\bases\\_widget.py:236\u001b[0m, in \u001b[0;36mWidget.enabled\u001b[1;34m(self=<class 'magicgui.widgets.PushButton'> instance, value=True)\u001b[0m\n",
      "\u001b[0;32m    234\u001b[0m \u001b[38;5;129m@enabled\u001b[39m\u001b[38;5;241m.\u001b[39msetter\n",
      "\u001b[0;32m    235\u001b[0m \u001b[38;5;28;01mdef\u001b[39;00m \u001b[38;5;21menabled\u001b[39m(\u001b[38;5;28mself\u001b[39m, value: \u001b[38;5;28mbool\u001b[39m) \u001b[38;5;241m-\u001b[39m\u001b[38;5;241m>\u001b[39m \u001b[38;5;28;01mNone\u001b[39;00m:\n",
      "\u001b[1;32m--> 236\u001b[0m     \u001b[38;5;28;43mself\u001b[39;49m\u001b[38;5;241;43m.\u001b[39;49m\u001b[43m_widget\u001b[49m\u001b[38;5;241;43m.\u001b[39;49m\u001b[43m_mgui_set_enabled\u001b[49m\u001b[43m(\u001b[49m\u001b[43mvalue\u001b[49m\u001b[43m)\u001b[49m\n",
      "        value \u001b[1;34m= True\u001b[0m\u001b[1;34m\n",
      "        \u001b[0mself._widget \u001b[1;34m= <magicgui.backends._qtpy.widgets.PushButton object at 0x000002046EE3D850>\u001b[0m\u001b[1;34m\n",
      "        \u001b[0mException trying to inspect frame. No more locals available.\n",
      "\n",
      "File \u001b[1;32mc:\\Users\\Maarten\\miniforge3\\envs\\micro-sam\\Lib\\site-packages\\magicgui\\backends\\_qtpy\\widgets.py:89\u001b[0m, in \u001b[0;36mQBaseWidget._mgui_set_enabled\u001b[1;34m(self=<magicgui.backends._qtpy.widgets.PushButton object>, enabled=True)\u001b[0m\n",
      "\u001b[0;32m     88\u001b[0m \u001b[38;5;28;01mdef\u001b[39;00m \u001b[38;5;21m_mgui_set_enabled\u001b[39m(\u001b[38;5;28mself\u001b[39m, enabled: \u001b[38;5;28mbool\u001b[39m) \u001b[38;5;241m-\u001b[39m\u001b[38;5;241m>\u001b[39m \u001b[38;5;28;01mNone\u001b[39;00m:\n",
      "\u001b[1;32m---> 89\u001b[0m     \u001b[38;5;28;43mself\u001b[39;49m\u001b[38;5;241;43m.\u001b[39;49m\u001b[43m_qwidget\u001b[49m\u001b[38;5;241;43m.\u001b[39;49m\u001b[43msetEnabled\u001b[49m\u001b[43m(\u001b[49m\u001b[43menabled\u001b[49m\u001b[43m)\u001b[49m\n",
      "        enabled \u001b[1;34m= True\u001b[0m\u001b[1;34m\n",
      "        \u001b[0mself._qwidget \u001b[1;34m= <PyQt5.QtWidgets.QPushButton object at 0x000002046E8E3EB0>\u001b[0m\u001b[1;34m\n",
      "        \u001b[0mself \u001b[1;34m= <magicgui.backends._qtpy.widgets.PushButton object at 0x000002046EE3D850>\u001b[0m\n",
      "\n",
      "\u001b[1;31mRuntimeError\u001b[0m: wrapped C/C++ object of type QPushButton has been deleted\n",
      "\n",
      "The above exception was the direct cause of the following exception:\n",
      "\n",
      "\u001b[1;31mEmitLoopError\u001b[0m                             Traceback (most recent call last)\n",
      "File \u001b[1;32mc:\\Users\\Maarten\\miniforge3\\envs\\micro-sam\\Lib\\site-packages\\magicgui\\widgets\\bases\\_value_widget.py:71\u001b[0m, in \u001b[0;36mValueWidget._on_value_change\u001b[1;34m(self=<class 'magicgui.widgets.PushButton'> instance, value=False)\u001b[0m\n",
      "\u001b[0;32m     69\u001b[0m \u001b[38;5;28;01mif\u001b[39;00m value \u001b[38;5;129;01mis\u001b[39;00m \u001b[38;5;28mself\u001b[39m\u001b[38;5;241m.\u001b[39mnull_value \u001b[38;5;129;01mand\u001b[39;00m \u001b[38;5;129;01mnot\u001b[39;00m \u001b[38;5;28mself\u001b[39m\u001b[38;5;241m.\u001b[39m_nullable:\n",
      "\u001b[0;32m     70\u001b[0m     \u001b[38;5;28;01mreturn\u001b[39;00m\n",
      "\u001b[1;32m---> 71\u001b[0m \u001b[38;5;28;43mself\u001b[39;49m\u001b[38;5;241;43m.\u001b[39;49m\u001b[43mchanged\u001b[49m\u001b[38;5;241;43m.\u001b[39;49m\u001b[43memit\u001b[49m\u001b[43m(\u001b[49m\u001b[43mvalue\u001b[49m\u001b[43m)\u001b[49m\n",
      "        value \u001b[1;34m= False\u001b[0m\u001b[1;34m\n",
      "        \u001b[0mException trying to inspect frame. No more locals available.\n",
      "\n",
      "File \u001b[1;32mc:\\Users\\Maarten\\miniforge3\\envs\\micro-sam\\Lib\\site-packages\\psygnal\\_signal.py:1176\u001b[0m, in \u001b[0;36mSignalInstance.emit\u001b[1;34m(self=<class 'psygnal._signal.SignalInstance'> instance, check_nargs=False, check_types=False, *args=(False,))\u001b[0m\n",
      "\u001b[0;32m   1172\u001b[0m     \u001b[38;5;28;01mfrom\u001b[39;00m \u001b[38;5;21;01m.\u001b[39;00m\u001b[38;5;21;01m_group\u001b[39;00m \u001b[38;5;28;01mimport\u001b[39;00m EmissionInfo\n",
      "\u001b[0;32m   1174\u001b[0m     SignalInstance\u001b[38;5;241m.\u001b[39m_debug_hook(EmissionInfo(\u001b[38;5;28mself\u001b[39m, args))\n",
      "\u001b[1;32m-> 1176\u001b[0m \u001b[38;5;28;43mself\u001b[39;49m\u001b[38;5;241;43m.\u001b[39;49m\u001b[43m_run_emit_loop\u001b[49m\u001b[43m(\u001b[49m\u001b[43margs\u001b[49m\u001b[43m)\u001b[49m\n",
      "        Exception trying to inspect frame. No more locals available.\n",
      "\n",
      "File \u001b[1;32mc:\\Users\\Maarten\\miniforge3\\envs\\micro-sam\\Lib\\site-packages\\psygnal\\_signal.py:1213\u001b[0m, in \u001b[0;36mSignalInstance._run_emit_loop\u001b[1;34m(self=<class 'psygnal._signal.SignalInstance'> instance, args=(False,))\u001b[0m\n",
      "\u001b[0;32m   1205\u001b[0m     loop_err \u001b[38;5;241m=\u001b[39m EmitLoopError(\n",
      "\u001b[0;32m   1206\u001b[0m         exc\u001b[38;5;241m=\u001b[39mcb_err,\n",
      "\u001b[0;32m   1207\u001b[0m         signal\u001b[38;5;241m=\u001b[39m\u001b[38;5;28mself\u001b[39m,\n",
      "\u001b[1;32m   (...)\u001b[0m\n",
      "\u001b[0;32m   1210\u001b[0m         emit_queue\u001b[38;5;241m=\u001b[39m\u001b[38;5;28mself\u001b[39m\u001b[38;5;241m.\u001b[39m_emit_queue,\n",
      "\u001b[0;32m   1211\u001b[0m     )\u001b[38;5;241m.\u001b[39mwith_traceback(cb_err\u001b[38;5;241m.\u001b[39m__traceback__)\n",
      "\u001b[0;32m   1212\u001b[0m     \u001b[38;5;66;03m# this comment will show up in the traceback\u001b[39;00m\n",
      "\u001b[1;32m-> 1213\u001b[0m     \u001b[38;5;28;01mraise\u001b[39;00m loop_err \u001b[38;5;28;01mfrom\u001b[39;00m \u001b[38;5;21;01mcb_err\u001b[39;00m  \u001b[38;5;66;03m# emit() call ABOVE || callback error BELOW\u001b[39;00m\n",
      "        loop_err \u001b[1;34m= EmitLoopError(\"\\n\\nWhile emitting signal 'magicgui.widgets.PushButton.changed', a RuntimeError occurred in a callback:\\n\\n  Signal emitted at: c:\\\\Users\\\\Maarten\\\\miniforge3\\\\envs\\\\micro-sam\\\\Lib\\\\site-packages\\\\magicgui\\\\widgets\\\\bases\\\\_value_widget.py:71, in _on_value_change\\n    >  self.changed.emit(value)\\n\\n  Callback error at: c:\\\\Users\\\\Maarten\\\\miniforge3\\\\envs\\\\micro-sam\\\\Lib\\\\site-packages\\\\magicgui\\\\backends\\\\_qtpy\\\\widgets.py:89, in _mgui_set_enabled\\n    >  self._qwidget.setEnabled(enabled)\\n\\n    Local variables:\\n       enabled = True\\n\\nSee RuntimeError above for original traceback.\")\u001b[0m\n",
      "\u001b[0;32m   1214\u001b[0m \u001b[38;5;28;01mfinally\u001b[39;00m:\n",
      "\u001b[0;32m   1215\u001b[0m     \u001b[38;5;28mself\u001b[39m\u001b[38;5;241m.\u001b[39m_recursion_depth \u001b[38;5;241m-\u001b[39m\u001b[38;5;241m=\u001b[39m \u001b[38;5;241m1\u001b[39m\n",
      "\n",
      "File \u001b[1;32mc:\\Users\\Maarten\\miniforge3\\envs\\micro-sam\\Lib\\site-packages\\psygnal\\_signal.py:1196\u001b[0m, in \u001b[0;36mSignalInstance._run_emit_loop\u001b[1;34m(self=<class 'psygnal._signal.SignalInstance'> instance, args=(False,))\u001b[0m\n",
      "\u001b[0;32m   1192\u001b[0m     \u001b[38;5;28mself\u001b[39m\u001b[38;5;241m.\u001b[39m_max_recursion_depth \u001b[38;5;241m=\u001b[39m \u001b[38;5;28mmax\u001b[39m(\n",
      "\u001b[0;32m   1193\u001b[0m         \u001b[38;5;28mself\u001b[39m\u001b[38;5;241m.\u001b[39m_max_recursion_depth, \u001b[38;5;28mself\u001b[39m\u001b[38;5;241m.\u001b[39m_recursion_depth\n",
      "\u001b[0;32m   1194\u001b[0m     )\n",
      "\u001b[0;32m   1195\u001b[0m     \u001b[38;5;28;01mwith\u001b[39;00m Signal\u001b[38;5;241m.\u001b[39m_emitting(\u001b[38;5;28mself\u001b[39m):\n",
      "\u001b[1;32m-> 1196\u001b[0m         \u001b[38;5;28;43mself\u001b[39;49m\u001b[38;5;241;43m.\u001b[39;49m\u001b[43m_run_emit_loop_inner\u001b[49m\u001b[43m(\u001b[49m\u001b[43m)\u001b[49m\n",
      "        Exception trying to inspect frame. No more locals available.\n",
      "\u001b[0;32m   1197\u001b[0m \u001b[38;5;28;01mexcept\u001b[39;00m \u001b[38;5;167;01mRecursionError\u001b[39;00m \u001b[38;5;28;01mas\u001b[39;00m e:\n",
      "\u001b[0;32m   1198\u001b[0m     \u001b[38;5;28;01mraise\u001b[39;00m \u001b[38;5;167;01mRecursionError\u001b[39;00m(\n",
      "\u001b[0;32m   1199\u001b[0m         \u001b[38;5;124mf\u001b[39m\u001b[38;5;124m\"\u001b[39m\u001b[38;5;124mRecursionError when \u001b[39m\u001b[38;5;124m\"\u001b[39m\n",
      "\u001b[0;32m   1200\u001b[0m         \u001b[38;5;124mf\u001b[39m\u001b[38;5;124m\"\u001b[39m\u001b[38;5;124memitting signal \u001b[39m\u001b[38;5;132;01m{\u001b[39;00m\u001b[38;5;28mself\u001b[39m\u001b[38;5;241m.\u001b[39mname\u001b[38;5;132;01m!r}\u001b[39;00m\u001b[38;5;124m with args \u001b[39m\u001b[38;5;132;01m{\u001b[39;00margs\u001b[38;5;132;01m}\u001b[39;00m\u001b[38;5;124m\"\u001b[39m\n",
      "\u001b[0;32m   1201\u001b[0m     ) \u001b[38;5;28;01mfrom\u001b[39;00m \u001b[38;5;21;01me\u001b[39;00m\n",
      "\n",
      "File \u001b[1;32mc:\\Users\\Maarten\\miniforge3\\envs\\micro-sam\\Lib\\site-packages\\psygnal\\_signal.py:1225\u001b[0m, in \u001b[0;36mSignalInstance._run_emit_loop_immediate\u001b[1;34m(self=<class 'psygnal._signal.SignalInstance'> instance)\u001b[0m\n",
      "\u001b[0;32m   1223\u001b[0m args \u001b[38;5;241m=\u001b[39m \u001b[38;5;28mself\u001b[39m\u001b[38;5;241m.\u001b[39m_emit_queue\u001b[38;5;241m.\u001b[39mpopleft()\n",
      "\u001b[0;32m   1224\u001b[0m \u001b[38;5;28;01mfor\u001b[39;00m caller \u001b[38;5;129;01min\u001b[39;00m \u001b[38;5;28mself\u001b[39m\u001b[38;5;241m.\u001b[39m_slots:\n",
      "\u001b[1;32m-> 1225\u001b[0m     \u001b[43mcaller\u001b[49m\u001b[38;5;241;43m.\u001b[39;49m\u001b[43mcb\u001b[49m\u001b[43m(\u001b[49m\u001b[43margs\u001b[49m\u001b[43m)\u001b[49m\n",
      "        args \u001b[1;34m= (False,)\u001b[0m\u001b[1;34m\n",
      "        \u001b[0mcaller \u001b[1;34m= <StrongFunction on magicgui.widgets._function_gui.FunctionGui.__init__.<locals>._disable_button_and_call>\u001b[0m\n",
      "\n",
      "File \u001b[1;32mc:\\Users\\Maarten\\miniforge3\\envs\\micro-sam\\Lib\\site-packages\\psygnal\\_weak_callback.py:357\u001b[0m, in \u001b[0;36mStrongFunction.cb\u001b[1;34m(self=<StrongFunction on magicgui.widgets._function_gu...onGui.__init__.<locals>._disable_button_and_call>, args=())\u001b[0m\n",
      "\u001b[0;32m    355\u001b[0m \u001b[38;5;28;01mif\u001b[39;00m \u001b[38;5;28mself\u001b[39m\u001b[38;5;241m.\u001b[39m_max_args \u001b[38;5;129;01mis\u001b[39;00m \u001b[38;5;129;01mnot\u001b[39;00m \u001b[38;5;28;01mNone\u001b[39;00m:\n",
      "\u001b[0;32m    356\u001b[0m     args \u001b[38;5;241m=\u001b[39m args[: \u001b[38;5;28mself\u001b[39m\u001b[38;5;241m.\u001b[39m_max_args]\n",
      "\u001b[1;32m--> 357\u001b[0m \u001b[38;5;28;43mself\u001b[39;49m\u001b[38;5;241;43m.\u001b[39;49m\u001b[43m_f\u001b[49m\u001b[43m(\u001b[49m\u001b[38;5;241;43m*\u001b[39;49m\u001b[38;5;28;43mself\u001b[39;49m\u001b[38;5;241;43m.\u001b[39;49m\u001b[43m_args\u001b[49m\u001b[43m,\u001b[49m\u001b[43m \u001b[49m\u001b[38;5;241;43m*\u001b[39;49m\u001b[43margs\u001b[49m\u001b[43m,\u001b[49m\u001b[43m \u001b[49m\u001b[38;5;241;43m*\u001b[39;49m\u001b[38;5;241;43m*\u001b[39;49m\u001b[38;5;28;43mself\u001b[39;49m\u001b[38;5;241;43m.\u001b[39;49m\u001b[43m_kwargs\u001b[49m\u001b[43m)\u001b[49m\n",
      "        args \u001b[1;34m= ()\u001b[0m\u001b[1;34m\n",
      "        \u001b[0mself._f \u001b[1;34m= <function FunctionGui.__init__.<locals>._disable_button_and_call at 0x000002046E8F6200>\u001b[0m\u001b[1;34m\n",
      "        \u001b[0mself \u001b[1;34m= <StrongFunction on magicgui.widgets._function_gui.FunctionGui.__init__.<locals>._disable_button_and_call>\u001b[0m\u001b[1;34m\n",
      "        \u001b[0mself._args \u001b[1;34m= ()\u001b[0m\u001b[1;34m\n",
      "        \u001b[0mself._kwargs \u001b[1;34m= {}\u001b[0m\n",
      "\n",
      "File \u001b[1;32mc:\\Users\\Maarten\\miniforge3\\envs\\micro-sam\\Lib\\site-packages\\magicgui\\widgets\\_function_gui.py:230\u001b[0m, in \u001b[0;36mFunctionGui.__init__.<locals>._disable_button_and_call\u001b[1;34m()\u001b[0m\n",
      "\u001b[0;32m    228\u001b[0m     \u001b[38;5;28mself\u001b[39m\u001b[38;5;241m.\u001b[39m\u001b[38;5;21m__call__\u001b[39m()\n",
      "\u001b[0;32m    229\u001b[0m \u001b[38;5;28;01mfinally\u001b[39;00m:\n",
      "\u001b[1;32m--> 230\u001b[0m     \u001b[38;5;28;43mself\u001b[39;49m\u001b[38;5;241;43m.\u001b[39;49m\u001b[43m_call_button\u001b[49m\u001b[38;5;241;43m.\u001b[39;49m\u001b[43menabled\u001b[49m \u001b[38;5;241m=\u001b[39m \u001b[38;5;28;01mTrue\u001b[39;00m\n",
      "        Exception trying to inspect frame. No more locals available.\n",
      "\n",
      "File \u001b[1;32mc:\\Users\\Maarten\\miniforge3\\envs\\micro-sam\\Lib\\site-packages\\magicgui\\widgets\\bases\\_widget.py:236\u001b[0m, in \u001b[0;36mWidget.enabled\u001b[1;34m(self=<class 'magicgui.widgets.PushButton'> instance, value=True)\u001b[0m\n",
      "\u001b[0;32m    234\u001b[0m \u001b[38;5;129m@enabled\u001b[39m\u001b[38;5;241m.\u001b[39msetter\n",
      "\u001b[0;32m    235\u001b[0m \u001b[38;5;28;01mdef\u001b[39;00m \u001b[38;5;21menabled\u001b[39m(\u001b[38;5;28mself\u001b[39m, value: \u001b[38;5;28mbool\u001b[39m) \u001b[38;5;241m-\u001b[39m\u001b[38;5;241m>\u001b[39m \u001b[38;5;28;01mNone\u001b[39;00m:\n",
      "\u001b[1;32m--> 236\u001b[0m     \u001b[38;5;28;43mself\u001b[39;49m\u001b[38;5;241;43m.\u001b[39;49m\u001b[43m_widget\u001b[49m\u001b[38;5;241;43m.\u001b[39;49m\u001b[43m_mgui_set_enabled\u001b[49m\u001b[43m(\u001b[49m\u001b[43mvalue\u001b[49m\u001b[43m)\u001b[49m\n",
      "        value \u001b[1;34m= True\u001b[0m\u001b[1;34m\n",
      "        \u001b[0mself._widget \u001b[1;34m= <magicgui.backends._qtpy.widgets.PushButton object at 0x000002046EE3D850>\u001b[0m\u001b[1;34m\n",
      "        \u001b[0mException trying to inspect frame. No more locals available.\n",
      "\n",
      "File \u001b[1;32mc:\\Users\\Maarten\\miniforge3\\envs\\micro-sam\\Lib\\site-packages\\magicgui\\backends\\_qtpy\\widgets.py:89\u001b[0m, in \u001b[0;36mQBaseWidget._mgui_set_enabled\u001b[1;34m(self=<magicgui.backends._qtpy.widgets.PushButton object>, enabled=True)\u001b[0m\n",
      "\u001b[0;32m     88\u001b[0m \u001b[38;5;28;01mdef\u001b[39;00m \u001b[38;5;21m_mgui_set_enabled\u001b[39m(\u001b[38;5;28mself\u001b[39m, enabled: \u001b[38;5;28mbool\u001b[39m) \u001b[38;5;241m-\u001b[39m\u001b[38;5;241m>\u001b[39m \u001b[38;5;28;01mNone\u001b[39;00m:\n",
      "\u001b[1;32m---> 89\u001b[0m     \u001b[38;5;28;43mself\u001b[39;49m\u001b[38;5;241;43m.\u001b[39;49m\u001b[43m_qwidget\u001b[49m\u001b[38;5;241;43m.\u001b[39;49m\u001b[43msetEnabled\u001b[49m\u001b[43m(\u001b[49m\u001b[43menabled\u001b[49m\u001b[43m)\u001b[49m\n",
      "        enabled \u001b[1;34m= True\u001b[0m\u001b[1;34m\n",
      "        \u001b[0mself._qwidget \u001b[1;34m= <PyQt5.QtWidgets.QPushButton object at 0x000002046E8E3EB0>\u001b[0m\u001b[1;34m\n",
      "        \u001b[0mself \u001b[1;34m= <magicgui.backends._qtpy.widgets.PushButton object at 0x000002046EE3D850>\u001b[0m\n",
      "\n",
      "\u001b[1;31mEmitLoopError\u001b[0m: \n",
      "\n",
      "While emitting signal 'magicgui.widgets.PushButton.changed', a RuntimeError occurred in a callback:\n",
      "\n",
      "  Signal emitted at: c:\\Users\\Maarten\\miniforge3\\envs\\micro-sam\\Lib\\site-packages\\magicgui\\widgets\\bases\\_value_widget.py:71, in _on_value_change\n",
      "    >  self.changed.emit(value)\n",
      "\n",
      "  Callback error at: c:\\Users\\Maarten\\miniforge3\\envs\\micro-sam\\Lib\\site-packages\\magicgui\\backends\\_qtpy\\widgets.py:89, in _mgui_set_enabled\n",
      "    >  self._qwidget.setEnabled(enabled)\n",
      "\n",
      "    Local variables:\n",
      "       enabled = True\n",
      "\n",
      "See RuntimeError above for original traceback.\n",
      "   ✅ micro-SAM completed, got results: <class 'dict'>\n",
      "   🔄 Processing annotation results...\n",
      "� Processing annotation results...\n",
      "Found 2 annotation files for 2 metadata entries\n",
      "🔍 Step 1: Loading label image from c:\\Users\\Maarten\\Documents\\Github\\omero_annotate_ai\\examples\\omero_annotations\\annotations\\seg_00000.tif\n",
      "📋 Label image loaded: (512, 512), dtype: uint32\n",
      "🏷️ Found 2 unique labels: [0 1]...\n",
      "🔍 Step 2: Converting labels to ROI shapes...\n",
      "✅ Created 1 ROI shapes from labels\n",
      "🔍 Step 3: Uploading label file as attachment\n"
     ]
    },
    {
     "name": "stderr",
     "output_type": "stream",
     "text": [
      "INFO:omero.gateway:Registered c82fc091-7876-4f4e-a1a4-f8c06b13f97e/c153ea1c-1643-42e6-9f37-00943b2387a2omero.api.RawFileStore -t -e 1.1:tcp -h 172.19.0.8 -p 34317 -t 60000\n",
      "INFO:omero.gateway:Unregistered c82fc091-7876-4f4e-a1a4-f8c06b13f97e/c153ea1c-1643-42e6-9f37-00943b2387a2omero.api.RawFileStore -t -e 1.1:tcp -h 172.19.0.8 -p 34317 -t 60000\n",
      "INFO:omero.gateway:Registered c82fc091-7876-4f4e-a1a4-f8c06b13f97e/72a366ae-d87a-42b9-bf17-e530d6f8c35domero.api.RawFileStore -t -e 1.1:tcp -h 172.19.0.8 -p 34317 -t 60000\n",
      "INFO:omero.gateway:Unregistered c82fc091-7876-4f4e-a1a4-f8c06b13f97e/72a366ae-d87a-42b9-bf17-e530d6f8c35domero.api.RawFileStore -t -e 1.1:tcp -h 172.19.0.8 -p 34317 -t 60000\n"
     ]
    },
    {
     "name": "stdout",
     "output_type": "stream",
     "text": [
      "✅ File annotation uploaded with ID: 1512\n",
      "🔍 Step 4: Uploading ROI shapes\n",
      "✅ Created 1 ROI shapes for image 454 with ID: 375\n",
      "☁️ Uploaded annotations from c:\\Users\\Maarten\\Documents\\Github\\omero_annotate_ai\\examples\\omero_annotations\\annotations\\seg_00000.tif to image 454\n",
      "   Patch offset: (80, 75)\n",
      "   File annotation ID: 1512\n",
      "   ROI ID: 375\n",
      "✅ Uploaded ROI for annotation_id '454_0_0_0' (label_id: 1512, roi_id: 375)\n",
      "🔍 Step 1: Loading label image from c:\\Users\\Maarten\\Documents\\Github\\omero_annotate_ai\\examples\\omero_annotations\\annotations\\seg_00001.tif\n",
      "📋 Label image loaded: (512, 512), dtype: uint32\n",
      "🏷️ Found 2 unique labels: [0 1]...\n",
      "🔍 Step 2: Converting labels to ROI shapes...\n",
      "✅ Created 1 ROI shapes from labels\n",
      "🔍 Step 3: Uploading label file as attachment\n",
      "✅ File annotation uploaded with ID: 1513\n",
      "🔍 Step 4: Uploading ROI shapes\n",
      "✅ Created 1 ROI shapes for image 460 with ID: 376\n",
      "☁️ Uploaded annotations from c:\\Users\\Maarten\\Documents\\Github\\omero_annotate_ai\\examples\\omero_annotations\\annotations\\seg_00001.tif to image 460\n",
      "   Patch offset: (312, 271)\n",
      "   File annotation ID: 1513\n",
      "   ROI ID: 376\n",
      "✅ Uploaded ROI for annotation_id '460_0_0_0' (label_id: 1513, roi_id: 376)\n",
      "📊 Updated 2/2 annotations\n",
      "📈 Config now has 2/2 processed annotations\n",
      "   📊 Config state after: 2/2 processed\n",
      "   📋 Updating OMERO table...\n",
      "📋 Updating OMERO table...\n",
      "🗑️ Deleting table: micro_sam_training_micro_sam_foci_test_20250825_204521\n",
      "🗑️ Deleting table: micro_sam_training_micro_sam_foci_test_20250825_204521\n",
      "✅ Successfully deleted table 1510\n",
      "📋 Created/replaced tracking table 'micro_sam_training_micro_sam_foci_test_20250825_204521' with 2 units\n",
      "   Container: project 201\n",
      "   Table ID: 1514\n",
      "OMERO table updated successfully (ID: 1514)\n",
      "   ✅ OMERO table updated (ID: 1514)\n",
      "   💾 Auto-saving config...\n",
      "✅ Configuration saved to: c:\\Users\\Maarten\\Documents\\Github\\omero_annotate_ai\\examples\\omero_annotations\\annotation_config.yaml\n",
      "Config state saved to: c:\\Users\\Maarten\\Documents\\Github\\omero_annotate_ai\\examples\\omero_annotations\\annotation_config.yaml\n",
      "   ✅ Config saved\n",
      "✅ Batch 1 completed (2/2 total)\n",
      "object group 0\n",
      "📊 Workflow status updated: 2/2 (100.0%) - complete\n",
      "✅ Configuration saved to: c:\\Users\\Maarten\\Documents\\Github\\omero_annotate_ai\\examples\\omero_annotations\\annotation_config.yaml\n",
      "Config state saved to: c:\\Users\\Maarten\\Documents\\Github\\omero_annotate_ai\\examples\\omero_annotations\\annotation_config.yaml\n",
      "Annotation workflow completed successfully! Processed 2 units\n",
      "\n",
      "🎉 Annotation pipeline completed successfully!\n",
      "❌ Error during annotation pipeline: object of type 'AnnotationConfig' has no len()\n"
     ]
    },
    {
     "name": "stderr",
     "output_type": "stream",
     "text": [
      "Traceback (most recent call last):\n",
      "  File \"C:\\Users\\Maarten\\AppData\\Local\\Temp\\ipykernel_35512\\292021098.py\", line 18, in <module>\n",
      "    print(f\"📊 Processed {len(processed_images)} images\")\n",
      "                          ^^^^^^^^^^^^^^^^^^^^^\n",
      "TypeError: object of type 'AnnotationConfig' has no len()\n"
     ]
    },
    {
     "ename": "TypeError",
     "evalue": "object of type 'AnnotationConfig' has no len()",
     "output_type": "error",
     "traceback": [
      "\u001b[1;31m---------------------------------------------------------------------------\u001b[0m",
      "\u001b[1;31mTypeError\u001b[0m                                 Traceback (most recent call last)",
      "Cell \u001b[1;32mIn[11], line 18\u001b[0m\n\u001b[0;32m     15\u001b[0m table_id, processed_images \u001b[38;5;241m=\u001b[39m pipeline\u001b[38;5;241m.\u001b[39mrun_full_workflow()\n\u001b[0;32m     17\u001b[0m \u001b[38;5;28mprint\u001b[39m(\u001b[38;5;124mf\u001b[39m\u001b[38;5;124m\"\u001b[39m\u001b[38;5;130;01m\\n\u001b[39;00m\u001b[38;5;124m🎉 Annotation pipeline completed successfully!\u001b[39m\u001b[38;5;124m\"\u001b[39m)\n\u001b[1;32m---> 18\u001b[0m \u001b[38;5;28mprint\u001b[39m(\u001b[38;5;124mf\u001b[39m\u001b[38;5;124m\"\u001b[39m\u001b[38;5;124m📊 Processed \u001b[39m\u001b[38;5;132;01m{\u001b[39;00m\u001b[38;5;28;43mlen\u001b[39;49m\u001b[43m(\u001b[49m\u001b[43mprocessed_images\u001b[49m\u001b[43m)\u001b[49m\u001b[38;5;132;01m}\u001b[39;00m\u001b[38;5;124m images\u001b[39m\u001b[38;5;124m\"\u001b[39m)\n\u001b[0;32m     19\u001b[0m \u001b[38;5;28mprint\u001b[39m(\u001b[38;5;124mf\u001b[39m\u001b[38;5;124m\"\u001b[39m\u001b[38;5;124m📋 Tracking table ID: \u001b[39m\u001b[38;5;132;01m{\u001b[39;00mtable_id\u001b[38;5;132;01m}\u001b[39;00m\u001b[38;5;124m\"\u001b[39m)\n\u001b[0;32m     21\u001b[0m \u001b[38;5;28;01mif\u001b[39;00m config\u001b[38;5;241m.\u001b[39mworkflow\u001b[38;5;241m.\u001b[39mread_only_mode:\n",
      "\u001b[1;31mTypeError\u001b[0m: object of type 'AnnotationConfig' has no len()"
     ]
    }
   ],
   "source": [
    "# Run the complete annotation pipeline\n",
    "print(\"🚀 Starting annotation pipeline...\")\n",
    "print(f\"   🔬 Using micro-SAM model: {config.ai_model.model_type}\")\n",
    "\n",
    "if config.processing.batch_size == 0:\n",
    "    print(f\"   ⚡ Processing: All images in one batch\")\n",
    "else:\n",
    "    print(f\"   📦 Processing: Batches of {config.processing.batch_size} images\")\n",
    "\n",
    "print(f\"   🎨 Napari will open for interactive annotation\")\n",
    "print(f\"   📝 Close napari windows when annotation is complete\")\n",
    "\n",
    "try:\n",
    "    # Run the complete workflow - this is the key call!\n",
    "    table_id, processed_images = pipeline.run_full_workflow()\n",
    "    \n",
    "    print(f\"\\n🎉 Annotation pipeline completed successfully!\")\n",
    "    print(f\"📋 Tracking table ID: {table_id}\")\n",
    "    \n",
    "    if config.workflow.read_only_mode:\n",
    "        print(f\"💾 Annotations saved locally to: {config.output.output_directory}\")\n",
    "    else:\n",
    "        print(f\"☁️ Annotations uploaded to OMERO\")\n",
    "        \n",
    "except Exception as e:\n",
    "    print(f\"Error during annotation pipeline: {e}\")\n",
    "    import traceback\n",
    "    traceback.print_exc()\n",
    "    raise"
   ]
  },
  {
   "cell_type": "code",
   "execution_count": null,
   "metadata": {},
   "outputs": [],
   "source": [
    "# Display results summary\n",
    "print(\"📊 Pipeline Results Summary:\")\n",
    "print(f\"   🎯 Training Set: {config.name}\")\n",
    "print(f\"   📋 Tracking Table ID: {table_id}\")\n",
    "print(f\"   📊 Images Processed: {len(processed_images)}\")\n",
    "print(f\"   📦 Container: {config.omero.container_type} (ID: {config.omero.container_id})\")\n",
    "print(f\"   🔬 Model Used: {config.ai_model.model_type}\")\n",
    "print(f\"   📁 Output Location: {config.output.output_directory}\")\n",
    "\n",
    "# Show processed images\n",
    "if processed_images:\n",
    "    print(f\"\\n🖼️ Processed Images:\")\n",
    "    for i, img_obj in enumerate(processed_images[:10]):\n",
    "        if img_obj:\n",
    "            print(f\"   {i + 1}. {img_obj.getName()} (ID: {img_obj.getId()})\")\n",
    "\n",
    "    if len(processed_images) > 10:\n",
    "        print(f\"   ... and {len(processed_images) - 10} more images\")\n",
    "\n",
    "print(f\"\\n✅ Pipeline completed successfully!\")"
   ]
  },
  {
   "cell_type": "code",
   "execution_count": null,
   "metadata": {},
   "outputs": [],
   "source": [
    "# Export configuration for future use\n",
    "config_filename = f\"annotation_config_{config.name}.yaml\"\n",
    "config_path = Path(config.output.output_directory) / config_filename\n",
    "\n",
    "try:\n",
    "    config.save_yaml(config_path)\n",
    "    print(f\"💾 Configuration saved to: {config_path}\")\n",
    "except Exception as e:\n",
    "    print(f\"⚠️ Could not save to output folder, saving to current directory\")\n",
    "    config.save_yaml(config_filename)\n",
    "    print(f\"💾 Configuration saved to: {config_filename}\")\n",
    "\n",
    "print(f\"\\n📋 Configuration Summary:\")\n",
    "print(f\"   Name: {config.name}\")\n",
    "print(f\"   Description: {config.description}\")\n",
    "print(f\"   Output Directory: {config.output.output_directory}\")\n",
    "print(f\"   Model Type: {config.ai_model.model_type}\")\n",
    "\n",
    "print(f\"\\n🔄 To reuse this configuration:\")\n",
    "print(f\"```python\")\n",
    "print(f\"from omero_annotate_ai import load_config\")\n",
    "print(f\"config = load_config('{config_filename}')\")\n",
    "print(f\"```\")"
   ]
  },
  {
   "cell_type": "code",
   "execution_count": null,
   "metadata": {},
   "outputs": [],
   "source": [
    "# Import training widget\n",
    "from omero_annotate_ai import create_training_data_widget\n",
    "\n",
    "print(\"Training Data Selection\")\n",
    "print(\"Select existing annotation tables for training:\")\n",
    "print()\n",
    "\n",
    "# Create and display training data widget\n",
    "training_widget = create_training_data_widget(connection=conn)\n",
    "training_widget.display()"
   ]
  },
  {
   "cell_type": "code",
   "execution_count": null,
   "metadata": {},
   "outputs": [],
   "source": [
    "# Get selected training table\n",
    "selected_table_id = training_widget.get_selected_table_id()\n",
    "selected_table_info = training_widget.get_selected_table_info()\n",
    "\n",
    "if selected_table_id:\n",
    "    print(f\"Selected training table:\")\n",
    "    print(f\"  Table ID: {selected_table_id}\")\n",
    "    print(f\"  Table Name: {selected_table_info.get('name', 'Unknown')}\")\n",
    "    print(f\"  Created: {selected_table_info.get('created', 'Unknown')}\")\n",
    "else:\n",
    "    print(\"No training table selected.\")"
   ]
  },
  {
   "cell_type": "markdown",
   "metadata": {},
   "source": [
    "### Training Data Preparation (Future)\n",
    "\n",
    "When the training data preparation function is implemented, you can use it like this:\n",
    "\n",
    "```python\n",
    "# Future implementation\n",
    "from omero_annotate_ai import prepare_training_data_from_table\n",
    "\n",
    "# Prepare training data automatically\n",
    "training_info = prepare_training_data_from_table(\n",
    "    conn=conn,\n",
    "    table_id=selected_table_id,\n",
    "    output_dir=\"./training_data\"\n",
    ")\n",
    "\n",
    "# Use training_info for micro-SAM training\n",
    "print(f\"Training data ready at: {training_info['paths']}\")\n",
    "```"
   ]
  },
  {
   "cell_type": "markdown",
   "metadata": {},
   "source": [
    "## 6. Cleanup\n",
    "\n",
    "Close the OMERO connection when finished."
   ]
  },
  {
   "cell_type": "code",
   "execution_count": null,
   "metadata": {},
   "outputs": [],
   "source": [
    "# Close OMERO connection\n",
    "if 'conn' in locals() and conn is not None:\n",
    "    conn.close()\n",
    "    print(\"🔌 OMERO connection closed\")\n",
    "\n",
    "print(f\"\\n🎉 Streamlined workflow completed!\")\n",
    "print(f\"📊 Total images processed: {len(processed_images) if 'processed_images' in locals() else 0}\")\n",
    "print(f\"💾 Configuration saved for future use\")\n",
    "print(f\"✨ Ready for next annotation workflow!\")"
   ]
  },
  {
   "cell_type": "markdown",
   "metadata": {},
   "source": []
  }
 ],
 "metadata": {
  "kernelspec": {
   "display_name": "micro-sam",
   "language": "python",
   "name": "python3"
  },
  "language_info": {
   "codemirror_mode": {
    "name": "ipython",
    "version": 3
   },
   "file_extension": ".py",
   "mimetype": "text/x-python",
   "name": "python",
   "nbconvert_exporter": "python",
   "pygments_lexer": "ipython3",
   "version": "3.11.11"
  }
 },
 "nbformat": 4,
 "nbformat_minor": 4
}
