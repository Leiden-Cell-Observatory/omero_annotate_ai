{
 "cells": [
  {
   "cell_type": "markdown",
   "metadata": {},
   "source": [
    "# Prepare OMERO Data for BiaPy training\n",
    "\n",
    "Train AI models using annotation tables from OMERO with automated data preparation."
   ]
  },
  {
   "cell_type": "markdown",
   "metadata": {},
   "source": [
    "## 1. Setup"
   ]
  },
  {
   "cell_type": "code",
   "execution_count": null,
   "metadata": {},
   "outputs": [],
   "source": [
    "# Import the package with training convenience functions\n",
    "from omero_annotate_ai import (\n",
    "    create_omero_connection_widget,\n",
    "    create_training_data_widget,\n",
    "    prepare_training_data_from_table,\n",
    "\n",
    ")\n",
    "\n",
    "# Additional imports\n",
    "import datetime\n",
    "from pathlib import Path\n",
    "import torch\n",
    "\n",
    "print(f\"Check if GPU is available: {'CUDA' if torch.cuda.is_available() else 'CPU'}\")\n"
   ]
  },
  {
   "cell_type": "markdown",
   "metadata": {},
   "source": [
    "## 2. OMERO Connection"
   ]
  },
  {
   "cell_type": "code",
   "execution_count": null,
   "metadata": {},
   "outputs": [],
   "source": [
    "# Create and display OMERO connection widget\n",
    "conn_widget = create_omero_connection_widget()\n",
    "conn_widget.display()"
   ]
  },
  {
   "cell_type": "code",
   "execution_count": null,
   "metadata": {},
   "outputs": [],
   "source": [
    "# Get the OMERO connection\n",
    "conn = conn_widget.get_connection()\n",
    "\n",
    "if conn is None:\n",
    "    raise ConnectionError(\"No OMERO connection established.\")\n",
    "\n",
    "print(f\"Connected to OMERO as: {conn.getUser().getName()}\")"
   ]
  },
  {
   "cell_type": "markdown",
   "metadata": {},
   "source": [
    "## 3. Training Data Selection"
   ]
  },
  {
   "cell_type": "code",
   "execution_count": null,
   "metadata": {},
   "outputs": [],
   "source": [
    "# Create training data selection widget\n",
    "training_widget = create_training_data_widget(connection=conn)\n",
    "training_widget.display()"
   ]
  },
  {
   "cell_type": "code",
   "execution_count": null,
   "metadata": {},
   "outputs": [],
   "source": [
    "# Get selected training table\n",
    "selected_table_id = training_widget.get_selected_table_id()\n",
    "selected_table_info = training_widget.get_selected_table_info()\n",
    "\n",
    "if selected_table_id:\n",
    "    print(f\"Selected training table:\")\n",
    "    print(f\"  Table ID: {selected_table_id}\")\n",
    "    print(f\"  Table Name: {selected_table_info.get('name', 'Unknown')}\")\n",
    "    print(f\"  Created: {selected_table_info.get('created', 'Unknown')}\")\n",
    "else:\n",
    "    raise ValueError(\"No training table selected. Please select a table above.\")"
   ]
  },
  {
   "cell_type": "markdown",
   "metadata": {},
   "source": [
    "## 4. Setup Training Directory"
   ]
  },
  {
   "cell_type": "code",
   "execution_count": null,
   "metadata": {},
   "outputs": [],
   "source": [
    "# Create output directory for training\n",
    "timestamp = datetime.datetime.now().strftime('%Y%m%d_%H%M%S')\n",
    "home_dir = Path.home()\n",
    "models_dir = home_dir / \"dl4mic_data\"\n",
    "models_dir.mkdir(exist_ok=True)\n",
    "\n",
    "folder_name = f\"training_data-{timestamp}\"\n",
    "output_directory = models_dir / folder_name\n",
    "output_directory.mkdir(exist_ok=True)\n",
    "\n",
    "print(f\"Training output directory: {output_directory}\")"
   ]
  },
  {
   "cell_type": "markdown",
   "metadata": {},
   "source": [
    "## 5. Automated Data Preparation\n",
    "\n",
    "Use the automated data preparation function to download and organize training data."
   ]
  },
  {
   "cell_type": "code",
   "execution_count": null,
   "metadata": {},
   "outputs": [],
   "source": [
    "# Run automated data preparation\n",
    "try:\n",
    "    training_result = prepare_training_data_from_table(\n",
    "        conn=conn,\n",
    "        table_id=selected_table_id,\n",
    "        training_name= selected_table_info.get('name', f\"training_table_{selected_table_id}\"),\n",
    "        output_dir=output_directory,\n",
    "        clean_existing=True,\n",
    "        verbose=False  # Set to True for detailed debug output\n",
    "    )\n",
    "    \n",
    "    print(\"\\nTraining data preparation completed successfully!\")\n",
    "    print(f\"\\nDataset statistics:\")\n",
    "    for key, value in training_result['stats'].items():\n",
    "        print(f\"  {key}: {value}\")\n",
    "    \n",
    "    # Store paths for later use in training\n",
    "    training_input_dir = training_result['training_input']\n",
    "    training_label_dir = training_result['training_label']\n",
    "    val_input_dir = training_result['val_input']\n",
    "    val_label_dir = training_result['val_label']\n",
    "    \n",
    "    print(f\"\\nDirectory structure created:\")\n",
    "    print(f\"  Training images: {training_input_dir}\")\n",
    "    print(f\"  Training labels: {training_label_dir}\")\n",
    "    print(f\"  Validation images: {val_input_dir}\")\n",
    "    print(f\"  Validation labels: {val_label_dir}\")\n",
    "\n",
    "    #print path to paste in DL4MicEverywhere as WSL path replace D or c drive with /mnt/d or /mnt/c\n",
    "    print(f\"\\nTo use this data for BiaPy training use the following paths:\")\n",
    "    print(\"These paths can be pasted directly into the BiaPy input fields.\")\n",
    "    print(f\"  Data folder: \\n /mnt/{training_input_dir.drive[:-1].lower()}{output_directory.as_posix()[2:]}\")\n",
    "    (output_directory / 'output').mkdir(parents=True, exist_ok=True)\n",
    "    print(f\"  Output folder: \\n /mnt/{training_input_dir.drive[:-1].lower()}{(output_directory / 'output').as_posix()[2:]}\")\n",
    "        \n",
    "except Exception as e:\n",
    "    print(f\"Error during data preparation: {e}\")\n",
    "    raise"
   ]
  }
 ],
 "metadata": {
  "kernelspec": {
   "display_name": "default",
   "language": "python",
   "name": "python3"
  },
  "language_info": {
   "codemirror_mode": {
    "name": "ipython",
    "version": 3
   },
   "file_extension": ".py",
   "mimetype": "text/x-python",
   "name": "python",
   "nbconvert_exporter": "python",
   "pygments_lexer": "ipython3",
   "version": "3.11.13"
  }
 },
 "nbformat": 4,
 "nbformat_minor": 2
}
