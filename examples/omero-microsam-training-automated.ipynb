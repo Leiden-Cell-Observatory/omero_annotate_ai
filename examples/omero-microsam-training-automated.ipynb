{
 "cells": [
  {
   "cell_type": "markdown",
   "metadata": {},
   "source": [
    "# Micro-SAM Training from OMERO Data (Automated)\n",
    "\n",
    "Train micro-SAM models using annotation tables from OMERO with automated data preparation."
   ]
  },
  {
   "cell_type": "markdown",
   "metadata": {},
   "source": [
    "## 1. Setup"
   ]
  },
  {
   "cell_type": "code",
   "execution_count": 2,
   "metadata": {},
   "outputs": [
    {
     "name": "stdout",
     "output_type": "stream",
     "text": [
      "Available functions: Connection, Training Data, Training Utils\n",
      "Device available: CPU\n"
     ]
    }
   ],
   "source": [
    "# Import the package with training convenience functions\n",
    "from omero_annotate_ai import (\n",
    "    create_omero_connection_widget,\n",
    "    create_training_data_widget,\n",
    "    prepare_training_data_from_table,\n",
    "    setup_training,    # Convenience function for training setup\n",
    "    run_training       # Convenience function for training execution\n",
    ")\n",
    "\n",
    "# Additional imports\n",
    "import datetime\n",
    "from pathlib import Path\n",
    "import torch\n",
    "\n",
    "print(f\"Available functions: Connection, Training Data, Training Utils\")\n",
    "print(f\"Device available: {'CUDA' if torch.cuda.is_available() else 'CPU'}\")\n"
   ]
  },
  {
   "cell_type": "markdown",
   "metadata": {},
   "source": [
    "## 2. OMERO Connection"
   ]
  },
  {
   "cell_type": "code",
   "execution_count": null,
   "metadata": {},
   "outputs": [
    {
     "name": "stdout",
     "output_type": "stream",
     "text": [
      "📄 Loaded configuration from connection history: root@localhost\n",
      "🔐 Password loaded from keychain (no expiration)\n"
     ]
    },
    {
     "data": {
      "application/vnd.jupyter.widget-view+json": {
       "model_id": "b0533240092b42de92736fc20cbfacb2",
       "version_major": 2,
       "version_minor": 0
      },
      "text/plain": [
       "VBox(children=(HTML(value='<h3>🔌 OMERO Server Connection</h3>', layout=Layout(margin='0 0 20px 0')), HTML(valu…"
      ]
     },
     "metadata": {},
     "output_type": "display_data"
    }
   ],
   "source": [
    "# Create and display OMERO connection widget\n",
    "conn_widget = create_omero_connection_widget()\n",
    "conn_widget.display()"
   ]
  },
  {
   "cell_type": "code",
   "execution_count": 5,
   "metadata": {},
   "outputs": [
    {
     "name": "stdout",
     "output_type": "stream",
     "text": [
      "Connected to OMERO as: root\n"
     ]
    }
   ],
   "source": [
    "# Get the OMERO connection\n",
    "conn = conn_widget.get_connection()\n",
    "\n",
    "if conn is None:\n",
    "    raise ConnectionError(\"No OMERO connection established.\")\n",
    "\n",
    "print(f\"Connected to OMERO as: {conn.getUser().getName()}\")"
   ]
  },
  {
   "cell_type": "markdown",
   "metadata": {},
   "source": [
    "## 3. Training Data Selection"
   ]
  },
  {
   "cell_type": "code",
   "execution_count": 6,
   "metadata": {},
   "outputs": [
    {
     "data": {
      "application/vnd.jupyter.widget-view+json": {
       "model_id": "c921abbd53ae4040ba58623b59213487",
       "version_major": 2,
       "version_minor": 0
      },
      "text/plain": [
       "VBox(children=(HTML(value='<h3>🎯 Training Data Selection</h3>', layout=Layout(margin='0 0 20px 0')), HTML(valu…"
      ]
     },
     "metadata": {},
     "output_type": "display_data"
    }
   ],
   "source": [
    "# Create training data selection widget\n",
    "training_widget = create_training_data_widget(connection=conn)\n",
    "training_widget.display()"
   ]
  },
  {
   "cell_type": "code",
   "execution_count": 7,
   "metadata": {},
   "outputs": [
    {
     "name": "stdout",
     "output_type": "stream",
     "text": [
      "Selected training table:\n",
      "  Table ID: 1373\n",
      "  Table Name: micro_sam_training_micro_sam_foci_test_20250823_105428\n",
      "  Created: Unknown\n"
     ]
    }
   ],
   "source": [
    "# Get selected training table\n",
    "selected_table_id = training_widget.get_selected_table_id()\n",
    "selected_table_info = training_widget.get_selected_table_info()\n",
    "\n",
    "if selected_table_id:\n",
    "    print(f\"Selected training table:\")\n",
    "    print(f\"  Table ID: {selected_table_id}\")\n",
    "    print(f\"  Table Name: {selected_table_info.get('name', 'Unknown')}\")\n",
    "    print(f\"  Created: {selected_table_info.get('created', 'Unknown')}\")\n",
    "else:\n",
    "    raise ValueError(\"No training table selected. Please select a table above.\")"
   ]
  },
  {
   "cell_type": "markdown",
   "metadata": {},
   "source": [
    "## 4. Setup Training Directory"
   ]
  },
  {
   "cell_type": "code",
   "execution_count": 8,
   "metadata": {},
   "outputs": [
    {
     "name": "stdout",
     "output_type": "stream",
     "text": [
      "Training output directory: C:\\Users\\Maarten\\micro-sam_models\\micro-sam-20250824_111457\n"
     ]
    }
   ],
   "source": [
    "# Create output directory for training\n",
    "timestamp = datetime.datetime.now().strftime('%Y%m%d_%H%M%S')\n",
    "home_dir = Path.home()\n",
    "models_dir = home_dir / \"micro-sam_models\"\n",
    "models_dir.mkdir(exist_ok=True)\n",
    "\n",
    "folder_name = f\"micro-sam-{timestamp}\"\n",
    "output_directory = models_dir / folder_name\n",
    "output_directory.mkdir(exist_ok=True)\n",
    "\n",
    "print(f\"Training output directory: {output_directory}\")"
   ]
  },
  {
   "cell_type": "markdown",
   "metadata": {},
   "source": [
    "## 5. Automated Data Preparation\n",
    "\n",
    "Use the automated data preparation function to download and organize training data."
   ]
  },
  {
   "cell_type": "code",
   "execution_count": 9,
   "metadata": {},
   "outputs": [
    {
     "name": "stdout",
     "output_type": "stream",
     "text": [
      "Loaded table with 3 rows\n",
      "Table schema validated for processing\n",
      "Using 2 training images and 1 validation images\n"
     ]
    },
    {
     "name": "stderr",
     "output_type": "stream",
     "text": [
      "Preparing training data:   0%|          | 0/2 [00:00<?, ?it/s]INFO:omero.gateway:Registered 480f3c2e-5dd6-4977-b35c-94b060bb1e30/45d223fb-33aa-4f46-82f6-7642b604272fomero.api.RawPixelsStore -t -e 1.1:tcp -h 172.19.0.8 -p 34317 -t 60000\n",
      "INFO:omero.gateway:Unregistered 480f3c2e-5dd6-4977-b35c-94b060bb1e30/45d223fb-33aa-4f46-82f6-7642b604272fomero.api.RawPixelsStore -t -e 1.1:tcp -h 172.19.0.8 -p 34317 -t 60000\n",
      "Preparing training data:  50%|█████     | 1/2 [00:03<00:03,  3.97s/it]INFO:omero.gateway:Registered 480f3c2e-5dd6-4977-b35c-94b060bb1e30/ea9621dd-c63f-4ff5-82c2-d99880270c58omero.api.RawPixelsStore -t -e 1.1:tcp -h 172.19.0.8 -p 34317 -t 60000\n",
      "INFO:omero.gateway:Unregistered 480f3c2e-5dd6-4977-b35c-94b060bb1e30/ea9621dd-c63f-4ff5-82c2-d99880270c58omero.api.RawPixelsStore -t -e 1.1:tcp -h 172.19.0.8 -p 34317 -t 60000\n",
      "Preparing training data: 100%|██████████| 2/2 [00:04<00:00,  2.37s/it]\n",
      "Preparing val data:   0%|          | 0/1 [00:00<?, ?it/s]INFO:omero.gateway:Registered 480f3c2e-5dd6-4977-b35c-94b060bb1e30/abf0956d-6f8c-46ea-aede-0211781f4fd3omero.api.RawPixelsStore -t -e 1.1:tcp -h 172.19.0.8 -p 34317 -t 60000\n",
      "INFO:omero.gateway:Unregistered 480f3c2e-5dd6-4977-b35c-94b060bb1e30/abf0956d-6f8c-46ea-aede-0211781f4fd3omero.api.RawPixelsStore -t -e 1.1:tcp -h 172.19.0.8 -p 34317 -t 60000\n",
      "Preparing val data: 100%|██████████| 1/1 [00:00<00:00,  1.52it/s]"
     ]
    },
    {
     "name": "stdout",
     "output_type": "stream",
     "text": [
      "✅ Training data prepared successfully in: C:\\Users\\Maarten\\micro-sam_models\\micro-sam-20250824_111457\n",
      "Statistics: {'n_training_images': 2, 'n_training_labels': 2, 'n_val_images': 1, 'n_val_labels': 1, 'total_rows_processed': 3}\n",
      "\n",
      "Training data preparation completed successfully!\n",
      "\n",
      "Dataset statistics:\n",
      "  n_training_images: 2\n",
      "  n_training_labels: 2\n",
      "  n_val_images: 1\n",
      "  n_val_labels: 1\n",
      "  total_rows_processed: 3\n",
      "\n",
      "Directory structure created:\n",
      "  Training images: C:\\Users\\Maarten\\micro-sam_models\\micro-sam-20250824_111457\\training_input\n",
      "  Training labels: C:\\Users\\Maarten\\micro-sam_models\\micro-sam-20250824_111457\\training_label\n",
      "  Validation images: C:\\Users\\Maarten\\micro-sam_models\\micro-sam-20250824_111457\\val_input\n",
      "  Validation labels: C:\\Users\\Maarten\\micro-sam_models\\micro-sam-20250824_111457\\val_label\n"
     ]
    },
    {
     "name": "stderr",
     "output_type": "stream",
     "text": [
      "\n"
     ]
    }
   ],
   "source": [
    "# Run automated data preparation\n",
    "try:\n",
    "    training_result = prepare_training_data_from_table(\n",
    "        conn=conn,\n",
    "        table_id=selected_table_id,\n",
    "        output_dir=output_directory,\n",
    "        validation_split=0.2,  # 20% for validation\n",
    "        clean_existing=True\n",
    "    )\n",
    "    \n",
    "    print(\"\\nTraining data preparation completed successfully!\")\n",
    "    print(f\"\\nDataset statistics:\")\n",
    "    for key, value in training_result['stats'].items():\n",
    "        print(f\"  {key}: {value}\")\n",
    "    \n",
    "    # Store paths for later use in training\n",
    "    training_input_dir = training_result['training_input']\n",
    "    training_label_dir = training_result['training_label']\n",
    "    val_input_dir = training_result['val_input']\n",
    "    val_label_dir = training_result['val_label']\n",
    "    \n",
    "    print(f\"\\nDirectory structure created:\")\n",
    "    print(f\"  Training images: {training_input_dir}\")\n",
    "    print(f\"  Training labels: {training_label_dir}\")\n",
    "    print(f\"  Validation images: {val_input_dir}\")\n",
    "    print(f\"  Validation labels: {val_label_dir}\")\n",
    "    \n",
    "except Exception as e:\n",
    "    print(f\"Error during data preparation: {e}\")\n",
    "    raise"
   ]
  },
  {
   "cell_type": "markdown",
   "metadata": {},
   "source": [
    "## 6. Micro-SAM Training Setup\n",
    "\n",
    "Configure and run micro-SAM training using the prepared data."
   ]
  },
  {
   "cell_type": "code",
   "execution_count": 12,
   "metadata": {},
   "outputs": [
    {
     "name": "stdout",
     "output_type": "stream",
     "text": [
      "Training configuration prepared!\n",
      "Model name: micro_sam_training_20250824_111602\n",
      "Output directory: C:\\Users\\Maarten\\micro-sam_models\\micro-sam-20250824_111457\n",
      "Training epochs: 10\n",
      "Calculated iterations: 20\n"
     ]
    }
   ],
   "source": [
    "# ✨ Setup training configuration using convenience function\n",
    "training_config = setup_training(\n",
    "    training_result,\n",
    "    epochs=10,               # Primary parameter: number of epochs (use 50+ for real training)\n",
    "    batch_size=1,            # Adjust based on GPU memory\n",
    "    learning_rate=1e-5,      # Conservative learning rate\n",
    "    patch_shape=(512, 512),  # Input patch size\n",
    "    model_type=\"vit_b\",       # SAM model variant\n",
    "    n_objects_per_batch=25   # Objects per batch for sampling\n",
    ")\n",
    "\n",
    "print(\"Training configuration prepared!\")\n",
    "print(f'Model name: {training_config[\"model_name\"]}')\n",
    "print(f'Output directory: {training_config[\"output_dir\"]}')\n",
    "print(f'Training epochs: {training_config[\"epochs\"]}')\n",
    "print(f'Calculated iterations: {training_config[\"n_iterations\"]}')\n"
   ]
  },
  {
   "cell_type": "code",
   "execution_count": 14,
   "metadata": {},
   "outputs": [
    {
     "name": "stdout",
     "output_type": "stream",
     "text": [
      "Starting micro-SAM training...\n",
      "Starting micro-SAM training...\n",
      "Model name: micro_sam_training_20250824_111602\n",
      "Model type: vit_b\n",
      "Training configuration:\n",
      "  Patch shape: (512, 512)\n",
      "  Batch size: 1\n",
      "  Learning rate: 1e-05\n",
      "  Iterations: 20\n",
      "  Objects per batch: 25\n",
      "  Checkpoint folder: C:\\Users\\Maarten\\micro-sam_models\\micro-sam-20250824_111457\\checkpoints\n"
     ]
    },
    {
     "ename": "AttributeError",
     "evalue": "module 'micro_sam.training' has no attribute 'get_sam_loader'",
     "output_type": "error",
     "traceback": [
      "\u001b[1;31m---------------------------------------------------------------------------\u001b[0m",
      "\u001b[1;31mAttributeError\u001b[0m                            Traceback (most recent call last)",
      "Cell \u001b[1;32mIn[14], line 4\u001b[0m\n\u001b[0;32m      1\u001b[0m \u001b[38;5;66;03m# ✨ Execute training with convenience function\u001b[39;00m\n\u001b[0;32m      2\u001b[0m \u001b[38;5;28mprint\u001b[39m(\u001b[38;5;124m\"\u001b[39m\u001b[38;5;124mStarting micro-SAM training...\u001b[39m\u001b[38;5;124m\"\u001b[39m)\n\u001b[1;32m----> 4\u001b[0m training_results \u001b[38;5;241m=\u001b[39m \u001b[43mrun_training\u001b[49m\u001b[43m(\u001b[49m\u001b[43mtraining_config\u001b[49m\u001b[43m,\u001b[49m\u001b[43m \u001b[49m\u001b[43mframework\u001b[49m\u001b[38;5;241;43m=\u001b[39;49m\u001b[38;5;124;43m\"\u001b[39;49m\u001b[38;5;124;43mmicrosam\u001b[39;49m\u001b[38;5;124;43m\"\u001b[39;49m\u001b[43m)\u001b[49m\n\u001b[0;32m      6\u001b[0m \u001b[38;5;28mprint\u001b[39m(\u001b[38;5;124mf\u001b[39m\u001b[38;5;124m'\u001b[39m\u001b[38;5;124m🎉 Training completed successfully!\u001b[39m\u001b[38;5;124m'\u001b[39m)\n\u001b[0;32m      7\u001b[0m \u001b[38;5;28mprint\u001b[39m(\u001b[38;5;124mf\u001b[39m\u001b[38;5;124m'\u001b[39m\u001b[38;5;124mTraining Results:\u001b[39m\u001b[38;5;124m'\u001b[39m)\n",
      "File \u001b[1;32mc:\\Users\\Maarten\\miniforge3\\envs\\micro-sam\\Lib\\site-packages\\omero_annotate_ai\\processing\\training_utils.py:144\u001b[0m, in \u001b[0;36mrun_training\u001b[1;34m(training_config, framework)\u001b[0m\n\u001b[0;32m    129\u001b[0m \u001b[38;5;250m\u001b[39m\u001b[38;5;124;03m\"\"\"\u001b[39;00m\n\u001b[0;32m    130\u001b[0m \u001b[38;5;124;03mExecute training with framework-specific implementation.\u001b[39;00m\n\u001b[0;32m    131\u001b[0m \u001b[38;5;124;03m\u001b[39;00m\n\u001b[1;32m   (...)\u001b[0m\n\u001b[0;32m    141\u001b[0m \u001b[38;5;124;03m    ImportError: If required framework packages are not available\u001b[39;00m\n\u001b[0;32m    142\u001b[0m \u001b[38;5;124;03m\"\"\"\u001b[39;00m\n\u001b[0;32m    143\u001b[0m \u001b[38;5;28;01mif\u001b[39;00m framework\u001b[38;5;241m.\u001b[39mlower() \u001b[38;5;241m==\u001b[39m \u001b[38;5;124m\"\u001b[39m\u001b[38;5;124mmicrosam\u001b[39m\u001b[38;5;124m\"\u001b[39m:\n\u001b[1;32m--> 144\u001b[0m     \u001b[38;5;28;01mreturn\u001b[39;00m \u001b[43m_run_microsam_training\u001b[49m\u001b[43m(\u001b[49m\u001b[43mtraining_config\u001b[49m\u001b[43m)\u001b[49m\n\u001b[0;32m    145\u001b[0m \u001b[38;5;28;01melse\u001b[39;00m:\n\u001b[0;32m    146\u001b[0m     supported_frameworks \u001b[38;5;241m=\u001b[39m [\u001b[38;5;124m\"\u001b[39m\u001b[38;5;124mmicrosam\u001b[39m\u001b[38;5;124m\"\u001b[39m]\n",
      "File \u001b[1;32mc:\\Users\\Maarten\\miniforge3\\envs\\micro-sam\\Lib\\site-packages\\omero_annotate_ai\\processing\\training_utils.py:193\u001b[0m, in \u001b[0;36m_run_microsam_training\u001b[1;34m(config)\u001b[0m\n\u001b[0;32m    190\u001b[0m \u001b[38;5;66;03m# Create data loaders\u001b[39;00m\n\u001b[0;32m    191\u001b[0m sampler \u001b[38;5;241m=\u001b[39m MinInstanceSampler()\n\u001b[1;32m--> 193\u001b[0m train_loader \u001b[38;5;241m=\u001b[39m \u001b[43msam_training\u001b[49m\u001b[38;5;241;43m.\u001b[39;49m\u001b[43mget_sam_loader\u001b[49m(\n\u001b[0;32m    194\u001b[0m     raw_paths\u001b[38;5;241m=\u001b[39m\u001b[38;5;28mstr\u001b[39m(config[\u001b[38;5;124m'\u001b[39m\u001b[38;5;124mtraining_input\u001b[39m\u001b[38;5;124m'\u001b[39m]),\n\u001b[0;32m    195\u001b[0m     raw_key\u001b[38;5;241m=\u001b[39m\u001b[38;5;124m\"\u001b[39m\u001b[38;5;124m*.tif\u001b[39m\u001b[38;5;124m\"\u001b[39m,\n\u001b[0;32m    196\u001b[0m     label_paths\u001b[38;5;241m=\u001b[39m\u001b[38;5;28mstr\u001b[39m(config[\u001b[38;5;124m'\u001b[39m\u001b[38;5;124mtraining_label\u001b[39m\u001b[38;5;124m'\u001b[39m]),\n\u001b[0;32m    197\u001b[0m     label_key\u001b[38;5;241m=\u001b[39m\u001b[38;5;124m\"\u001b[39m\u001b[38;5;124m*.tif\u001b[39m\u001b[38;5;124m\"\u001b[39m,\n\u001b[0;32m    198\u001b[0m     patch_shape\u001b[38;5;241m=\u001b[39mconfig[\u001b[38;5;124m'\u001b[39m\u001b[38;5;124mpatch_shape\u001b[39m\u001b[38;5;124m'\u001b[39m],\n\u001b[0;32m    199\u001b[0m     batch_size\u001b[38;5;241m=\u001b[39mconfig[\u001b[38;5;124m'\u001b[39m\u001b[38;5;124mbatch_size\u001b[39m\u001b[38;5;124m'\u001b[39m],\n\u001b[0;32m    200\u001b[0m     sampler\u001b[38;5;241m=\u001b[39msampler,\n\u001b[0;32m    201\u001b[0m     n_samples\u001b[38;5;241m=\u001b[39mconfig[\u001b[38;5;124m'\u001b[39m\u001b[38;5;124mn_objects_per_batch\u001b[39m\u001b[38;5;124m'\u001b[39m],\n\u001b[0;32m    202\u001b[0m )\n\u001b[0;32m    204\u001b[0m val_loader \u001b[38;5;241m=\u001b[39m sam_training\u001b[38;5;241m.\u001b[39mget_sam_loader(\n\u001b[0;32m    205\u001b[0m     raw_paths\u001b[38;5;241m=\u001b[39m\u001b[38;5;28mstr\u001b[39m(config[\u001b[38;5;124m'\u001b[39m\u001b[38;5;124mval_input\u001b[39m\u001b[38;5;124m'\u001b[39m]),\n\u001b[0;32m    206\u001b[0m     raw_key\u001b[38;5;241m=\u001b[39m\u001b[38;5;124m\"\u001b[39m\u001b[38;5;124m*.tif\u001b[39m\u001b[38;5;124m\"\u001b[39m,\n\u001b[1;32m   (...)\u001b[0m\n\u001b[0;32m    212\u001b[0m     n_samples\u001b[38;5;241m=\u001b[39mconfig[\u001b[38;5;124m'\u001b[39m\u001b[38;5;124mn_objects_per_batch\u001b[39m\u001b[38;5;124m'\u001b[39m],\n\u001b[0;32m    213\u001b[0m )\n\u001b[0;32m    215\u001b[0m \u001b[38;5;28mprint\u001b[39m(\u001b[38;5;124m\"\u001b[39m\u001b[38;5;124mData loaders created successfully!\u001b[39m\u001b[38;5;124m\"\u001b[39m)\n",
      "\u001b[1;31mAttributeError\u001b[0m: module 'micro_sam.training' has no attribute 'get_sam_loader'"
     ]
    }
   ],
   "source": [
    "# ✨ Execute training with convenience function\n",
    "print(\"Starting micro-SAM training...\")\n",
    "\n",
    "training_results = run_training(training_config, framework=\"microsam\")\n",
    "\n",
    "print(f'🎉 Training completed successfully!')\n",
    "print(f'Training Results:')\n",
    "print(f'  Model name: {training_results[\"model_name\"]}')\n",
    "print(f'  Final model: {training_results.get(\"final_model_path\", \"Not available\")}')\n",
    "print(f'  Checkpoints saved: {len(training_results.get(\"checkpoints\", []))}')\n",
    "print(f'  Output directory: {training_results[\"output_dir\"]}')\n"
   ]
  },
  {
   "cell_type": "markdown",
   "metadata": {},
   "source": [
    "## 7. Model Export and Summary"
   ]
  },
  {
   "cell_type": "code",
   "execution_count": null,
   "metadata": {},
   "outputs": [],
   "source": [
    "# Find the best checkpoint\n",
    "checkpoints = list(checkpoint_folder.glob(\"*.pt\"))\n",
    "if checkpoints:\n",
    "    latest_checkpoint = sorted(checkpoints)[-1]\n",
    "    print(f\"Latest checkpoint: {latest_checkpoint}\")\n",
    "    \n",
    "    # Export model for inference\n",
    "    export_path = output_directory / f\"{model_name}_final.pt\"\n",
    "    print(f\"Model exported to: {export_path}\")\n",
    "else:\n",
    "    print(\"No checkpoints found.\")\n",
    "\n",
    "print(f\"\\nTraining summary:\")\n",
    "print(f\"  Output directory: {output_directory}\")\n",
    "print(f\"  Model name: {model_name}\")\n",
    "print(f\"  Training completed with {n_iterations} iterations\")\n",
    "print(f\"  Dataset statistics: {training_result['stats']}\")"
   ]
  },
  {
   "cell_type": "markdown",
   "metadata": {},
   "source": [
    "## 8. Cleanup"
   ]
  },
  {
   "cell_type": "code",
   "execution_count": null,
   "metadata": {},
   "outputs": [],
   "source": [
    "# Close OMERO connection\n",
    "if conn is not None:\n",
    "    conn.close()\n",
    "    print(\"OMERO connection closed.\")\n",
    "else:\n",
    "    print(\"No active OMERO connection to close.\")"
   ]
  }
 ],
 "metadata": {
  "kernelspec": {
   "display_name": "micro-sam",
   "language": "python",
   "name": "python3"
  },
  "language_info": {
   "codemirror_mode": {
    "name": "ipython",
    "version": 3
   },
   "file_extension": ".py",
   "mimetype": "text/x-python",
   "name": "python",
   "nbconvert_exporter": "python",
   "pygments_lexer": "ipython3",
   "version": "3.11.11"
  }
 },
 "nbformat": 4,
 "nbformat_minor": 2
}
